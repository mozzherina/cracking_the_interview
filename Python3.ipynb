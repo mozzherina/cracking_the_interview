{
 "cells": [
  {
   "cell_type": "markdown",
   "metadata": {},
   "source": [
    "# Stacks and Queues"
   ]
  },
  {
   "cell_type": "markdown",
   "metadata": {},
   "source": [
    "__Stack__ can be simulated wth the list:\n",
    "\n",
    " - pop(): Remove the top item from the stack, `[1, 2].pop()`\n",
    " - push(item): Add an item to the top of the stack, `[1].append(2)`\n",
    " - peek(): Return the top of the stack, `[1, 2][-1]`\n",
    " - isEmpty(): Return true if and only if the stack is empty, `not []`\n",
    "\n",
    "__OR__ can use `class queue.LifoQueue(maxsize)`"
   ]
  },
  {
   "cell_type": "code",
   "execution_count": 2,
   "metadata": {},
   "outputs": [
    {
     "name": "stdout",
     "output_type": "stream",
     "text": [
      "[1]\n",
      "2\n"
     ]
    }
   ],
   "source": [
    "x = [1, 2]\n",
    "y = x.pop()\n",
    "print(x)\n",
    "print(y)"
   ]
  },
  {
   "cell_type": "code",
   "execution_count": 5,
   "metadata": {},
   "outputs": [
    {
     "name": "stdout",
     "output_type": "stream",
     "text": [
      "[1, 2]\n",
      "None\n"
     ]
    }
   ],
   "source": [
    "x = [1]\n",
    "y = x.append(2)\n",
    "print(x)\n",
    "print(y)"
   ]
  },
  {
   "cell_type": "code",
   "execution_count": 6,
   "metadata": {},
   "outputs": [
    {
     "data": {
      "text/plain": [
       "2"
      ]
     },
     "execution_count": 6,
     "metadata": {},
     "output_type": "execute_result"
    }
   ],
   "source": [
    "[1, 2][-1]"
   ]
  },
  {
   "cell_type": "code",
   "execution_count": 1,
   "metadata": {},
   "outputs": [
    {
     "data": {
      "text/plain": [
       "True"
      ]
     },
     "execution_count": 1,
     "metadata": {},
     "output_type": "execute_result"
    }
   ],
   "source": [
    "not []"
   ]
  },
  {
   "cell_type": "markdown",
   "metadata": {},
   "source": [
    "__Queue__ is implemented in a module `queue`, `class queue.Queue(maxsize)`\n",
    "\n",
    "If maxsize == 0, then endless queue.\n",
    "\n",
    "- add(item): Add an item to the end of the list, `put(item)`\n",
    "- remove(): Remove the first item in the list, `get()`\n",
    "- peek(): Return the top of the queue.\n",
    "- isEmpty(): Return true if and only if the queue is empty, `empty()`\n",
    "\n",
    "`class queue.PriorityQueue(maxsize): (priority, data)`"
   ]
  },
  {
   "cell_type": "code",
   "execution_count": 1,
   "metadata": {},
   "outputs": [
    {
     "name": "stdout",
     "output_type": "stream",
     "text": [
      "eat\n",
      "sleep\n",
      "code\n"
     ]
    }
   ],
   "source": [
    "from queue import Queue\n",
    "q = Queue()\n",
    " \n",
    "q.put('eat')\n",
    "q.put('sleep')\n",
    "q.put('code')\n",
    " \n",
    "print(q.get())\n",
    "print(q.get())\n",
    "print(q.get())\n",
    " \n",
    "# error empty\n",
    "# q.get_nowait()\n",
    "# endless waiting\n",
    "# q.get() "
   ]
  },
  {
   "cell_type": "markdown",
   "metadata": {},
   "source": [
    "----\n",
    "__3.1 Three in One:__ Describe how you could use a single array to implement three stacks.\n",
    "\n",
    "- divide in three, keep links to the top.\n",
    "- divide in three, if not enough space, then shift"
   ]
  },
  {
   "cell_type": "markdown",
   "metadata": {},
   "source": [
    "----\n",
    "__3.2 Stack Min:__ How would you design a stack which, in addition to push and pop, has a function min which returns the minimum element? Push, pop and min should all operate in O(1) time.\n",
    "\n",
    "- keep second stack of mins"
   ]
  },
  {
   "cell_type": "code",
   "execution_count": 12,
   "metadata": {},
   "outputs": [],
   "source": [
    "class Stack:\n",
    "\n",
    "    def __init__(self):\n",
    "        self._data = []\n",
    "        self._min = [] # stack of mins\n",
    "        \n",
    "    def min(self):\n",
    "        if len(self._min) > 0:\n",
    "            return self._min[-1]\n",
    "        return None \n",
    "    \n",
    "    def peek(self):\n",
    "        if len(self._data) > 0:\n",
    "            return self._data[-1]\n",
    "        return None\n",
    "    \n",
    "    def push(self, x):\n",
    "        self._data.append(x)\n",
    "        if (self.min() is None)  or (x <= self.min()):\n",
    "            self._min.append(x)\n",
    "        \n",
    "    def pop(self):\n",
    "        if len(self._data) > 0:\n",
    "            x = self._data.pop() \n",
    "            if self.min() == x:\n",
    "                self._min.pop() \n",
    "            return x\n",
    "    \n",
    "    def isEmpty(self):\n",
    "        return not bool(self._data)"
   ]
  },
  {
   "cell_type": "code",
   "execution_count": 13,
   "metadata": {},
   "outputs": [
    {
     "name": "stdout",
     "output_type": "stream",
     "text": [
      "False\n",
      "min 1\n",
      "on top 1\n",
      "pop 1\n",
      "min 2\n",
      "pop 2\n",
      "min None\n",
      "True\n"
     ]
    }
   ],
   "source": [
    "s = Stack()\n",
    "s.push(2)\n",
    "s.push(1)\n",
    "print(s.isEmpty())\n",
    "print('min %s' % s.min())\n",
    "print('on top %s' % s.peek())\n",
    "print('pop %s' % s.pop())\n",
    "print('min %s' % s.min())\n",
    "print('pop %s' % s.pop())\n",
    "print('min %s' % s.min())\n",
    "print(s.isEmpty())"
   ]
  },
  {
   "cell_type": "markdown",
   "metadata": {},
   "source": [
    "----\n",
    "__3.3 Stack of Plates:__ Imagine a (literal) stack of plates. If the stack gets too high, it might topple. Therefore, in real life, we would likely start a new stack when the previous stack exceeds some threshold. Implement a data structure SetOfStacks that mimics this. SetOfStacks should be composed of several stacks and should create a new stack once the previous one exceeds capacity. `SetOfStacks.push()` and `SetOfStacks.pop()` should behave identically to a single stack (that is, pop() should return the same values as it would if there were just a single stack).\n",
    "\n",
    "FOLLOW UP\n",
    "Implement a function popAt(int index) which performs a pop operation on a specific sub-stack.\n",
    "\n",
    "- could be implemented with a rollover approach, without empty stacks in the middle"
   ]
  },
  {
   "cell_type": "code",
   "execution_count": 59,
   "metadata": {},
   "outputs": [],
   "source": [
    "from typing import Optional\n",
    "\n",
    "class Stack:\n",
    "    def __init__(self, maxsize: int) -> None:\n",
    "        self._data = []\n",
    "        self._size = 0\n",
    "        self.MAXSIZE = maxsize\n",
    "        \n",
    "    def push(self, value:int) -> bool:\n",
    "        if self._size < self.MAXSIZE:\n",
    "            self._data.append(value)\n",
    "            self._size += 1\n",
    "            return True\n",
    "        else:\n",
    "            return False\n",
    "    \n",
    "    def pop(self) -> Optional[int]:\n",
    "        if self._data:\n",
    "            self._size -= 1 \n",
    "            return self._data.pop()\n",
    "        else:\n",
    "            return None\n",
    "\n",
    "class SetOfStack:\n",
    "    \n",
    "    def __init__(self, maxsize:int) -> None:\n",
    "        if maxsize <= 0:\n",
    "            raise KeyError('Size must be greater than 0')\n",
    "        self._stacks = []\n",
    "        self.MAXSIZE = maxsize\n",
    "        \n",
    "    def push(self, value:int) -> bool:\n",
    "        if (not self._stacks) or (not self._stacks[-1].push(value)):\n",
    "            self._stacks.append(Stack(self.MAXSIZE))\n",
    "            self._stacks[-1].push(value)\n",
    "        \n",
    "    def pop(self) -> Optional[int]:\n",
    "        value = self._stacks[-1].pop() if self._stacks else None\n",
    "        while (value is None) and (len(self._stacks) > 0):\n",
    "            self._stacks.pop()\n",
    "            if self._stacks:\n",
    "                value = self._stacks[-1].pop()\n",
    "        return value\n",
    "    \n",
    "    def popAt(self, index: int) -> Optional[int]:\n",
    "        if len(self._stacks) > index:\n",
    "            return self._stacks[index].pop()\n",
    "        else:\n",
    "            return None"
   ]
  },
  {
   "cell_type": "code",
   "execution_count": 63,
   "metadata": {},
   "outputs": [],
   "source": [
    "plates = SetOfStack(3)\n",
    "for i in range(8):\n",
    "    plates.push(i)"
   ]
  },
  {
   "cell_type": "code",
   "execution_count": 64,
   "metadata": {},
   "outputs": [
    {
     "data": {
      "text/plain": [
       "5"
      ]
     },
     "execution_count": 64,
     "metadata": {},
     "output_type": "execute_result"
    }
   ],
   "source": [
    "plates.popAt(1)"
   ]
  },
  {
   "cell_type": "code",
   "execution_count": 65,
   "metadata": {},
   "outputs": [
    {
     "name": "stdout",
     "output_type": "stream",
     "text": [
      "7\n",
      "6\n",
      "4\n",
      "3\n",
      "2\n",
      "1\n",
      "0\n",
      "None\n",
      "None\n",
      "None\n"
     ]
    }
   ],
   "source": [
    "for i in range(10):\n",
    "    print(plates.pop())"
   ]
  },
  {
   "cell_type": "markdown",
   "metadata": {},
   "source": [
    "----\n",
    "__3.4 Queue via Stacks:__ Implement a MyQueue class which implements a queue using two stacks.\n",
    "\n",
    "- from time to time, push all elements into another stack, thus providing a reverse order"
   ]
  },
  {
   "cell_type": "code",
   "execution_count": 25,
   "metadata": {},
   "outputs": [],
   "source": [
    "from typing import Optional\n",
    "\n",
    "class Stack:\n",
    "    def __init__(self) -> None:\n",
    "        self._data = []\n",
    "        \n",
    "    def push(self, value:int) -> None:\n",
    "        self._data.append(value)\n",
    "            \n",
    "    def pop(self) -> Optional[int]:\n",
    "        if self._data:\n",
    "            return self._data.pop()\n",
    "    \n",
    "    def isEmpty(self) -> bool:\n",
    "        return not self._data\n",
    "            \n",
    "class MyQueue:\n",
    "    def __init__(self) -> None:\n",
    "        self._newest = Stack()\n",
    "        self._oldest = Stack()\n",
    "        \n",
    "    def _shift(self) -> None:\n",
    "        if self._oldest.isEmpty():\n",
    "            while not self._newest.isEmpty():\n",
    "                self._oldest.push(self._newest.pop())\n",
    "        \n",
    "    def add(self, value:int) -> None:\n",
    "        self._newest.push(value)\n",
    "        \n",
    "    def remove(self) -> Optional[int]:\n",
    "        self._shift()\n",
    "        return self._oldest.pop()\n",
    "        "
   ]
  },
  {
   "cell_type": "code",
   "execution_count": 34,
   "metadata": {},
   "outputs": [],
   "source": [
    "q = MyQueue()\n",
    "for i in range(5):\n",
    "    q.add(i)"
   ]
  },
  {
   "cell_type": "code",
   "execution_count": 35,
   "metadata": {},
   "outputs": [
    {
     "name": "stdout",
     "output_type": "stream",
     "text": [
      "0\n",
      "1\n",
      "2\n"
     ]
    }
   ],
   "source": [
    "for i in range(3):\n",
    "    print(q.remove())"
   ]
  },
  {
   "cell_type": "code",
   "execution_count": 36,
   "metadata": {},
   "outputs": [],
   "source": [
    "for i in range(5, 12):\n",
    "    q.add(i)"
   ]
  },
  {
   "cell_type": "code",
   "execution_count": 37,
   "metadata": {},
   "outputs": [
    {
     "name": "stdout",
     "output_type": "stream",
     "text": [
      "3\n",
      "4\n",
      "5\n",
      "6\n",
      "7\n",
      "8\n",
      "9\n",
      "10\n",
      "11\n",
      "None\n"
     ]
    }
   ],
   "source": [
    "for i in range(10):\n",
    "    print(q.remove())"
   ]
  },
  {
   "cell_type": "markdown",
   "metadata": {},
   "source": [
    "-----\n",
    "__3.5 Sort Stack:__ Write a program to sort a stack such that the smallest items are on the top. You can use an additional temporary stack, but you may not copy the elements into any other data structure (such as an array). The stack supports the following operations: push, pop, peek, and isEmpty.\n",
    "\n",
    "- modification of insertion sort\n",
    "- use original Stack as an additional storage\n",
    "- in Python can be used a sort function (reverse = True)"
   ]
  },
  {
   "cell_type": "code",
   "execution_count": 8,
   "metadata": {},
   "outputs": [],
   "source": [
    "from typing import Optional\n",
    "\n",
    "class Stack:\n",
    "    def __init__(self) -> None:\n",
    "        self._data = []\n",
    "        \n",
    "    def peek(self) -> Optional[int]:\n",
    "        if self._data:\n",
    "            return self._data[-1]\n",
    "        \n",
    "    def push(self, value:int) -> None:\n",
    "        self._data.append(value)\n",
    "            \n",
    "    def pop(self) -> Optional[int]:\n",
    "        if self._data:\n",
    "            return self._data.pop()\n",
    "    \n",
    "    def isEmpty(self) -> bool:\n",
    "        return not self._data\n",
    "    \n",
    "    def __str__(self) -> str:\n",
    "        return str(self._data)"
   ]
  },
  {
   "cell_type": "code",
   "execution_count": 9,
   "metadata": {},
   "outputs": [],
   "source": [
    "def findPlace(e:int, s: Stack, t: Stack) -> (Stack, Stack):\n",
    "    i = 0\n",
    "    while (t.peek() is not None) and (e < t.peek()):\n",
    "        s.push(t.pop())\n",
    "        i += 1\n",
    "    t.push(e)\n",
    "    for j in range(i):\n",
    "        t.push(s.pop())\n",
    "    return s, t\n",
    "\n",
    "def sort(s: Stack) -> Stack:\n",
    "    t = Stack()\n",
    "    while not s.isEmpty():\n",
    "        s, t = findPlace(s.pop(), s, t)\n",
    "        print('source %s' % s)\n",
    "        print('sink %s' % t)\n",
    "    while not t.isEmpty():\n",
    "        s.push(t.pop())\n",
    "    return s"
   ]
  },
  {
   "cell_type": "code",
   "execution_count": 10,
   "metadata": {},
   "outputs": [
    {
     "name": "stdout",
     "output_type": "stream",
     "text": [
      "[3, 2, 1, 5, 7]\n"
     ]
    }
   ],
   "source": [
    "s = Stack()\n",
    "for i in [3, 2, 1, 5, 7]:\n",
    "    s.push(i)\n",
    "print(s)"
   ]
  },
  {
   "cell_type": "code",
   "execution_count": 11,
   "metadata": {},
   "outputs": [
    {
     "name": "stdout",
     "output_type": "stream",
     "text": [
      "source [3, 2, 1, 5]\n",
      "sink [7]\n",
      "source [3, 2, 1]\n",
      "sink [5, 7]\n",
      "source [3, 2]\n",
      "sink [1, 5, 7]\n",
      "source [3]\n",
      "sink [1, 2, 5, 7]\n",
      "source []\n",
      "sink [1, 2, 3, 5, 7]\n",
      "[7, 5, 3, 2, 1]\n"
     ]
    }
   ],
   "source": [
    "t = sort(s)\n",
    "print(t)"
   ]
  },
  {
   "cell_type": "code",
   "execution_count": 12,
   "metadata": {},
   "outputs": [
    {
     "name": "stdout",
     "output_type": "stream",
     "text": [
      "source [0, 1, 2, 3, 4, 5]\n",
      "sink [6]\n",
      "source [0, 1, 2, 3, 4]\n",
      "sink [5, 6]\n",
      "source [0, 1, 2, 3]\n",
      "sink [4, 5, 6]\n",
      "source [0, 1, 2]\n",
      "sink [3, 4, 5, 6]\n",
      "source [0, 1]\n",
      "sink [2, 3, 4, 5, 6]\n",
      "source [0]\n",
      "sink [1, 2, 3, 4, 5, 6]\n",
      "source []\n",
      "sink [0, 1, 2, 3, 4, 5, 6]\n",
      "[6, 5, 4, 3, 2, 1, 0]\n"
     ]
    }
   ],
   "source": [
    "s = Stack()\n",
    "for i in range(7):\n",
    "    s.push(i)\n",
    "t = sort(s)\n",
    "print(t)"
   ]
  },
  {
   "cell_type": "code",
   "execution_count": 5,
   "metadata": {},
   "outputs": [
    {
     "data": {
      "text/plain": [
       "[7, 5, 3, 2, 1]"
      ]
     },
     "execution_count": 5,
     "metadata": {},
     "output_type": "execute_result"
    }
   ],
   "source": [
    "t = [3, 2, 1, 5, 7]\n",
    "t.sort(reverse = True)\n",
    "t"
   ]
  },
  {
   "cell_type": "markdown",
   "metadata": {},
   "source": [
    "-----\n",
    "__3.6 Animal Shelter:__ An animal shelter, which holds only dogs and cats, operates on a strictly \"first in, first out\" basis. People must adopt either the \"oldest\" (based on arrival time) of all animals at the shelter, or they can select whether they would prefer a dog or a cat (and will receive the oldest animal of that type). They cannot select which specific animal they would like. Create the data structures to\n",
    "maintain this system and implement operations such as enqueue, dequeueAny, dequeueDog, and dequeueCat. You may use the built-in Linked List data structure."
   ]
  },
  {
   "cell_type": "code",
   "execution_count": 14,
   "metadata": {},
   "outputs": [],
   "source": [
    "from typing import Optional\n",
    "\n",
    "class Shelter:\n",
    "    def __init__(self) -> None:\n",
    "        self._cats = []\n",
    "        self._dogs = []\n",
    "        self._count = 0\n",
    "        \n",
    "    def enqueue(self, name:str, animal:str) -> bool:\n",
    "        if animal == 'cat':\n",
    "            self._cats.append((name, self._count))\n",
    "        elif animal == 'dog':\n",
    "            self._dogs.append((name, self._count))\n",
    "        else:\n",
    "            return False\n",
    "        self._count += 1\n",
    "        return True\n",
    "    \n",
    "    def dequeueAny(self) -> Optional[str]:\n",
    "        c = self._cats[0] if self._cats else None\n",
    "        d = self._dogs[0] if self._dogs else None\n",
    "        name = None\n",
    "        if (c is None) and (d is not None):\n",
    "            name, _ = self._dogs.pop(0)\n",
    "        elif (d is None) and (c is not None):\n",
    "            name, _ = self._cats.pop(0)\n",
    "        elif (c is not None) and (d is not None):\n",
    "            name, _ = self._cats.pop(0) if c[1] < d[1] else self._dogs.pop(0)\n",
    "        return name\n",
    "        \n",
    "    def dequeueCat(self) -> Optional[str]:\n",
    "        if not self._cats:\n",
    "            return None\n",
    "        return self._cats.pop(0)[0]\n",
    "            \n",
    "    def dequeueDog(self) -> Optional[str]:   \n",
    "        if not self._dogs:\n",
    "            return None\n",
    "        return self._dogs.pop(0)[0]"
   ]
  },
  {
   "cell_type": "code",
   "execution_count": 15,
   "metadata": {},
   "outputs": [
    {
     "data": {
      "text/plain": [
       "True"
      ]
     },
     "execution_count": 15,
     "metadata": {},
     "output_type": "execute_result"
    }
   ],
   "source": [
    "s = Shelter()\n",
    "s.enqueue('Kitty', 'cat')\n",
    "s.enqueue('Carol', 'cat')\n",
    "s.enqueue('Boxer', 'dog')\n",
    "s.enqueue('Robby', 'dog')\n",
    "s.enqueue('Alex', 'cat')"
   ]
  },
  {
   "cell_type": "code",
   "execution_count": 16,
   "metadata": {},
   "outputs": [
    {
     "data": {
      "text/plain": [
       "'Kitty'"
      ]
     },
     "execution_count": 16,
     "metadata": {},
     "output_type": "execute_result"
    }
   ],
   "source": [
    "s.dequeueAny()"
   ]
  },
  {
   "cell_type": "code",
   "execution_count": 17,
   "metadata": {},
   "outputs": [
    {
     "data": {
      "text/plain": [
       "'Boxer'"
      ]
     },
     "execution_count": 17,
     "metadata": {},
     "output_type": "execute_result"
    }
   ],
   "source": [
    "s.dequeueDog()"
   ]
  },
  {
   "cell_type": "code",
   "execution_count": 18,
   "metadata": {},
   "outputs": [
    {
     "data": {
      "text/plain": [
       "'Carol'"
      ]
     },
     "execution_count": 18,
     "metadata": {},
     "output_type": "execute_result"
    }
   ],
   "source": [
    "s.dequeueCat()"
   ]
  },
  {
   "cell_type": "code",
   "execution_count": 19,
   "metadata": {},
   "outputs": [
    {
     "data": {
      "text/plain": [
       "'Robby'"
      ]
     },
     "execution_count": 19,
     "metadata": {},
     "output_type": "execute_result"
    }
   ],
   "source": [
    "s.dequeueAny()"
   ]
  }
 ],
 "metadata": {
  "kernelspec": {
   "display_name": "Python 3",
   "language": "python",
   "name": "python3"
  },
  "language_info": {
   "codemirror_mode": {
    "name": "ipython",
    "version": 3
   },
   "file_extension": ".py",
   "mimetype": "text/x-python",
   "name": "python",
   "nbconvert_exporter": "python",
   "pygments_lexer": "ipython3",
   "version": "3.7.4"
  }
 },
 "nbformat": 4,
 "nbformat_minor": 4
}
