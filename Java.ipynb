{
 "cells": [
  {
   "cell_type": "markdown",
   "metadata": {},
   "source": [
    "# 1. Arrays and Strings"
   ]
  },
  {
   "cell_type": "markdown",
   "metadata": {},
   "source": [
    "__Hash Tables__\n",
    "lookup O(1) (worst O(N))\n",
    "\n",
    "__ArrayList__ or resizable array\n",
    "insertion avg. O(1) (some takes O(N) due to doubling in size)\n",
    "\n",
    "```\n",
    "ArrayList<String> my_list = new ArrayList<String>();\n",
    "my_list.add(\"world!\");\n",
    "my_list.add(0, \"Hello, \");\n",
    "my_list.set(0, \"Hi, \");\n",
    "my_list.remove(\"world!\");\n",
    "System.out.println(my_list.size());\n",
    "System.out.println(my_list.get(0));\n",
    "System.out.println(my_list.indexOf(\"Hi, \"));\n",
    "```"
   ]
  },
  {
   "cell_type": "code",
   "execution_count": null,
   "metadata": {},
   "outputs": [],
   "source": []
  }
 ],
 "metadata": {
  "kernelspec": {
   "display_name": "Kotlin",
   "language": "kotlin",
   "name": "kotlin"
  },
  "language_info": {
   "codemirror_mode": "text/x-kotlin",
   "file_extension": "kt",
   "name": "kotlin"
  }
 },
 "nbformat": 4,
 "nbformat_minor": 4
}
