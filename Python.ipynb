{
 "cells": [
  {
   "cell_type": "markdown",
   "metadata": {},
   "source": [
    "# 1. Strings and Dictionaries"
   ]
  },
  {
   "cell_type": "markdown",
   "metadata": {},
   "source": [
    "\n",
    "__List Comprehension__ (instead of StringBuffer)"
   ]
  },
  {
   "cell_type": "code",
   "execution_count": 68,
   "metadata": {},
   "outputs": [
    {
     "data": {
      "text/plain": [
       "'abc0_abc1_abc2_abc3_abc4_abc5_abc6_abc7_abc8_abc9_'"
      ]
     },
     "execution_count": 68,
     "metadata": {},
     "output_type": "execute_result"
    }
   ],
   "source": [
    "''.join(['abc%s_'%i for i in range(10)])"
   ]
  },
  {
   "cell_type": "markdown",
   "metadata": {},
   "source": [
    "__Dictionary__ (instead of HashMap)\n",
    "\n",
    "collections.OrderedDict – A dictionary subclass that remembers the insertion order of keys added to the collection.\n",
    "\n",
    "collections.ChainMap – Search multiple dictionaries as a single mapping."
   ]
  },
  {
   "cell_type": "code",
   "execution_count": 7,
   "metadata": {},
   "outputs": [
    {
     "data": {
      "text/plain": [
       "OrderedDict([('one', 1), ('two', 2), ('three', 3)])"
      ]
     },
     "execution_count": 7,
     "metadata": {},
     "output_type": "execute_result"
    }
   ],
   "source": [
    "from collections import OrderedDict\n",
    "d = collections.OrderedDict(one=1, two=2, three=3)\n",
    "d"
   ]
  },
  {
   "cell_type": "code",
   "execution_count": 5,
   "metadata": {},
   "outputs": [
    {
     "name": "stdout",
     "output_type": "stream",
     "text": [
      "ChainMap({'one': 1, 'two': 2}, {'three': 3, 'four': 4})\n",
      "3\n",
      "1\n"
     ]
    }
   ],
   "source": [
    "from collections import ChainMap\n",
    "dict1 = {'one': 1, 'two': 2}\n",
    "dict2 = {'three': 3, 'four': 4}\n",
    "chain = ChainMap(dict1, dict2)\n",
    "print(chain)\n",
    "print(chain['three'])\n",
    "print(chain['one'])"
   ]
  },
  {
   "cell_type": "markdown",
   "metadata": {},
   "source": [
    "Building in a List Comprehension manner"
   ]
  },
  {
   "cell_type": "code",
   "execution_count": 70,
   "metadata": {},
   "outputs": [
    {
     "data": {
      "text/plain": [
       "True"
      ]
     },
     "execution_count": 70,
     "metadata": {},
     "output_type": "execute_result"
    }
   ],
   "source": [
    "import string\n",
    "ch_dict = {ch:0 for ch in string.ascii_lowercase}\n",
    "'a' in ch_dict"
   ]
  },
  {
   "cell_type": "markdown",
   "metadata": {},
   "source": [
    "__Strings__\n",
    "\n",
    "- ord, chr for chars\n",
    "- lower(), upper()\n",
    "- replace(' ', '')\n",
    "- sort()"
   ]
  },
  {
   "cell_type": "code",
   "execution_count": 72,
   "metadata": {},
   "outputs": [
    {
     "name": "stdout",
     "output_type": "stream",
     "text": [
      "abcdefghijklmnopqrstuvwxyzABCDEFGHIJKLMNOPQRSTUVWXYZ\n",
      "abcdefghijklmnopqrstuvwxyz\n",
      "0123456789\n",
      " \t\n",
      "\u000b",
      "\f",
      "\n"
     ]
    }
   ],
   "source": [
    "import string\n",
    "print(string.ascii_letters)\n",
    "print(string.ascii_lowercase)\n",
    "print(string.digits)\n",
    "print(string.whitespace)"
   ]
  },
  {
   "cell_type": "markdown",
   "metadata": {},
   "source": [
    "__NumPy Array__\n",
    "\n",
    "Adding `A + B`\n",
    "\n",
    "Multiplication `A.dot(B)`\n",
    "\n",
    "Transpositioning `A.transpose()`\n"
   ]
  },
  {
   "cell_type": "code",
   "execution_count": 16,
   "metadata": {},
   "outputs": [
    {
     "name": "stdout",
     "output_type": "stream",
     "text": [
      "[[1 2 3]\n",
      " [3 4 5]]\n",
      "A[1][2] = 5\n",
      "A[0] = [1 2 3]\n",
      "A[:,0] = [1 3]\n",
      "(2, 3)\n"
     ]
    }
   ],
   "source": [
    "import numpy as np\n",
    "\n",
    "A = np.array([[1, 2, 3], [3, 4, 5]])\n",
    "print(A)\n",
    "print(\"A[1][2] =\", A[1][2])\n",
    "print(\"A[0] =\", A[0])\n",
    "print(\"A[:,0] =\",A[:,0])\n",
    "print(A.shape)"
   ]
  },
  {
   "cell_type": "code",
   "execution_count": 3,
   "metadata": {},
   "outputs": [
    {
     "name": "stdout",
     "output_type": "stream",
     "text": [
      "[[0. 0. 0.]\n",
      " [0. 0. 0.]]\n"
     ]
    }
   ],
   "source": [
    "zarray = np.zeros((2, 3))\n",
    "print(zarray)"
   ]
  },
  {
   "cell_type": "code",
   "execution_count": 4,
   "metadata": {},
   "outputs": [
    {
     "name": "stdout",
     "output_type": "stream",
     "text": [
      "A = [0 1 2 3]\n",
      "B = [[ 0  1  2  3]\n",
      " [ 4  5  6  7]\n",
      " [ 8  9 10 11]]\n"
     ]
    }
   ],
   "source": [
    "A = np.arange(4)\n",
    "print('A =', A)\n",
    "\n",
    "B = np.arange(12).reshape(3, 4)\n",
    "print('B =', B)"
   ]
  },
  {
   "cell_type": "code",
   "execution_count": 8,
   "metadata": {},
   "outputs": [
    {
     "name": "stdout",
     "output_type": "stream",
     "text": [
      "[0 1 2 3 4]\n",
      "[4 3 2 1 0]\n"
     ]
    }
   ],
   "source": [
    "A = np.arange(5)\n",
    "print(A[:])   \n",
    "print(A[::-1])"
   ]
  },
  {
   "cell_type": "markdown",
   "metadata": {},
   "source": [
    "------"
   ]
  },
  {
   "cell_type": "markdown",
   "metadata": {},
   "source": [
    "__1.1 Is Unique:__ Implement an algorithm to determine if a string has all unique characters. What if you\n",
    "cannot use additional data structures?\n",
    "\n",
    "One solution is to create an array of boolean values, where the flag at index i indicates whether character\n",
    "i in the alphabet is contained in the string. The second time you see this character you can immediately\n",
    "return false.\n",
    "The time complexity for this code is O(n), where n is the length of the string. The space complexity is O(1).\n",
    "\n",
    "- if the string is an ASCII string (128 or 256) or a Unicode string\n",
    "- you can't form a string of 280 unique characters out of a 128-character alphabet"
   ]
  },
  {
   "cell_type": "code",
   "execution_count": 9,
   "metadata": {},
   "outputs": [],
   "source": [
    "# O(n) complexity, O(1) space\n",
    "def all_unique_ascii(s:str) -> bool:\n",
    "    if len(s) > 128: \n",
    "        return False\n",
    "    ch_dict = {}\n",
    "    for ch in s:\n",
    "        if ch not in ch_dict:\n",
    "            ch_dict[ch] = True\n",
    "        else:\n",
    "            return False\n",
    "    return True"
   ]
  },
  {
   "cell_type": "code",
   "execution_count": 25,
   "metadata": {},
   "outputs": [],
   "source": [
    "# O(n) complexity, O(1) space, bit operations\n",
    "def all_unique_chars(s:str) -> bool:\n",
    "    if len(s) > 128: \n",
    "        return False\n",
    "    checker = 0\n",
    "    for ch in s:\n",
    "        val = ord(ch) - ord('a')\n",
    "        if (checker & (1 << val)) > 0 :\n",
    "            return False\n",
    "        checker |= (1 << val)\n",
    "    return True"
   ]
  },
  {
   "cell_type": "code",
   "execution_count": 11,
   "metadata": {},
   "outputs": [],
   "source": [
    "# O(n*log n) no extra space\n",
    "def all_unique(s:str) -> bool:\n",
    "    s = list(s)\n",
    "    s.sort()\n",
    "    for i in range(len(s) - 1):\n",
    "        if s[i] == s[i+1]:\n",
    "            return False\n",
    "    return True"
   ]
  },
  {
   "cell_type": "code",
   "execution_count": 12,
   "metadata": {},
   "outputs": [
    {
     "data": {
      "text/plain": [
       "True"
      ]
     },
     "execution_count": 12,
     "metadata": {},
     "output_type": "execute_result"
    }
   ],
   "source": [
    "my_str1 = 'anrldkngowbd'\n",
    "my_str2 = 'abcdefg'\n",
    "my_str3 = ''\n",
    "all_unique_ascii(my_str3)"
   ]
  },
  {
   "cell_type": "markdown",
   "metadata": {},
   "source": [
    "__1.2 Check Permutation:__ Given two strings, write a method to decide if one is a permutation of the\n",
    "other.\n",
    "\n",
    "- if the permutation comparison is case sensitive\n",
    "- if whitespace is significant"
   ]
  },
  {
   "cell_type": "code",
   "execution_count": 26,
   "metadata": {},
   "outputs": [],
   "source": [
    "from typing import List, Any\n",
    "\n",
    "# O(n*log n)\n",
    "def is_permutation(fst: List[Any], snd: List[Any]) -> bool:\n",
    "    if len(fst) != len(snd):\n",
    "        return False\n",
    "    fst.sort()\n",
    "    snd.sort()\n",
    "    for i in range(len(fst)):\n",
    "        if fst[i] != snd[i]:\n",
    "            return False\n",
    "    return True"
   ]
  },
  {
   "cell_type": "code",
   "execution_count": 73,
   "metadata": {},
   "outputs": [],
   "source": [
    "import string\n",
    "def check_permutation(fst:str, snd:str) -> bool:\n",
    "    if len(fst) != len(snd):\n",
    "        return False\n",
    "    ch_dict = {ch:0 for ch in string.ascii_lowercase}\n",
    "    for ch in fst.lower():\n",
    "        ch_dict[ch] += 1\n",
    "    for ch in snd.lower():\n",
    "        ch_dict[ch] -= 1\n",
    "        if ch_dict[ch] < 0:\n",
    "            return False\n",
    "    return True"
   ]
  },
  {
   "cell_type": "code",
   "execution_count": 75,
   "metadata": {},
   "outputs": [
    {
     "data": {
      "text/plain": [
       "True"
      ]
     },
     "execution_count": 75,
     "metadata": {},
     "output_type": "execute_result"
    }
   ],
   "source": [
    "my_str1 = 'andrdld'\n",
    "my_str2 = 'arndldd'\n",
    "check_permutation('asd', 'asd')"
   ]
  },
  {
   "cell_type": "markdown",
   "metadata": {},
   "source": [
    "__1.4 Palindrome Permutation:__ Given a string, write a function to check if it is a permutation of a palindrome. A palindrome is a word or phrase that is the same forwards and backwards. A permutation is a rearrangement of letters. The palindrome does not need to be limited to just dictionary words.\n",
    "\n",
    "EXAMPLE\n",
    "\n",
    "Input: Tact Coa\n",
    "\n",
    "Output: True (permutations: \"taco cat\". \"atco cta\". etc.)\n",
    "\n",
    "- not case sensitive\n",
    "- whitespaces doesn't matter"
   ]
  },
  {
   "cell_type": "markdown",
   "metadata": {},
   "source": [
    "A very elegant way to check that an integer has exactly one bit set to 1. We can check to see that a number has exactly one 1 because if we subtract 1 from it and then AND it with the new number, we should get 0.\n",
    "\n",
    "00010000 - 1 = 00001111\n",
    "\n",
    "00010000 & 00001111 = 0"
   ]
  },
  {
   "cell_type": "code",
   "execution_count": 43,
   "metadata": {},
   "outputs": [],
   "source": [
    "# O(n) time, full dictionary\n",
    "import string\n",
    "\n",
    "def palindrome_per(s:str) -> bool:\n",
    "    ch_dict = {ch:0 for ch in string.ascii_letters}\n",
    "    for ch in s.replace(' ', '').lower():\n",
    "        ch_dict[ch] += 1\n",
    "    flag = False\n",
    "    for ch in ch_dict.keys():\n",
    "        if ch_dict[ch] % 2 == 1:\n",
    "            if flag: \n",
    "                return False\n",
    "            flag = True\n",
    "    return True"
   ]
  },
  {
   "cell_type": "code",
   "execution_count": 80,
   "metadata": {},
   "outputs": [],
   "source": [
    "# O(n) time, bitwise\n",
    "def check_one(i:int) -> bool:\n",
    "    return (i & (i - 1)) == 0\n",
    "\n",
    "def is_palindrome(s:str) -> bool:\n",
    "    letters = 0\n",
    "    for ch in s.replace(' ', '').lower():\n",
    "        letters ^= (1 << (ord(ch) - ord('a')))    \n",
    "    return (letters == 0) or check_one(letters)"
   ]
  },
  {
   "cell_type": "code",
   "execution_count": 81,
   "metadata": {},
   "outputs": [
    {
     "data": {
      "text/plain": [
       "True"
      ]
     },
     "execution_count": 81,
     "metadata": {},
     "output_type": "execute_result"
    }
   ],
   "source": [
    "is_palindrome(\"Tact Coa\")"
   ]
  },
  {
   "cell_type": "markdown",
   "metadata": {},
   "source": [
    "__1.5 One Away:__ There are three types of edits that can be performed on strings: insert a character,\n",
    "remove a character, or replace a character. Given two strings, write a function to check if they are\n",
    "one edit (or zero edits) away."
   ]
  },
  {
   "cell_type": "code",
   "execution_count": 5,
   "metadata": {},
   "outputs": [],
   "source": [
    "def is_changed(fst: str, snd: str) -> bool:\n",
    "    edit = False\n",
    "    for i in range(len(fst)):\n",
    "        if fst[i] != snd[i]:\n",
    "            if edit: return False\n",
    "            edit = True\n",
    "    return True\n",
    "\n",
    "def is_insert(fst: str, snd: str) -> bool:\n",
    "    edit = False\n",
    "    i = 0\n",
    "    j = 0\n",
    "    while i < len(fst) and j < len(snd):\n",
    "        if fst[i] != snd[j]:\n",
    "            if edit: return False\n",
    "            j += 1\n",
    "            edit = True\n",
    "        else:    \n",
    "            i += 1\n",
    "            j += 1\n",
    "    return True                    \n",
    "\n",
    "def one_away(fst: str, snd: str) -> bool:\n",
    "    if abs(len(fst) - len(snd)) > 1:\n",
    "        return False\n",
    "    if len(fst) == len(snd):\n",
    "        return is_changed(fst, snd)\n",
    "    else:\n",
    "        if len(fst) < len(snd):\n",
    "            return is_insert(fst, snd)\n",
    "        else:\n",
    "            return is_insert(snd, fst)"
   ]
  },
  {
   "cell_type": "code",
   "execution_count": 6,
   "metadata": {},
   "outputs": [
    {
     "name": "stdout",
     "output_type": "stream",
     "text": [
      "True\n",
      "True\n",
      "True\n",
      "True\n",
      "True\n",
      "False\n",
      "False\n",
      "False\n"
     ]
    }
   ],
   "source": [
    "print(one_away('', ''))\n",
    "print(one_away('abc', 'abc'))\n",
    "print(one_away('abcd', 'abc'))\n",
    "print(one_away('abc', 'abcd'))\n",
    "print(one_away('adc', 'abc'))\n",
    "print(one_away('abcdd', 'abc'))\n",
    "print(one_away('ade', 'abc'))\n",
    "print(one_away('abde', 'abc'))"
   ]
  },
  {
   "cell_type": "markdown",
   "metadata": {},
   "source": [
    "__1.6 String Compression:__ Implement a method to perform basic string compression using the counts of repeated characters. For example, the string aabcccccaaa would become a2b1c5a3. If the \"compressed\" string would not become smaller than the original string, your method should return the original string. You can assume the string has only uppercase and lowercase letters (a - z).\n",
    "\n",
    "- use `StringBuffer`\n",
    "- first count the future length of the string, still be O(n)"
   ]
  },
  {
   "cell_type": "code",
   "execution_count": 6,
   "metadata": {},
   "outputs": [],
   "source": [
    "import string\n",
    "\n",
    "def str_compression(s: str) -> str:\n",
    "    result = []\n",
    "    prev_ch = s[0]\n",
    "    count = 0\n",
    "    for ch in s:\n",
    "        if ch == prev_ch:\n",
    "            count += 1\n",
    "        else:\n",
    "            result.append(prev_ch)\n",
    "            result.append(str(count))\n",
    "            prev_ch = ch\n",
    "            count = 1\n",
    "    result.append(prev_ch)\n",
    "    result.append(str(count))\n",
    "    return ''.join(result) if len(result) < len(s) else s        "
   ]
  },
  {
   "cell_type": "code",
   "execution_count": 7,
   "metadata": {},
   "outputs": [
    {
     "data": {
      "text/plain": [
       "'a3b3c1d3s2c2'"
      ]
     },
     "execution_count": 7,
     "metadata": {},
     "output_type": "execute_result"
    }
   ],
   "source": [
    "str_compression('aaabbbcdddsscc')"
   ]
  },
  {
   "cell_type": "markdown",
   "metadata": {},
   "source": [
    "__1.8 Zero Matrix:__ Write an algorithm such that if an element in an MxN matrix is 0, its entire row and column are set to 0.\n",
    "\n",
    "Can be implemented without additional space, using e.g. first row and column as a storage."
   ]
  },
  {
   "cell_type": "code",
   "execution_count": 21,
   "metadata": {},
   "outputs": [
    {
     "name": "stdout",
     "output_type": "stream",
     "text": [
      "[[ 0  1  2  0]\n",
      " [ 4  5  6  7]\n",
      " [ 8  9  0 11]\n",
      " [12 13 14 15]]\n"
     ]
    }
   ],
   "source": [
    "import numpy as np\n",
    "\n",
    "m = np.arange(16).reshape(4,4)\n",
    "m[2,2] = 0\n",
    "m[0,3] = 0\n",
    "print(m)"
   ]
  },
  {
   "cell_type": "code",
   "execution_count": 18,
   "metadata": {},
   "outputs": [],
   "source": [
    "# O(n*m)\n",
    "def zero_matrix(m):\n",
    "    elements = []\n",
    "    for i in range(m.shape[0]):\n",
    "        for j in range(m.shape[1]):\n",
    "            if m[i,j] == 0:\n",
    "                elements.append((i,j))\n",
    "    for (i, j) in elements:\n",
    "        m[i, :] = 0\n",
    "        m[:, j] = 0\n",
    "    return m"
   ]
  },
  {
   "cell_type": "code",
   "execution_count": 23,
   "metadata": {},
   "outputs": [],
   "source": [
    "# O(n*m), using sets\n",
    "def zero_matr(m):\n",
    "    rows = set([])\n",
    "    columns = set([])\n",
    "    for i in range(m.shape[0]):\n",
    "        for j in range(m.shape[1]):\n",
    "            if m[i,j] == 0:\n",
    "                rows.add(i)\n",
    "                columns.add(j)\n",
    "    for i in rows:\n",
    "        m[i, :] = 0\n",
    "    for j in columns:\n",
    "        m[:, j] = 0\n",
    "    return m"
   ]
  },
  {
   "cell_type": "code",
   "execution_count": 24,
   "metadata": {},
   "outputs": [],
   "source": [
    "new_m = zero_matr(m)"
   ]
  },
  {
   "cell_type": "code",
   "execution_count": 25,
   "metadata": {},
   "outputs": [
    {
     "name": "stdout",
     "output_type": "stream",
     "text": [
      "[[ 0  0  0  0]\n",
      " [ 0  5  0  0]\n",
      " [ 0  0  0  0]\n",
      " [ 0 13  0  0]]\n"
     ]
    }
   ],
   "source": [
    "print(new_m)"
   ]
  },
  {
   "cell_type": "markdown",
   "metadata": {},
   "source": [
    "__1.9 String Rotation:__ Assume you have a method isSubstring which checks if one word is a substring of another. Given two strings, s1 and s2, write code to check if s2 is a rotation of s1 using only one call to isSubstring (e. g., \"waterbottle \" is a rotation of \"erbottlewat\").\n",
    "\n",
    "x = wat, y = erbottle\n",
    "\n",
    "waterbottle = xy\n",
    "\n",
    "erbottlewat = yx"
   ]
  },
  {
   "cell_type": "code",
   "execution_count": 17,
   "metadata": {},
   "outputs": [],
   "source": [
    "def rotation(fst:str, snd:str) -> bool:\n",
    "    if len(fst) != len(snd):\n",
    "        return False\n",
    "    double = fst + fst\n",
    "    return snd in double"
   ]
  },
  {
   "cell_type": "code",
   "execution_count": 18,
   "metadata": {},
   "outputs": [
    {
     "data": {
      "text/plain": [
       "True"
      ]
     },
     "execution_count": 18,
     "metadata": {},
     "output_type": "execute_result"
    }
   ],
   "source": [
    "rotation('waterbottle', 'erbottlewat')"
   ]
  },
  {
   "cell_type": "code",
   "execution_count": 20,
   "metadata": {},
   "outputs": [
    {
     "data": {
      "text/plain": [
       "False"
      ]
     },
     "execution_count": 20,
     "metadata": {},
     "output_type": "execute_result"
    }
   ],
   "source": [
    "rotation('sdf', 'dsf')"
   ]
  },
  {
   "cell_type": "markdown",
   "metadata": {},
   "source": [
    "-----\n",
    "# Linked Lists"
   ]
  },
  {
   "cell_type": "markdown",
   "metadata": {},
   "source": [
    "__List__\n",
    "\n",
    "- append(value) Adds an element at the end of the list\n",
    "- clear() Removes all the elements from the list\n",
    "- copy() Returns a copy of the list\n",
    "- count(value) Returns the number of elements with the specified value\n",
    "- index(value) Returns the index of the first element with the specified value\n",
    "- insert(position, value) Adds an element at the specified position\n",
    "- pop(position) Removes the element at the specified position, __without parameter__  removes and returns last value from the list \n",
    "- remove(value) Removes the first item with the specified value\n",
    "- reverse() Reverses the order of the list\n",
    "- sort() Sorts the list"
   ]
  },
  {
   "cell_type": "code",
   "execution_count": 1,
   "metadata": {},
   "outputs": [
    {
     "name": "stdout",
     "output_type": "stream",
     "text": [
      "Hi\n",
      ", \n",
      "world\n",
      "!\n"
     ]
    }
   ],
   "source": [
    "my_list = ['Hello', ', ', 'world']\n",
    "my_list[0] = 'Hi'\n",
    "my_list.append('!')\n",
    "for x in my_list:\n",
    "    print(x)"
   ]
  },
  {
   "cell_type": "code",
   "execution_count": 26,
   "metadata": {},
   "outputs": [],
   "source": [
    "class Node:\n",
    "    def __init__(self, dataval=None):\n",
    "        self.dataval = dataval\n",
    "        self.nextval = None\n",
    "\n",
    "class LinkedList:\n",
    "    def __init__(self):\n",
    "        self.headval = None\n",
    "\n",
    "l = LinkedList()\n",
    "l.headval = Node(\"Mon\")\n",
    "e2 = Node(\"Tue\")\n",
    "e3 = Node(\"Wed\")\n",
    "l.headval.nextval = e2\n",
    "e2.nextval = e3"
   ]
  },
  {
   "cell_type": "markdown",
   "metadata": {},
   "source": [
    "__2.1 Remove Dups:__ Write code to remove duplicates from an unsorted linked list.\n",
    "\n",
    "FOLLOW UP: How would you solve this problem if a temporary buffer is not allowed?\n",
    "\n",
    "- do we need to modify list? or can we create a new one? can just append to a new list\n",
    "- do we need to save the order of elements? if not, can use convertion to set or numpy.unique"
   ]
  },
  {
   "cell_type": "code",
   "execution_count": 1,
   "metadata": {},
   "outputs": [],
   "source": [
    "# O(n)\n",
    "def remove_dups(uns_list):\n",
    "    elements = []\n",
    "    for elem in uns_list:\n",
    "        if elem not in elements:\n",
    "            elements.append(elem)\n",
    "    return elements"
   ]
  },
  {
   "cell_type": "code",
   "execution_count": 2,
   "metadata": {},
   "outputs": [
    {
     "data": {
      "text/plain": [
       "['a', 's', 'd', 'n', 'k', 'f', 'b']"
      ]
     },
     "execution_count": 2,
     "metadata": {},
     "output_type": "execute_result"
    }
   ],
   "source": [
    "remove_dups(list('asdnasdkfbs'))"
   ]
  },
  {
   "cell_type": "code",
   "execution_count": 16,
   "metadata": {},
   "outputs": [],
   "source": [
    "# o(n^2)\n",
    "def remove_dups2(uns_list):\n",
    "    idx = 0\n",
    "    while idx < len(uns_list):\n",
    "        runner = idx + 1\n",
    "        while runner < len(uns_list):\n",
    "            if uns_list[idx] == uns_list[runner]:\n",
    "                uns_list.pop(runner)\n",
    "            else:\n",
    "                runner += 1\n",
    "        idx += 1\n",
    "    return uns_list"
   ]
  },
  {
   "cell_type": "code",
   "execution_count": 17,
   "metadata": {},
   "outputs": [
    {
     "data": {
      "text/plain": [
       "['a', 's', 'd', 'n', 'k', 'f', 'b']"
      ]
     },
     "execution_count": 17,
     "metadata": {},
     "output_type": "execute_result"
    }
   ],
   "source": [
    "remove_dups2(list('asdnasdkfbs'))"
   ]
  },
  {
   "cell_type": "code",
   "execution_count": 18,
   "metadata": {},
   "outputs": [
    {
     "data": {
      "text/plain": [
       "[]"
      ]
     },
     "execution_count": 18,
     "metadata": {},
     "output_type": "execute_result"
    }
   ],
   "source": [
    "remove_dups2(list(''))"
   ]
  },
  {
   "cell_type": "code",
   "execution_count": 19,
   "metadata": {},
   "outputs": [
    {
     "data": {
      "text/plain": [
       "['a']"
      ]
     },
     "execution_count": 19,
     "metadata": {},
     "output_type": "execute_result"
    }
   ],
   "source": [
    "remove_dups2(list('aaaaaaa'))"
   ]
  },
  {
   "cell_type": "code",
   "execution_count": 20,
   "metadata": {},
   "outputs": [
    {
     "data": {
      "text/plain": [
       "['a', 'b', 's']"
      ]
     },
     "execution_count": 20,
     "metadata": {},
     "output_type": "execute_result"
    }
   ],
   "source": [
    "remove_dups2(list('absa'))"
   ]
  },
  {
   "cell_type": "code",
   "execution_count": 27,
   "metadata": {},
   "outputs": [
    {
     "name": "stdout",
     "output_type": "stream",
     "text": [
      "['a' 'b' 'd' 'f' 'k' 'n' 's']\n"
     ]
    }
   ],
   "source": [
    "import numpy as np\n",
    "x = np.array(list('asdnasdkfbs')) \n",
    "print(np.unique(x)) "
   ]
  },
  {
   "cell_type": "markdown",
   "metadata": {},
   "source": [
    "__2.2 Return Kth to Last:__ Implement an algorithm to find the kth to last element of a singly linked list.\n",
    "\n",
    "- first count the length, then go from the begginning O(n)\n",
    "- use two pointers, send the first k elements prior to the second O(n)"
   ]
  },
  {
   "cell_type": "code",
   "execution_count": 4,
   "metadata": {},
   "outputs": [],
   "source": [
    "def getKth(my_list, k):\n",
    "    return my_list[-k]"
   ]
  },
  {
   "cell_type": "code",
   "execution_count": 5,
   "metadata": {},
   "outputs": [
    {
     "data": {
      "text/plain": [
       "'f'"
      ]
     },
     "execution_count": 5,
     "metadata": {},
     "output_type": "execute_result"
    }
   ],
   "source": [
    "x = list('asdnasdkfbs')\n",
    "getKth(x, 3)"
   ]
  },
  {
   "cell_type": "markdown",
   "metadata": {},
   "source": [
    "__2.3 Delete Middle Node:__ Implement an algorithm to delete a node in the middle (i.e., any node but the first and last node, not necessarily the exact middle) of a singly linked list, given only access to that node.\n",
    "\n",
    "EXAMPLE\n",
    "\n",
    "Input: the node c from the linked list a -> b -> c -> d -> e -> f\n",
    "\n",
    "Result: nothing is returned, but the new linked list looks like a -> b -> d -> e -> f\n",
    "\n",
    "__Solution:__ copy rest of the list"
   ]
  },
  {
   "cell_type": "code",
   "execution_count": 3,
   "metadata": {},
   "outputs": [
    {
     "data": {
      "text/plain": [
       "['a', 's', 'd', 'n', 'a', 's', 'd', 'k', 'b', 's']"
      ]
     },
     "execution_count": 3,
     "metadata": {},
     "output_type": "execute_result"
    }
   ],
   "source": [
    "x = list('asdnasdkfbs')\n",
    "x.pop(-3)\n",
    "x"
   ]
  },
  {
   "cell_type": "markdown",
   "metadata": {},
   "source": [
    "__2.4 Partition:__ Write code to partition a linked list around a value x, such that all nodes less than x come before all nodes greater than or equal to x. lf x is contained within the list, the values of x only need to be after the elements less than x (see below). The partition element x can appear anywhere in the \"right partition\"; it does not need to appear between the left and right partitions.\n",
    "\n",
    "EXAMPLE\n",
    "\n",
    "`Input: 3 -> 5 -> 8 -> 5 -> 10 -> 2 -> 1 [partition = 5]\n",
    "Output: 3 -> 1 -> 2 -> 10 -> 5 -> 5 -> 8`\n",
    "\n",
    "- using sort() gives result\n",
    "- in Java is better to maintain 2 lists, 3 pointers in total would be enough\n",
    "- can be easier to create only one new list (add smaller as a head, and bigger at the tail)"
   ]
  },
  {
   "cell_type": "code",
   "execution_count": 4,
   "metadata": {},
   "outputs": [
    {
     "data": {
      "text/plain": [
       "[1, 2, 3, 5, 5, 8, 10]"
      ]
     },
     "execution_count": 4,
     "metadata": {},
     "output_type": "execute_result"
    }
   ],
   "source": [
    "x = [3, 5, 8, 5, 10, 2, 1]\n",
    "x.sort()\n",
    "x"
   ]
  },
  {
   "cell_type": "code",
   "execution_count": 10,
   "metadata": {},
   "outputs": [],
   "source": [
    "# O(n)\n",
    "def partition(my_list, p):\n",
    "    result = []\n",
    "    for x in my_list:\n",
    "        if x < p:\n",
    "            result.insert(0, x)\n",
    "        else:\n",
    "            result.append(x)\n",
    "    return result"
   ]
  },
  {
   "cell_type": "code",
   "execution_count": 11,
   "metadata": {},
   "outputs": [
    {
     "data": {
      "text/plain": [
       "[1, 2, 3, 5, 8, 5, 10]"
      ]
     },
     "execution_count": 11,
     "metadata": {},
     "output_type": "execute_result"
    }
   ],
   "source": [
    "partition([3, 5, 8, 5, 10, 2, 1], 5)"
   ]
  },
  {
   "cell_type": "markdown",
   "metadata": {},
   "source": [
    "__2.5 Sum Lists:__ You have two numbers represented by a linked list, where each node contains a single digit. The digits are stored in reverse order, such that the 1's digit is at the head of the list. Write a function that adds the two numbers and returns the sum as a linked list.\n",
    "\n",
    "EXAMPLE\n",
    "\n",
    "Input: `7 -> 1 -> 6 + 5 -> 9 -> 2` That is, 617 + 295.\n",
    "\n",
    "Output: `2 -> 1 -> 9` That is, 912.\n",
    "\n",
    "FOLLOW UP\n",
    "Suppose the digits are stored in forward order. Repeat the above problem.\n",
    "\n",
    "EXAMPLE\n",
    "\n",
    "Input: `6 -> 1 -> 7 + 2 -> 9 -> 5` That is, 617 + 295.\n",
    "\n",
    "Output: `9 -> 1 -> 2` That is, 912.\n",
    "\n",
    "- the first one can be done iteratively\n",
    "- the second is easier solved recursively, if add '0000' at the beginning of the shorter list"
   ]
  },
  {
   "cell_type": "code",
   "execution_count": 15,
   "metadata": {},
   "outputs": [],
   "source": [
    "def sum_from_end(fst, snd):\n",
    "    lng = fst if len(fst) >= len(snd) else snd\n",
    "    sml = fst if len(fst) < len(snd) else snd\n",
    "    i = 0\n",
    "    result = []\n",
    "    prev = 0\n",
    "    while i < len(sml):\n",
    "        s = lng[i] + sml[i] + prev\n",
    "        result.append(s % 10)\n",
    "        prev = s // 10\n",
    "        i +=1\n",
    "    while i < len(lng):\n",
    "        s = lng[i] + prev\n",
    "        result.append(s % 10)\n",
    "        prev = s // 10\n",
    "        i +=1\n",
    "    if prev > 0:\n",
    "        result.append(prev)\n",
    "    return result"
   ]
  },
  {
   "cell_type": "code",
   "execution_count": 16,
   "metadata": {},
   "outputs": [
    {
     "data": {
      "text/plain": [
       "[2, 1, 9]"
      ]
     },
     "execution_count": 16,
     "metadata": {},
     "output_type": "execute_result"
    }
   ],
   "source": [
    "sum_from_end([7, 1, 6], [5, 9, 2])"
   ]
  },
  {
   "cell_type": "code",
   "execution_count": 17,
   "metadata": {},
   "outputs": [
    {
     "data": {
      "text/plain": [
       "[5, 9, 2]"
      ]
     },
     "execution_count": 17,
     "metadata": {},
     "output_type": "execute_result"
    }
   ],
   "source": [
    "sum_from_end([], [5, 9, 2])"
   ]
  },
  {
   "cell_type": "code",
   "execution_count": 18,
   "metadata": {},
   "outputs": [
    {
     "data": {
      "text/plain": [
       "[5, 9, 2, 1]"
      ]
     },
     "execution_count": 18,
     "metadata": {},
     "output_type": "execute_result"
    }
   ],
   "source": [
    "sum_from_end([0, 0, 0, 1], [5, 9, 2])"
   ]
  },
  {
   "cell_type": "code",
   "execution_count": 19,
   "metadata": {},
   "outputs": [
    {
     "data": {
      "text/plain": [
       "[5, 6, 4, 1]"
      ]
     },
     "execution_count": 19,
     "metadata": {},
     "output_type": "execute_result"
    }
   ],
   "source": [
    "sum_from_end([9, 7, 8], [6, 8, 5])"
   ]
  },
  {
   "cell_type": "markdown",
   "metadata": {},
   "source": [
    "__2.6 Palindrome:__ Implement a function to check if a linked list is a palindrome.\n",
    "\n",
    "- while counting length, reverse a copy of list\n",
    "- compare two lists from the beginning up to the middle point\n",
    "- if we don't know the length of the list, use runner technique to reach the middle, and save elements to stack (list, use pop())"
   ]
  },
  {
   "cell_type": "code",
   "execution_count": 7,
   "metadata": {},
   "outputs": [],
   "source": [
    "def palindrome(my_list) -> bool:\n",
    "    i = 0\n",
    "    for i in range(len(my_list) // 2):\n",
    "        if my_list[i] != my_list[-i-1]:\n",
    "            return False\n",
    "    return True"
   ]
  },
  {
   "cell_type": "code",
   "execution_count": 8,
   "metadata": {},
   "outputs": [
    {
     "data": {
      "text/plain": [
       "True"
      ]
     },
     "execution_count": 8,
     "metadata": {},
     "output_type": "execute_result"
    }
   ],
   "source": [
    "palindrome([])"
   ]
  },
  {
   "cell_type": "code",
   "execution_count": 9,
   "metadata": {},
   "outputs": [
    {
     "data": {
      "text/plain": [
       "True"
      ]
     },
     "execution_count": 9,
     "metadata": {},
     "output_type": "execute_result"
    }
   ],
   "source": [
    "palindrome([1, 1])"
   ]
  },
  {
   "cell_type": "code",
   "execution_count": 10,
   "metadata": {},
   "outputs": [
    {
     "data": {
      "text/plain": [
       "True"
      ]
     },
     "execution_count": 10,
     "metadata": {},
     "output_type": "execute_result"
    }
   ],
   "source": [
    "palindrome([1, 2, 3, 2, 1])"
   ]
  },
  {
   "cell_type": "code",
   "execution_count": 11,
   "metadata": {},
   "outputs": [
    {
     "data": {
      "text/plain": [
       "True"
      ]
     },
     "execution_count": 11,
     "metadata": {},
     "output_type": "execute_result"
    }
   ],
   "source": [
    "palindrome([1, 2, 3, 3, 2, 1])"
   ]
  },
  {
   "cell_type": "code",
   "execution_count": 12,
   "metadata": {},
   "outputs": [
    {
     "data": {
      "text/plain": [
       "False"
      ]
     },
     "execution_count": 12,
     "metadata": {},
     "output_type": "execute_result"
    }
   ],
   "source": [
    "palindrome([1, 2, 3, 4, 2, 1])"
   ]
  },
  {
   "cell_type": "markdown",
   "metadata": {},
   "source": [
    "__2.7 Intersection:__ Given two (singly) linked lists, determine if the two lists intersect. Return the intersecting node. Note that the intersection is defined based on reference, not value. That is, if the kth node of the first linked list is the exact same node (by reference) as the jth node of the second linked list, then they are intersecting.\n",
    "\n",
    "- since by reference, all the rest nodes must be the same\n",
    "- comparing from the end, last node must be equal\n",
    "- if length is known, can compare from the beginning"
   ]
  },
  {
   "cell_type": "markdown",
   "metadata": {},
   "source": [
    "__2.8 Loop Detection:__ Given a circular linked list, implement an algorithm that returns the node at the beginning of the loop.\n",
    "\n",
    "DEFINITION\n",
    "\n",
    "Circular linked list: A (corrupt) linked list in which a node's next pointer points to an earlier node, so as to make a loop in the linked list.\n",
    "\n",
    "EXAMPLE\n",
    "\n",
    "Input: A -> B -> C -> D -> E -> C (the same C as earlier)\n",
    "\n",
    "Output: C\n",
    "\n",
    "- runner technique, if there is a loop, once meet"
   ]
  },
  {
   "cell_type": "markdown",
   "metadata": {},
   "source": [
    "-----\n",
    "# Stacks and Queues"
   ]
  },
  {
   "cell_type": "markdown",
   "metadata": {},
   "source": [
    "__Stack__ can be simulated wth the list:\n",
    "\n",
    " - pop(): Remove the top item from the stack, `[1, 2].pop()`\n",
    " - push(item): Add an item to the top of the stack, `[1].append(2)`\n",
    " - peek(): Return the top of the stack, `[1, 2][-1]`\n",
    " - isEmpty(): Return true if and only if the stack is empty, `not bool([])`\n",
    "\n",
    "__OR__ can use `class queue.LifoQueue(maxsize)`"
   ]
  },
  {
   "cell_type": "code",
   "execution_count": 2,
   "metadata": {},
   "outputs": [
    {
     "name": "stdout",
     "output_type": "stream",
     "text": [
      "[1]\n",
      "2\n"
     ]
    }
   ],
   "source": [
    "x = [1, 2]\n",
    "y = x.pop()\n",
    "print(x)\n",
    "print(y)"
   ]
  },
  {
   "cell_type": "code",
   "execution_count": 5,
   "metadata": {},
   "outputs": [
    {
     "name": "stdout",
     "output_type": "stream",
     "text": [
      "[1, 2]\n",
      "None\n"
     ]
    }
   ],
   "source": [
    "x = [1]\n",
    "y = x.append(2)\n",
    "print(x)\n",
    "print(y)"
   ]
  },
  {
   "cell_type": "code",
   "execution_count": 6,
   "metadata": {},
   "outputs": [
    {
     "data": {
      "text/plain": [
       "2"
      ]
     },
     "execution_count": 6,
     "metadata": {},
     "output_type": "execute_result"
    }
   ],
   "source": [
    "[1, 2][-1]"
   ]
  },
  {
   "cell_type": "code",
   "execution_count": 8,
   "metadata": {},
   "outputs": [
    {
     "data": {
      "text/plain": [
       "True"
      ]
     },
     "execution_count": 8,
     "metadata": {},
     "output_type": "execute_result"
    }
   ],
   "source": [
    "not bool([])"
   ]
  },
  {
   "cell_type": "markdown",
   "metadata": {},
   "source": [
    "__Queue__ is implemented in a module `queue`, `class queue.Queue(maxsize)`\n",
    "\n",
    "If maxsize == 0, then endless queue.\n",
    "\n",
    "- add(item): Add an item to the end of the list, `put(item)`\n",
    "- remove(): Remove the first item in the list, `get()`\n",
    "- peek(): Return the top of the queue.\n",
    "- isEmpty(): Return true if and only if the queue is empty, `empty()`\n",
    "\n",
    "`class queue.PriorityQueue(maxsize): (priority, data)`"
   ]
  },
  {
   "cell_type": "code",
   "execution_count": 1,
   "metadata": {},
   "outputs": [
    {
     "name": "stdout",
     "output_type": "stream",
     "text": [
      "eat\n",
      "sleep\n",
      "code\n"
     ]
    }
   ],
   "source": [
    "from queue import Queue\n",
    "q = Queue()\n",
    " \n",
    "q.put('eat')\n",
    "q.put('sleep')\n",
    "q.put('code')\n",
    " \n",
    "print(q.get())\n",
    "print(q.get())\n",
    "print(q.get())\n",
    " \n",
    "# error empty\n",
    "# q.get_nowait()\n",
    "# endless waiting\n",
    "# q.get() "
   ]
  },
  {
   "cell_type": "markdown",
   "metadata": {},
   "source": [
    "108\n",
    "Hints 670\n",
    "Solutions 239"
   ]
  },
  {
   "cell_type": "markdown",
   "metadata": {},
   "source": [
    "__3.1 Three in One:__ Describe how you could use a single array to implement three stacks.\n",
    "\n",
    "Hints: #2, #72, #38, #58"
   ]
  },
  {
   "cell_type": "markdown",
   "metadata": {},
   "source": [
    "__3.2 Stack Min:__ How would you design a stack which, in addition to push and pop, has a function min which returns the minimum element? Push, pop and min should all operate in 0(1) time.\n",
    "\n",
    "Hints: #27, #59, #78"
   ]
  },
  {
   "cell_type": "markdown",
   "metadata": {},
   "source": [
    "__3.3 Stack of Plates:__ Imagine a (literal) stack of plates. If the stack gets too high, it might topple. Therefore, in real life, we would likely start a new stack when the previous stack exceeds some threshold. Implement a data structure SetOfStacks that mimics this. SetOfStacks should be composed of several stacks and should create a new stack once the previous one exceeds capacity. `SetOfStacks.push()` and `SetOfStacks.pop()` should behave identically to a single stack (that is, pop() should return the same values as it would if there were just a single stack).\n",
    "\n",
    "FOLLOW UP\n",
    "Implement a function popAt (int index) which performs a pop operation on a specific sub-stack.\n",
    "\n",
    "Hints: #64, #87"
   ]
  },
  {
   "cell_type": "markdown",
   "metadata": {},
   "source": [
    "__3.4 Queue via Stacks:__ Implement a MyQueue class which implements a queue using two stacks.\n",
    "\n",
    "Hints: #98, #114"
   ]
  },
  {
   "cell_type": "markdown",
   "metadata": {},
   "source": [
    "__3.5 Sort Stack:__ Write a program to sort a stack such that the smallest items are on the top. You can use an additional temporary stack, but you may not copy the elements into any other data structure (such as an array). The stack supports the following operations: push, pop, peek, and isEmpty.\n",
    "\n",
    "Hints: #15, #32, #43"
   ]
  },
  {
   "cell_type": "markdown",
   "metadata": {},
   "source": [
    "__3.6 Animal Shelter:__ An animal shelter, which holds only dogs and cats, operates on a strictly \"first in, first out\" basis. People must adopt either the \"oldest\" (based on arrival time) of all animals at the shelter, or they can select whether they would prefer a dog or a cat (and will receive the oldest animal of that type). They cannot select which specific animal they would like. Create the data structures to\n",
    "maintain this system and implement operations such as enqueue, dequeueAny, dequeueDog, and dequeueCat. You may use the built-in Linked List data structure.\n",
    "\n",
    "Hints: #22, #56, #63"
   ]
  },
  {
   "cell_type": "markdown",
   "metadata": {},
   "source": [
    "-----\n",
    "# Bitwise Operations\n",
    "\n",
    "&, |, ^, ~ << \n",
    "\n",
    "A very elegant way to __check that an integer has exactly one bit set to 1__. We can check to see that a number has exactly one 1 because if we subtract 1 from it and then AND it with the new number, we should get 0.\n",
    "\n",
    "00010000 - 1 = 00001111\n",
    "\n",
    "00010000 & 00001111 = 0\n"
   ]
  },
  {
   "cell_type": "code",
   "execution_count": 79,
   "metadata": {},
   "outputs": [
    {
     "data": {
      "text/plain": [
       "True"
      ]
     },
     "execution_count": 79,
     "metadata": {},
     "output_type": "execute_result"
    }
   ],
   "source": [
    "i = 1\n",
    "(i & (i - 1)) == 0"
   ]
  },
  {
   "cell_type": "code",
   "execution_count": null,
   "metadata": {},
   "outputs": [],
   "source": []
  }
 ],
 "metadata": {
  "kernelspec": {
   "display_name": "Python 3",
   "language": "python",
   "name": "python3"
  },
  "language_info": {
   "codemirror_mode": {
    "name": "ipython",
    "version": 3
   },
   "file_extension": ".py",
   "mimetype": "text/x-python",
   "name": "python",
   "nbconvert_exporter": "python",
   "pygments_lexer": "ipython3",
   "version": "3.7.4"
  }
 },
 "nbformat": 4,
 "nbformat_minor": 4
}
