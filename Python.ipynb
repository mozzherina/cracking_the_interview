{
 "cells": [
  {
   "cell_type": "markdown",
   "metadata": {},
   "source": [
    "# 1. Arrays and Strings"
   ]
  },
  {
   "cell_type": "markdown",
   "metadata": {},
   "source": [
    "__Array__ means list\n",
    "\n",
    "```\n",
    "my_list = ['Hello', ', ', 'world']\n",
    "my_list[0] = 'Hi'\n",
    "my_list.append('!')\n",
    "print(len(my_list))\n",
    "for x in my_list:\n",
    "   print(x)\n",
    "```\n",
    "\n",
    "append() Adds an element at the end of the list\n",
    "\n",
    "clear() Removes all the elements from the list\n",
    "\n",
    "copy() Returns a copy of the list\n",
    "\n",
    "count() Returns the number of elements with the specified value\n",
    "\n",
    "index() Returns the index of the first element with the specified value\n",
    "\n",
    "insert() Adds an element at the specified position\n",
    "\n",
    "pop() Removes the element at the specified position\n",
    "\n",
    "remove() Removes the first item with the specified value\n",
    "\n",
    "reverse() Reverses the order of the list\n",
    "\n",
    "sort() Sorts the list\n",
    "\n",
    "__Dictionaries__\n",
    "\n",
    "collections.OrderedDict – A dictionary subclass that remembers the insertion order of keys added to the collection.\n",
    "\n",
    "collections.ChainMap – Search multiple dictionaries as a single mapping."
   ]
  },
  {
   "cell_type": "code",
   "execution_count": 3,
   "metadata": {},
   "outputs": [
    {
     "name": "stdout",
     "output_type": "stream",
     "text": [
      "4\n",
      "Hi\n",
      ", \n",
      "world\n",
      "!\n"
     ]
    }
   ],
   "source": [
    "my_list = ['Hello', ', ', 'world']\n",
    "my_list[0] = 'Hi'\n",
    "my_list.append('!')\n",
    "print(len(my_list))\n",
    "for x in my_list:\n",
    "    print(x)"
   ]
  },
  {
   "cell_type": "code",
   "execution_count": 7,
   "metadata": {},
   "outputs": [
    {
     "data": {
      "text/plain": [
       "OrderedDict([('one', 1), ('two', 2), ('three', 3)])"
      ]
     },
     "execution_count": 7,
     "metadata": {},
     "output_type": "execute_result"
    }
   ],
   "source": [
    "from collections import OrderedDict\n",
    "d = collections.OrderedDict(one=1, two=2, three=3)\n",
    "d"
   ]
  },
  {
   "cell_type": "code",
   "execution_count": 5,
   "metadata": {},
   "outputs": [
    {
     "name": "stdout",
     "output_type": "stream",
     "text": [
      "ChainMap({'one': 1, 'two': 2}, {'three': 3, 'four': 4})\n",
      "3\n",
      "1\n"
     ]
    }
   ],
   "source": [
    "from collections import ChainMap\n",
    "dict1 = {'one': 1, 'two': 2}\n",
    "dict2 = {'three': 3, 'four': 4}\n",
    "chain = ChainMap(dict1, dict2)\n",
    "print(chain)\n",
    "print(chain['three'])\n",
    "print(chain['one'])"
   ]
  },
  {
   "cell_type": "code",
   "execution_count": 8,
   "metadata": {},
   "outputs": [
    {
     "data": {
      "text/plain": [
       "'abcabcabcabcabcabcabcabcabcabc'"
      ]
     },
     "execution_count": 8,
     "metadata": {},
     "output_type": "execute_result"
    }
   ],
   "source": [
    "''.join(['abc' for _ in range(10)])"
   ]
  },
  {
   "cell_type": "code",
   "execution_count": null,
   "metadata": {},
   "outputs": [],
   "source": []
  }
 ],
 "metadata": {
  "kernelspec": {
   "display_name": "Python 3",
   "language": "python",
   "name": "python3"
  },
  "language_info": {
   "codemirror_mode": {
    "name": "ipython",
    "version": 3
   },
   "file_extension": ".py",
   "mimetype": "text/x-python",
   "name": "python",
   "nbconvert_exporter": "python",
   "pygments_lexer": "ipython3",
   "version": "3.7.4"
  }
 },
 "nbformat": 4,
 "nbformat_minor": 4
}
