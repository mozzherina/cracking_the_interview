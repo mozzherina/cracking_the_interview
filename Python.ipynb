{
 "cells": [
  {
   "cell_type": "markdown",
   "metadata": {},
   "source": [
    "# 1. Arrays and Strings"
   ]
  },
  {
   "cell_type": "markdown",
   "metadata": {},
   "source": [
    "__Array__ means list in\n",
    "\n",
    "- append() Adds an element at the end of the list\n",
    "- clear() Removes all the elements from the list\n",
    "- copy() Returns a copy of the list\n",
    "- count() Returns the number of elements with the specified value\n",
    "- index() Returns the index of the first element with the specified value\n",
    "- insert() Adds an element at the specified position\n",
    "- pop() Removes the element at the specified position\n",
    "- remove() Removes the first item with the specified value\n",
    "- reverse() Reverses the order of the list\n",
    "- sort() Sorts the list"
   ]
  },
  {
   "cell_type": "code",
   "execution_count": 1,
   "metadata": {},
   "outputs": [
    {
     "name": "stdout",
     "output_type": "stream",
     "text": [
      "Hi\n",
      ", \n",
      "world\n",
      "!\n"
     ]
    }
   ],
   "source": [
    "my_list = ['Hello', ', ', 'world']\n",
    "my_list[0] = 'Hi'\n",
    "my_list.append('!')\n",
    "for x in my_list:\n",
    "    print(x)"
   ]
  },
  {
   "cell_type": "markdown",
   "metadata": {},
   "source": [
    "__Dictionaries__\n",
    "\n",
    "collections.OrderedDict – A dictionary subclass that remembers the insertion order of keys added to the collection.\n",
    "\n",
    "collections.ChainMap – Search multiple dictionaries as a single mapping."
   ]
  },
  {
   "cell_type": "code",
   "execution_count": 7,
   "metadata": {},
   "outputs": [
    {
     "data": {
      "text/plain": [
       "OrderedDict([('one', 1), ('two', 2), ('three', 3)])"
      ]
     },
     "execution_count": 7,
     "metadata": {},
     "output_type": "execute_result"
    }
   ],
   "source": [
    "from collections import OrderedDict\n",
    "d = collections.OrderedDict(one=1, two=2, three=3)\n",
    "d"
   ]
  },
  {
   "cell_type": "code",
   "execution_count": 5,
   "metadata": {},
   "outputs": [
    {
     "name": "stdout",
     "output_type": "stream",
     "text": [
      "ChainMap({'one': 1, 'two': 2}, {'three': 3, 'four': 4})\n",
      "3\n",
      "1\n"
     ]
    }
   ],
   "source": [
    "from collections import ChainMap\n",
    "dict1 = {'one': 1, 'two': 2}\n",
    "dict2 = {'three': 3, 'four': 4}\n",
    "chain = ChainMap(dict1, dict2)\n",
    "print(chain)\n",
    "print(chain['three'])\n",
    "print(chain['one'])"
   ]
  },
  {
   "cell_type": "markdown",
   "metadata": {},
   "source": [
    "\n",
    "__List Comprehension__ instead of StringBuffer"
   ]
  },
  {
   "cell_type": "code",
   "execution_count": 3,
   "metadata": {},
   "outputs": [
    {
     "data": {
      "text/plain": [
       "'abc0_abc1_abc2_abc3_abc4_abc5_abc6_abc7_abc8_abc9_'"
      ]
     },
     "execution_count": 3,
     "metadata": {},
     "output_type": "execute_result"
    }
   ],
   "source": [
    "''.join(['abc%s_' %i for i in range(10)])"
   ]
  },
  {
   "cell_type": "markdown",
   "metadata": {},
   "source": [
    "Check if a string has all unique characters:"
   ]
  },
  {
   "cell_type": "code",
   "execution_count": 11,
   "metadata": {},
   "outputs": [
    {
     "data": {
      "text/plain": [
       "True"
      ]
     },
     "execution_count": 11,
     "metadata": {},
     "output_type": "execute_result"
    }
   ],
   "source": [
    "# O(n*log n)\n",
    "def all_unique(s:str) -> bool:\n",
    "    s = list(s)\n",
    "    s.sort()\n",
    "    for i in range(len(s) - 1):\n",
    "        if s[i] == s[i+1]:\n",
    "            return False\n",
    "    return True\n",
    "\n",
    "my_str1 = 'anrldkngowbd'\n",
    "my_str2 = 'abcdefg'\n",
    "my_str3 = ''\n",
    "all_unique(my_str3)"
   ]
  },
  {
   "cell_type": "markdown",
   "metadata": {},
   "source": [
    "Check if a list is a permutation of another one:"
   ]
  },
  {
   "cell_type": "code",
   "execution_count": 12,
   "metadata": {},
   "outputs": [
    {
     "data": {
      "text/plain": [
       "True"
      ]
     },
     "execution_count": 12,
     "metadata": {},
     "output_type": "execute_result"
    }
   ],
   "source": [
    "from typing import List, Any\n",
    "\n",
    "# O(n*log n)\n",
    "def is_permutation(fst: List[Any], snd: List[Any]) -> bool:\n",
    "    if len(fst) != len(snd):\n",
    "        return False\n",
    "    fst.sort()\n",
    "    snd.sort()\n",
    "    for i in range(len(fst)):\n",
    "        if fst[i] != snd[i]:\n",
    "            return False\n",
    "    return True\n",
    "        \n",
    "my_str1 = 'andrdld'\n",
    "my_str2 = 'arndldd'\n",
    "is_permutation(list(my_str1), list(my_str2))"
   ]
  },
  {
   "cell_type": "code",
   "execution_count": 39,
   "metadata": {},
   "outputs": [],
   "source": [
    "def is_changed(fst: str, snd: str) -> bool:\n",
    "    met_edit = False\n",
    "    for i in range(len(fst)):\n",
    "        if fst[i] != snd[i]:\n",
    "            if met_edit: return False\n",
    "            met_edit = True\n",
    "    return True\n",
    "\n",
    "def is_insert(fst: str, snd: str) -> bool:\n",
    "    met_edit = False\n",
    "    i = 0\n",
    "    j = 0\n",
    "    while min(i, j) < min(len(fst), len(snd)):\n",
    "        if fst[i] != snd[j]:\n",
    "            if met_edit: return False\n",
    "            if len(fst) < len(snd): \n",
    "                j += 1\n",
    "            else:\n",
    "                i += 1\n",
    "            met_edit = True\n",
    "        else:    \n",
    "            i += 1\n",
    "            j += 1\n",
    "    return True                    \n",
    "\n",
    "def is_le1_edit_away(fst: str, snd: str) -> bool:\n",
    "    if abs(len(fst) - len(snd)) > 1:\n",
    "        return False\n",
    "    if len(fst) == len(snd):\n",
    "        return is_changed(fst, snd)\n",
    "    else:\n",
    "        return is_insert(fst, snd)"
   ]
  },
  {
   "cell_type": "code",
   "execution_count": 40,
   "metadata": {},
   "outputs": [
    {
     "name": "stdout",
     "output_type": "stream",
     "text": [
      "True\n",
      "True\n",
      "True\n",
      "True\n",
      "True\n",
      "False\n",
      "False\n",
      "False\n"
     ]
    }
   ],
   "source": [
    "print(is_le1_edit_away('', ''))\n",
    "print(is_le1_edit_away('abc', 'abc'))\n",
    "print(is_le1_edit_away('abcd', 'abc'))\n",
    "print(is_le1_edit_away('abc', 'abcd'))\n",
    "print(is_le1_edit_away('adc', 'abc'))\n",
    "print(is_le1_edit_away('abcdd', 'abc'))\n",
    "print(is_le1_edit_away('ade', 'abc'))\n",
    "print(is_le1_edit_away('abde', 'abc'))"
   ]
  },
  {
   "cell_type": "code",
   "execution_count": null,
   "metadata": {},
   "outputs": [],
   "source": []
  }
 ],
 "metadata": {
  "kernelspec": {
   "display_name": "Python 3",
   "language": "python",
   "name": "python3"
  },
  "language_info": {
   "codemirror_mode": {
    "name": "ipython",
    "version": 3
   },
   "file_extension": ".py",
   "mimetype": "text/x-python",
   "name": "python",
   "nbconvert_exporter": "python",
   "pygments_lexer": "ipython3",
   "version": "3.7.4"
  }
 },
 "nbformat": 4,
 "nbformat_minor": 4
}
