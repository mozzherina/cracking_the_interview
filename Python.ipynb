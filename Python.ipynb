{
 "cells": [
  {
   "cell_type": "markdown",
   "metadata": {},
   "source": [
    "# 1. Strings and Dictionaries"
   ]
  },
  {
   "cell_type": "markdown",
   "metadata": {},
   "source": [
    "__List__ (no _array_ in Python) \n",
    "\n",
    "- append() Adds an element at the end of the list\n",
    "- clear() Removes all the elements from the list\n",
    "- copy() Returns a copy of the list\n",
    "- count() Returns the number of elements with the specified value\n",
    "- index() Returns the index of the first element with the specified value\n",
    "- insert() Adds an element at the specified position\n",
    "- pop() Removes the element at the specified position\n",
    "- remove() Removes the first item with the specified value\n",
    "- reverse() Reverses the order of the list\n",
    "- sort() Sorts the list"
   ]
  },
  {
   "cell_type": "code",
   "execution_count": 1,
   "metadata": {},
   "outputs": [
    {
     "name": "stdout",
     "output_type": "stream",
     "text": [
      "Hi\n",
      ", \n",
      "world\n",
      "!\n"
     ]
    }
   ],
   "source": [
    "my_list = ['Hello', ', ', 'world']\n",
    "my_list[0] = 'Hi'\n",
    "my_list.append('!')\n",
    "for x in my_list:\n",
    "    print(x)"
   ]
  },
  {
   "cell_type": "markdown",
   "metadata": {},
   "source": [
    "\n",
    "__List Comprehension__ (instead of StringBuffer)"
   ]
  },
  {
   "cell_type": "code",
   "execution_count": 68,
   "metadata": {},
   "outputs": [
    {
     "data": {
      "text/plain": [
       "'abc0_abc1_abc2_abc3_abc4_abc5_abc6_abc7_abc8_abc9_'"
      ]
     },
     "execution_count": 68,
     "metadata": {},
     "output_type": "execute_result"
    }
   ],
   "source": [
    "''.join(['abc%s_'%i for i in range(10)])"
   ]
  },
  {
   "cell_type": "markdown",
   "metadata": {},
   "source": [
    "__Dictionary__ (instead of HashMap)\n",
    "\n",
    "collections.OrderedDict – A dictionary subclass that remembers the insertion order of keys added to the collection.\n",
    "\n",
    "collections.ChainMap – Search multiple dictionaries as a single mapping."
   ]
  },
  {
   "cell_type": "code",
   "execution_count": 7,
   "metadata": {},
   "outputs": [
    {
     "data": {
      "text/plain": [
       "OrderedDict([('one', 1), ('two', 2), ('three', 3)])"
      ]
     },
     "execution_count": 7,
     "metadata": {},
     "output_type": "execute_result"
    }
   ],
   "source": [
    "from collections import OrderedDict\n",
    "d = collections.OrderedDict(one=1, two=2, three=3)\n",
    "d"
   ]
  },
  {
   "cell_type": "code",
   "execution_count": 5,
   "metadata": {},
   "outputs": [
    {
     "name": "stdout",
     "output_type": "stream",
     "text": [
      "ChainMap({'one': 1, 'two': 2}, {'three': 3, 'four': 4})\n",
      "3\n",
      "1\n"
     ]
    }
   ],
   "source": [
    "from collections import ChainMap\n",
    "dict1 = {'one': 1, 'two': 2}\n",
    "dict2 = {'three': 3, 'four': 4}\n",
    "chain = ChainMap(dict1, dict2)\n",
    "print(chain)\n",
    "print(chain['three'])\n",
    "print(chain['one'])"
   ]
  },
  {
   "cell_type": "markdown",
   "metadata": {},
   "source": [
    "Building in a List Comprehension manner"
   ]
  },
  {
   "cell_type": "code",
   "execution_count": 70,
   "metadata": {},
   "outputs": [
    {
     "data": {
      "text/plain": [
       "True"
      ]
     },
     "execution_count": 70,
     "metadata": {},
     "output_type": "execute_result"
    }
   ],
   "source": [
    "ch_dict = {ch:0 for ch in string.ascii_lowercase}\n",
    "'a' in ch_dict"
   ]
  },
  {
   "cell_type": "markdown",
   "metadata": {},
   "source": [
    "__Strings__\n",
    "\n",
    "- ord, chr for chars\n",
    "- lower(), upper()\n",
    "- replace(' ', '')\n",
    "- sort()"
   ]
  },
  {
   "cell_type": "code",
   "execution_count": 72,
   "metadata": {},
   "outputs": [
    {
     "name": "stdout",
     "output_type": "stream",
     "text": [
      "abcdefghijklmnopqrstuvwxyzABCDEFGHIJKLMNOPQRSTUVWXYZ\n",
      "abcdefghijklmnopqrstuvwxyz\n",
      "0123456789\n",
      " \t\n",
      "\u000b",
      "\f",
      "\n"
     ]
    }
   ],
   "source": [
    "import string\n",
    "print(string.ascii_letters)\n",
    "print(string.ascii_lowercase)\n",
    "print(string.digits)\n",
    "print(string.whitespace)"
   ]
  },
  {
   "cell_type": "markdown",
   "metadata": {},
   "source": [
    "------"
   ]
  },
  {
   "cell_type": "markdown",
   "metadata": {},
   "source": [
    "__1.1 Is Unique:__ Implement an algorithm to determine if a string has all unique characters. What if you\n",
    "cannot use additional data structures?\n",
    "\n",
    "One solution is to create an array of boolean values, where the flag at index i indicates whether character\n",
    "i in the alphabet is contained in the string. The second time you see this character you can immediately\n",
    "return false.\n",
    "The time complexity for this code is O(n), where n is the length of the string. The space complexity is O(1).\n",
    "\n",
    "- if the string is an ASCII string (128 or 256) or a Unicode string\n",
    "- you can't form a string of 280 unique characters out of a 128-character alphabet"
   ]
  },
  {
   "cell_type": "code",
   "execution_count": 9,
   "metadata": {},
   "outputs": [],
   "source": [
    "# O(n) complexity, O(1) space\n",
    "def all_unique_ascii(s:str) -> bool:\n",
    "    if len(s) > 128: \n",
    "        return False\n",
    "    ch_dict = {}\n",
    "    for ch in s:\n",
    "        if ch not in ch_dict:\n",
    "            ch_dict[ch] = True\n",
    "        else:\n",
    "            return False\n",
    "    return True"
   ]
  },
  {
   "cell_type": "code",
   "execution_count": 25,
   "metadata": {},
   "outputs": [],
   "source": [
    "# O(n) complexity, O(1) space, bit operations\n",
    "def all_unique_chars(s:str) -> bool:\n",
    "    if len(s) > 128: \n",
    "        return False\n",
    "    checker = 0\n",
    "    for ch in s:\n",
    "        val = ord(ch) - ord('a')\n",
    "        if (checker & (1 << val)) > 0 :\n",
    "            return False\n",
    "        checker |= (1 << val)\n",
    "    return True"
   ]
  },
  {
   "cell_type": "code",
   "execution_count": 11,
   "metadata": {},
   "outputs": [],
   "source": [
    "# O(n*log n) no extra space\n",
    "def all_unique(s:str) -> bool:\n",
    "    s = list(s)\n",
    "    s.sort()\n",
    "    for i in range(len(s) - 1):\n",
    "        if s[i] == s[i+1]:\n",
    "            return False\n",
    "    return True"
   ]
  },
  {
   "cell_type": "code",
   "execution_count": 12,
   "metadata": {},
   "outputs": [
    {
     "data": {
      "text/plain": [
       "True"
      ]
     },
     "execution_count": 12,
     "metadata": {},
     "output_type": "execute_result"
    }
   ],
   "source": [
    "my_str1 = 'anrldkngowbd'\n",
    "my_str2 = 'abcdefg'\n",
    "my_str3 = ''\n",
    "all_unique_ascii(my_str3)"
   ]
  },
  {
   "cell_type": "markdown",
   "metadata": {},
   "source": [
    "__1.2 Check Permutation:__ Given two strings, write a method to decide if one is a permutation of the\n",
    "other.\n",
    "\n",
    "- if the permutation comparison is case sensitive\n",
    "- if whitespace is significant"
   ]
  },
  {
   "cell_type": "code",
   "execution_count": 26,
   "metadata": {},
   "outputs": [],
   "source": [
    "from typing import List, Any\n",
    "\n",
    "# O(n*log n)\n",
    "def is_permutation(fst: List[Any], snd: List[Any]) -> bool:\n",
    "    if len(fst) != len(snd):\n",
    "        return False\n",
    "    fst.sort()\n",
    "    snd.sort()\n",
    "    for i in range(len(fst)):\n",
    "        if fst[i] != snd[i]:\n",
    "            return False\n",
    "    return True"
   ]
  },
  {
   "cell_type": "code",
   "execution_count": 73,
   "metadata": {},
   "outputs": [],
   "source": [
    "import string\n",
    "def check_permutation(fst:str, snd:str) -> bool:\n",
    "    if len(fst) != len(snd):\n",
    "        return False\n",
    "    ch_dict = {ch:0 for ch in string.ascii_lowercase}\n",
    "    for ch in fst.lower():\n",
    "        ch_dict[ch] += 1\n",
    "    for ch in snd.lower():\n",
    "        ch_dict[ch] -= 1\n",
    "        if ch_dict[ch] < 0:\n",
    "            return False\n",
    "    return True"
   ]
  },
  {
   "cell_type": "code",
   "execution_count": 75,
   "metadata": {},
   "outputs": [
    {
     "data": {
      "text/plain": [
       "True"
      ]
     },
     "execution_count": 75,
     "metadata": {},
     "output_type": "execute_result"
    }
   ],
   "source": [
    "my_str1 = 'andrdld'\n",
    "my_str2 = 'arndldd'\n",
    "check_permutation('asd', 'asd')"
   ]
  },
  {
   "cell_type": "markdown",
   "metadata": {},
   "source": [
    "__1.4 Palindrome Permutation:__ Given a string, write a function to check if it is a permutation of a palindrome. A palindrome is a word or phrase that is the same forwards and backwards. A permutation is a rearrangement of letters. The palindrome does not need to be limited to just dictionary words.\n",
    "\n",
    "EXAMPLE\n",
    "\n",
    "Input: Tact Coa\n",
    "\n",
    "Output: True (permutations: \"taco cat\". \"atco cta\". etc.)\n",
    "\n",
    "- not case sensitive\n",
    "- whitespaces doesn't matter"
   ]
  },
  {
   "cell_type": "markdown",
   "metadata": {},
   "source": [
    "A very elegant way to check that an integer has exactly one bit set to 1. We can check to see that a number has exactly one 1 because if we subtract 1 from it and then AND it with the new number, we should get 0.\n",
    "\n",
    "00010000 - 1 = 00001111\n",
    "\n",
    "00010000 & 00001111 = 0"
   ]
  },
  {
   "cell_type": "code",
   "execution_count": 43,
   "metadata": {},
   "outputs": [],
   "source": [
    "# O(n) time, full dictionary\n",
    "import string\n",
    "\n",
    "def palindrome_per(s:str) -> bool:\n",
    "    ch_dict = {ch:0 for ch in string.ascii_letters}\n",
    "    for ch in s.replace(' ', '').lower():\n",
    "        ch_dict[ch] += 1\n",
    "    flag = False\n",
    "    for ch in ch_dict.keys():\n",
    "        if ch_dict[ch] % 2 == 1:\n",
    "            if flag: \n",
    "                return False\n",
    "            flag = True\n",
    "    return True"
   ]
  },
  {
   "cell_type": "code",
   "execution_count": 80,
   "metadata": {},
   "outputs": [],
   "source": [
    "# O(n) time, bitwise\n",
    "def check_one(i:int) -> bool:\n",
    "    return (i & (i - 1)) == 0\n",
    "\n",
    "def is_palindrome(s:str) -> bool:\n",
    "    letters = 0\n",
    "    for ch in s.replace(' ', '').lower():\n",
    "        letters ^= (1 << (ord(ch) - ord('a')))    \n",
    "    return (letters == 0) or check_one(letters)"
   ]
  },
  {
   "cell_type": "code",
   "execution_count": 81,
   "metadata": {},
   "outputs": [
    {
     "data": {
      "text/plain": [
       "True"
      ]
     },
     "execution_count": 81,
     "metadata": {},
     "output_type": "execute_result"
    }
   ],
   "source": [
    "is_palindrome(\"Tact Coa\")"
   ]
  },
  {
   "cell_type": "markdown",
   "metadata": {},
   "source": [
    "__1.5 One Away:__ There are three types of edits that can be performed on strings: insert a character,\n",
    "remove a character, or replace a character. Given two strings, write a function to check if they are\n",
    "one edit (or zero edits) away."
   ]
  },
  {
   "cell_type": "code",
   "execution_count": 5,
   "metadata": {},
   "outputs": [],
   "source": [
    "def is_changed(fst: str, snd: str) -> bool:\n",
    "    edit = False\n",
    "    for i in range(len(fst)):\n",
    "        if fst[i] != snd[i]:\n",
    "            if edit: return False\n",
    "            edit = True\n",
    "    return True\n",
    "\n",
    "def is_insert(fst: str, snd: str) -> bool:\n",
    "    edit = False\n",
    "    i = 0\n",
    "    j = 0\n",
    "    while i < len(fst) and j < len(snd):\n",
    "        if fst[i] != snd[j]:\n",
    "            if edit: return False\n",
    "            j += 1\n",
    "            edit = True\n",
    "        else:    \n",
    "            i += 1\n",
    "            j += 1\n",
    "    return True                    \n",
    "\n",
    "def one_away(fst: str, snd: str) -> bool:\n",
    "    if abs(len(fst) - len(snd)) > 1:\n",
    "        return False\n",
    "    if len(fst) == len(snd):\n",
    "        return is_changed(fst, snd)\n",
    "    else:\n",
    "        if len(fst) < len(snd):\n",
    "            return is_insert(fst, snd)\n",
    "        else:\n",
    "            return is_insert(snd, fst)"
   ]
  },
  {
   "cell_type": "code",
   "execution_count": 6,
   "metadata": {},
   "outputs": [
    {
     "name": "stdout",
     "output_type": "stream",
     "text": [
      "True\n",
      "True\n",
      "True\n",
      "True\n",
      "True\n",
      "False\n",
      "False\n",
      "False\n"
     ]
    }
   ],
   "source": [
    "print(one_away('', ''))\n",
    "print(one_away('abc', 'abc'))\n",
    "print(one_away('abcd', 'abc'))\n",
    "print(one_away('abc', 'abcd'))\n",
    "print(one_away('adc', 'abc'))\n",
    "print(one_away('abcdd', 'abc'))\n",
    "print(one_away('ade', 'abc'))\n",
    "print(one_away('abde', 'abc'))"
   ]
  },
  {
   "cell_type": "markdown",
   "metadata": {},
   "source": [
    "__1.6 String Compression:__ Implement a method to perform basic string compression using the counts\n",
    "of repeated characters. For example, the string aabcccccaaa would become a2b1c5a3. If the\n",
    "\"compressed\" string would not become smaller than the original string, your method should return\n",
    "the original string. You can assume the string has only uppercase and lowercase letters (a - z)."
   ]
  },
  {
   "cell_type": "code",
   "execution_count": 14,
   "metadata": {},
   "outputs": [],
   "source": [
    "import string\n",
    "\n",
    "def str_compression(s: str) -> str:\n",
    "    result = ''\n",
    "    prev_ch = s[0]\n",
    "    count = 0\n",
    "    for ch in s:\n",
    "        if ch == prev_ch:\n",
    "            count += 1\n",
    "        else:\n",
    "            result += prev_ch\n",
    "            result += '%s'%count\n",
    "            prev_ch = ch\n",
    "            count = 1\n",
    "    result += prev_ch\n",
    "    result += '%s'%count\n",
    "    return result if len(result) < len(s) else s        "
   ]
  },
  {
   "cell_type": "code",
   "execution_count": 18,
   "metadata": {},
   "outputs": [
    {
     "data": {
      "text/plain": [
       "'a3b3c1d3s2c2'"
      ]
     },
     "execution_count": 18,
     "metadata": {},
     "output_type": "execute_result"
    }
   ],
   "source": [
    "str_compression('aaabbbcdddsscc')"
   ]
  },
  {
   "cell_type": "markdown",
   "metadata": {},
   "source": [
    "Hints 670\n",
    "Solutions 215"
   ]
  },
  {
   "cell_type": "markdown",
   "metadata": {},
   "source": [
    "__1.7 Rotate Matrix:__ Given an image represented by an NxN matrix, where each pixel in the image is 4\n",
    "bytes, write a method to rotate the image by 90 degrees. (an you do this in place?"
   ]
  },
  {
   "cell_type": "markdown",
   "metadata": {},
   "source": [
    "__1.8 Zero Matrix:__ Write an algorithm such that if an element in an MxN matrix is 0, its entire row and\n",
    "column are set to O."
   ]
  },
  {
   "cell_type": "markdown",
   "metadata": {},
   "source": [
    "__1.9 String Rotation:__ Assume you have a method isSubst ring which checks if one word is a substring\n",
    "of another. Given two strings, 51 and 52, write code to check if 52 is a rotation of 51 using only one\n",
    "call to isSubstring (e . g. , \"waterbottle \" is a rotation of \" erbottlewat\")."
   ]
  },
  {
   "cell_type": "markdown",
   "metadata": {},
   "source": [
    "-----\n",
    "# Bitwise Operations\n",
    "\n",
    "&, |, ^, ~ << \n",
    "\n",
    "A very elegant way to __check that an integer has exactly one bit set to 1__. We can check to see that a number has exactly one 1 because if we subtract 1 from it and then AND it with the new number, we should get 0.\n",
    "\n",
    "00010000 - 1 = 00001111\n",
    "\n",
    "00010000 & 00001111 = 0\n"
   ]
  },
  {
   "cell_type": "code",
   "execution_count": 79,
   "metadata": {},
   "outputs": [
    {
     "data": {
      "text/plain": [
       "True"
      ]
     },
     "execution_count": 79,
     "metadata": {},
     "output_type": "execute_result"
    }
   ],
   "source": [
    "i = 1\n",
    "(i & (i - 1)) == 0"
   ]
  },
  {
   "cell_type": "code",
   "execution_count": null,
   "metadata": {},
   "outputs": [],
   "source": []
  }
 ],
 "metadata": {
  "kernelspec": {
   "display_name": "Python 3",
   "language": "python",
   "name": "python3"
  },
  "language_info": {
   "codemirror_mode": {
    "name": "ipython",
    "version": 3
   },
   "file_extension": ".py",
   "mimetype": "text/x-python",
   "name": "python",
   "nbconvert_exporter": "python",
   "pygments_lexer": "ipython3",
   "version": "3.7.4"
  }
 },
 "nbformat": 4,
 "nbformat_minor": 4
}
