{
 "cells": [
  {
   "cell_type": "markdown",
   "metadata": {},
   "source": [
    "# 1. Strings and Dictionaries"
   ]
  },
  {
   "cell_type": "markdown",
   "metadata": {},
   "source": [
    "\n",
    "__List Comprehension__ (instead of StringBuffer)"
   ]
  },
  {
   "cell_type": "code",
   "execution_count": 68,
   "metadata": {},
   "outputs": [
    {
     "data": {
      "text/plain": [
       "'abc0_abc1_abc2_abc3_abc4_abc5_abc6_abc7_abc8_abc9_'"
      ]
     },
     "execution_count": 68,
     "metadata": {},
     "output_type": "execute_result"
    }
   ],
   "source": [
    "''.join(['abc%s_'%i for i in range(10)])"
   ]
  },
  {
   "cell_type": "markdown",
   "metadata": {},
   "source": [
    "__Dictionary__ (instead of HashMap)\n",
    "\n",
    "collections.OrderedDict – A dictionary subclass that remembers the insertion order of keys added to the collection.\n",
    "\n",
    "collections.ChainMap – Search multiple dictionaries as a single mapping."
   ]
  },
  {
   "cell_type": "code",
   "execution_count": 7,
   "metadata": {},
   "outputs": [
    {
     "data": {
      "text/plain": [
       "OrderedDict([('one', 1), ('two', 2), ('three', 3)])"
      ]
     },
     "execution_count": 7,
     "metadata": {},
     "output_type": "execute_result"
    }
   ],
   "source": [
    "from collections import OrderedDict\n",
    "d = collections.OrderedDict(one=1, two=2, three=3)\n",
    "d"
   ]
  },
  {
   "cell_type": "code",
   "execution_count": 5,
   "metadata": {},
   "outputs": [
    {
     "name": "stdout",
     "output_type": "stream",
     "text": [
      "ChainMap({'one': 1, 'two': 2}, {'three': 3, 'four': 4})\n",
      "3\n",
      "1\n"
     ]
    }
   ],
   "source": [
    "from collections import ChainMap\n",
    "dict1 = {'one': 1, 'two': 2}\n",
    "dict2 = {'three': 3, 'four': 4}\n",
    "chain = ChainMap(dict1, dict2)\n",
    "print(chain)\n",
    "print(chain['three'])\n",
    "print(chain['one'])"
   ]
  },
  {
   "cell_type": "markdown",
   "metadata": {},
   "source": [
    "Building in a List Comprehension manner"
   ]
  },
  {
   "cell_type": "code",
   "execution_count": 70,
   "metadata": {},
   "outputs": [
    {
     "data": {
      "text/plain": [
       "True"
      ]
     },
     "execution_count": 70,
     "metadata": {},
     "output_type": "execute_result"
    }
   ],
   "source": [
    "import string\n",
    "ch_dict = {ch:0 for ch in string.ascii_lowercase}\n",
    "'a' in ch_dict"
   ]
  },
  {
   "cell_type": "markdown",
   "metadata": {},
   "source": [
    "__Strings__\n",
    "\n",
    "- ord, chr for chars\n",
    "- lower(), upper()\n",
    "- replace(' ', '')\n",
    "- sort()"
   ]
  },
  {
   "cell_type": "code",
   "execution_count": 72,
   "metadata": {},
   "outputs": [
    {
     "name": "stdout",
     "output_type": "stream",
     "text": [
      "abcdefghijklmnopqrstuvwxyzABCDEFGHIJKLMNOPQRSTUVWXYZ\n",
      "abcdefghijklmnopqrstuvwxyz\n",
      "0123456789\n",
      " \t\n",
      "\u000b",
      "\f",
      "\n"
     ]
    }
   ],
   "source": [
    "import string\n",
    "print(string.ascii_letters)\n",
    "print(string.ascii_lowercase)\n",
    "print(string.digits)\n",
    "print(string.whitespace)"
   ]
  },
  {
   "cell_type": "markdown",
   "metadata": {},
   "source": [
    "__NumPy Array__\n",
    "\n",
    "Adding `A + B`\n",
    "\n",
    "Multiplication `A.dot(B)`\n",
    "\n",
    "Transpositioning `A.transpose()`\n"
   ]
  },
  {
   "cell_type": "code",
   "execution_count": 16,
   "metadata": {},
   "outputs": [
    {
     "name": "stdout",
     "output_type": "stream",
     "text": [
      "[[1 2 3]\n",
      " [3 4 5]]\n",
      "A[1][2] = 5\n",
      "A[0] = [1 2 3]\n",
      "A[:,0] = [1 3]\n",
      "(2, 3)\n"
     ]
    }
   ],
   "source": [
    "import numpy as np\n",
    "\n",
    "A = np.array([[1, 2, 3], [3, 4, 5]])\n",
    "print(A)\n",
    "print(\"A[1][2] =\", A[1][2])\n",
    "print(\"A[0] =\", A[0])\n",
    "print(\"A[:,0] =\",A[:,0])\n",
    "print(A.shape)"
   ]
  },
  {
   "cell_type": "code",
   "execution_count": 3,
   "metadata": {},
   "outputs": [
    {
     "name": "stdout",
     "output_type": "stream",
     "text": [
      "[[0. 0. 0.]\n",
      " [0. 0. 0.]]\n"
     ]
    }
   ],
   "source": [
    "zarray = np.zeros((2, 3))\n",
    "print(zarray)"
   ]
  },
  {
   "cell_type": "code",
   "execution_count": 4,
   "metadata": {},
   "outputs": [
    {
     "name": "stdout",
     "output_type": "stream",
     "text": [
      "A = [0 1 2 3]\n",
      "B = [[ 0  1  2  3]\n",
      " [ 4  5  6  7]\n",
      " [ 8  9 10 11]]\n"
     ]
    }
   ],
   "source": [
    "A = np.arange(4)\n",
    "print('A =', A)\n",
    "\n",
    "B = np.arange(12).reshape(3, 4)\n",
    "print('B =', B)"
   ]
  },
  {
   "cell_type": "code",
   "execution_count": 8,
   "metadata": {},
   "outputs": [
    {
     "name": "stdout",
     "output_type": "stream",
     "text": [
      "[0 1 2 3 4]\n",
      "[4 3 2 1 0]\n"
     ]
    }
   ],
   "source": [
    "A = np.arange(5)\n",
    "print(A[:])   \n",
    "print(A[::-1])"
   ]
  },
  {
   "cell_type": "markdown",
   "metadata": {},
   "source": [
    "------"
   ]
  },
  {
   "cell_type": "markdown",
   "metadata": {},
   "source": [
    "__1.1 Is Unique:__ Implement an algorithm to determine if a string has all unique characters. What if you\n",
    "cannot use additional data structures?\n",
    "\n",
    "One solution is to create an array of boolean values, where the flag at index i indicates whether character\n",
    "i in the alphabet is contained in the string. The second time you see this character you can immediately\n",
    "return false.\n",
    "The time complexity for this code is O(n), where n is the length of the string. The space complexity is O(1).\n",
    "\n",
    "- if the string is an ASCII string (128 or 256) or a Unicode string\n",
    "- you can't form a string of 280 unique characters out of a 128-character alphabet"
   ]
  },
  {
   "cell_type": "code",
   "execution_count": 9,
   "metadata": {},
   "outputs": [],
   "source": [
    "# O(n) complexity, O(1) space\n",
    "def all_unique_ascii(s:str) -> bool:\n",
    "    if len(s) > 128: \n",
    "        return False\n",
    "    ch_dict = {}\n",
    "    for ch in s:\n",
    "        if ch not in ch_dict:\n",
    "            ch_dict[ch] = True\n",
    "        else:\n",
    "            return False\n",
    "    return True"
   ]
  },
  {
   "cell_type": "code",
   "execution_count": 25,
   "metadata": {},
   "outputs": [],
   "source": [
    "# O(n) complexity, O(1) space, bit operations\n",
    "def all_unique_chars(s:str) -> bool:\n",
    "    if len(s) > 128: \n",
    "        return False\n",
    "    checker = 0\n",
    "    for ch in s:\n",
    "        val = ord(ch) - ord('a')\n",
    "        if (checker & (1 << val)) > 0 :\n",
    "            return False\n",
    "        checker |= (1 << val)\n",
    "    return True"
   ]
  },
  {
   "cell_type": "code",
   "execution_count": 11,
   "metadata": {},
   "outputs": [],
   "source": [
    "# O(n*log n) no extra space\n",
    "def all_unique(s:str) -> bool:\n",
    "    s = list(s)\n",
    "    s.sort()\n",
    "    for i in range(len(s) - 1):\n",
    "        if s[i] == s[i+1]:\n",
    "            return False\n",
    "    return True"
   ]
  },
  {
   "cell_type": "code",
   "execution_count": 12,
   "metadata": {},
   "outputs": [
    {
     "data": {
      "text/plain": [
       "True"
      ]
     },
     "execution_count": 12,
     "metadata": {},
     "output_type": "execute_result"
    }
   ],
   "source": [
    "my_str1 = 'anrldkngowbd'\n",
    "my_str2 = 'abcdefg'\n",
    "my_str3 = ''\n",
    "all_unique_ascii(my_str3)"
   ]
  },
  {
   "cell_type": "markdown",
   "metadata": {},
   "source": [
    "__1.2 Check Permutation:__ Given two strings, write a method to decide if one is a permutation of the\n",
    "other.\n",
    "\n",
    "- if the permutation comparison is case sensitive\n",
    "- if whitespace is significant"
   ]
  },
  {
   "cell_type": "code",
   "execution_count": 26,
   "metadata": {},
   "outputs": [],
   "source": [
    "from typing import List, Any\n",
    "\n",
    "# O(n*log n)\n",
    "def is_permutation(fst: List[Any], snd: List[Any]) -> bool:\n",
    "    if len(fst) != len(snd):\n",
    "        return False\n",
    "    fst.sort()\n",
    "    snd.sort()\n",
    "    for i in range(len(fst)):\n",
    "        if fst[i] != snd[i]:\n",
    "            return False\n",
    "    return True"
   ]
  },
  {
   "cell_type": "code",
   "execution_count": 73,
   "metadata": {},
   "outputs": [],
   "source": [
    "import string\n",
    "def check_permutation(fst:str, snd:str) -> bool:\n",
    "    if len(fst) != len(snd):\n",
    "        return False\n",
    "    ch_dict = {ch:0 for ch in string.ascii_lowercase}\n",
    "    for ch in fst.lower():\n",
    "        ch_dict[ch] += 1\n",
    "    for ch in snd.lower():\n",
    "        ch_dict[ch] -= 1\n",
    "        if ch_dict[ch] < 0:\n",
    "            return False\n",
    "    return True"
   ]
  },
  {
   "cell_type": "code",
   "execution_count": 75,
   "metadata": {},
   "outputs": [
    {
     "data": {
      "text/plain": [
       "True"
      ]
     },
     "execution_count": 75,
     "metadata": {},
     "output_type": "execute_result"
    }
   ],
   "source": [
    "my_str1 = 'andrdld'\n",
    "my_str2 = 'arndldd'\n",
    "check_permutation('asd', 'asd')"
   ]
  },
  {
   "cell_type": "markdown",
   "metadata": {},
   "source": [
    "__1.4 Palindrome Permutation:__ Given a string, write a function to check if it is a permutation of a palindrome. A palindrome is a word or phrase that is the same forwards and backwards. A permutation is a rearrangement of letters. The palindrome does not need to be limited to just dictionary words.\n",
    "\n",
    "EXAMPLE\n",
    "\n",
    "Input: Tact Coa\n",
    "\n",
    "Output: True (permutations: \"taco cat\". \"atco cta\". etc.)\n",
    "\n",
    "- not case sensitive\n",
    "- whitespaces doesn't matter"
   ]
  },
  {
   "cell_type": "markdown",
   "metadata": {},
   "source": [
    "A very elegant way to check that an integer has exactly one bit set to 1. We can check to see that a number has exactly one 1 because if we subtract 1 from it and then AND it with the new number, we should get 0.\n",
    "\n",
    "00010000 - 1 = 00001111\n",
    "\n",
    "00010000 & 00001111 = 0"
   ]
  },
  {
   "cell_type": "code",
   "execution_count": 43,
   "metadata": {},
   "outputs": [],
   "source": [
    "# O(n) time, full dictionary\n",
    "import string\n",
    "\n",
    "def palindrome_per(s:str) -> bool:\n",
    "    ch_dict = {ch:0 for ch in string.ascii_letters}\n",
    "    for ch in s.replace(' ', '').lower():\n",
    "        ch_dict[ch] += 1\n",
    "    flag = False\n",
    "    for ch in ch_dict.keys():\n",
    "        if ch_dict[ch] % 2 == 1:\n",
    "            if flag: \n",
    "                return False\n",
    "            flag = True\n",
    "    return True"
   ]
  },
  {
   "cell_type": "code",
   "execution_count": 80,
   "metadata": {},
   "outputs": [],
   "source": [
    "# O(n) time, bitwise\n",
    "def check_one(i:int) -> bool:\n",
    "    return (i & (i - 1)) == 0\n",
    "\n",
    "def is_palindrome(s:str) -> bool:\n",
    "    letters = 0\n",
    "    for ch in s.replace(' ', '').lower():\n",
    "        letters ^= (1 << (ord(ch) - ord('a')))    \n",
    "    return (letters == 0) or check_one(letters)"
   ]
  },
  {
   "cell_type": "code",
   "execution_count": 81,
   "metadata": {},
   "outputs": [
    {
     "data": {
      "text/plain": [
       "True"
      ]
     },
     "execution_count": 81,
     "metadata": {},
     "output_type": "execute_result"
    }
   ],
   "source": [
    "is_palindrome(\"Tact Coa\")"
   ]
  },
  {
   "cell_type": "markdown",
   "metadata": {},
   "source": [
    "__1.5 One Away:__ There are three types of edits that can be performed on strings: insert a character,\n",
    "remove a character, or replace a character. Given two strings, write a function to check if they are\n",
    "one edit (or zero edits) away."
   ]
  },
  {
   "cell_type": "code",
   "execution_count": 5,
   "metadata": {},
   "outputs": [],
   "source": [
    "def is_changed(fst: str, snd: str) -> bool:\n",
    "    edit = False\n",
    "    for i in range(len(fst)):\n",
    "        if fst[i] != snd[i]:\n",
    "            if edit: return False\n",
    "            edit = True\n",
    "    return True\n",
    "\n",
    "def is_insert(fst: str, snd: str) -> bool:\n",
    "    edit = False\n",
    "    i = 0\n",
    "    j = 0\n",
    "    while i < len(fst) and j < len(snd):\n",
    "        if fst[i] != snd[j]:\n",
    "            if edit: return False\n",
    "            j += 1\n",
    "            edit = True\n",
    "        else:    \n",
    "            i += 1\n",
    "            j += 1\n",
    "    return True                    \n",
    "\n",
    "def one_away(fst: str, snd: str) -> bool:\n",
    "    if abs(len(fst) - len(snd)) > 1:\n",
    "        return False\n",
    "    if len(fst) == len(snd):\n",
    "        return is_changed(fst, snd)\n",
    "    else:\n",
    "        if len(fst) < len(snd):\n",
    "            return is_insert(fst, snd)\n",
    "        else:\n",
    "            return is_insert(snd, fst)"
   ]
  },
  {
   "cell_type": "code",
   "execution_count": 6,
   "metadata": {},
   "outputs": [
    {
     "name": "stdout",
     "output_type": "stream",
     "text": [
      "True\n",
      "True\n",
      "True\n",
      "True\n",
      "True\n",
      "False\n",
      "False\n",
      "False\n"
     ]
    }
   ],
   "source": [
    "print(one_away('', ''))\n",
    "print(one_away('abc', 'abc'))\n",
    "print(one_away('abcd', 'abc'))\n",
    "print(one_away('abc', 'abcd'))\n",
    "print(one_away('adc', 'abc'))\n",
    "print(one_away('abcdd', 'abc'))\n",
    "print(one_away('ade', 'abc'))\n",
    "print(one_away('abde', 'abc'))"
   ]
  },
  {
   "cell_type": "markdown",
   "metadata": {},
   "source": [
    "__1.6 String Compression:__ Implement a method to perform basic string compression using the counts of repeated characters. For example, the string aabcccccaaa would become a2b1c5a3. If the \"compressed\" string would not become smaller than the original string, your method should return the original string. You can assume the string has only uppercase and lowercase letters (a - z).\n",
    "\n",
    "- use `StringBuffer`\n",
    "- first count the future length of the string, still be O(n)"
   ]
  },
  {
   "cell_type": "code",
   "execution_count": 6,
   "metadata": {},
   "outputs": [],
   "source": [
    "import string\n",
    "\n",
    "def str_compression(s: str) -> str:\n",
    "    result = []\n",
    "    prev_ch = s[0]\n",
    "    count = 0\n",
    "    for ch in s:\n",
    "        if ch == prev_ch:\n",
    "            count += 1\n",
    "        else:\n",
    "            result.append(prev_ch)\n",
    "            result.append(str(count))\n",
    "            prev_ch = ch\n",
    "            count = 1\n",
    "    result.append(prev_ch)\n",
    "    result.append(str(count))\n",
    "    return ''.join(result) if len(result) < len(s) else s        "
   ]
  },
  {
   "cell_type": "code",
   "execution_count": 7,
   "metadata": {},
   "outputs": [
    {
     "data": {
      "text/plain": [
       "'a3b3c1d3s2c2'"
      ]
     },
     "execution_count": 7,
     "metadata": {},
     "output_type": "execute_result"
    }
   ],
   "source": [
    "str_compression('aaabbbcdddsscc')"
   ]
  },
  {
   "cell_type": "markdown",
   "metadata": {},
   "source": [
    "__1.8 Zero Matrix:__ Write an algorithm such that if an element in an MxN matrix is 0, its entire row and column are set to 0.\n",
    "\n",
    "Can be implemented without additional space, using e.g. first row and column as a storage."
   ]
  },
  {
   "cell_type": "code",
   "execution_count": 21,
   "metadata": {},
   "outputs": [
    {
     "name": "stdout",
     "output_type": "stream",
     "text": [
      "[[ 0  1  2  0]\n",
      " [ 4  5  6  7]\n",
      " [ 8  9  0 11]\n",
      " [12 13 14 15]]\n"
     ]
    }
   ],
   "source": [
    "import numpy as np\n",
    "\n",
    "m = np.arange(16).reshape(4,4)\n",
    "m[2,2] = 0\n",
    "m[0,3] = 0\n",
    "print(m)"
   ]
  },
  {
   "cell_type": "code",
   "execution_count": 18,
   "metadata": {},
   "outputs": [],
   "source": [
    "# O(n*m)\n",
    "def zero_matrix(m):\n",
    "    elements = []\n",
    "    for i in range(m.shape[0]):\n",
    "        for j in range(m.shape[1]):\n",
    "            if m[i,j] == 0:\n",
    "                elements.append((i,j))\n",
    "    for (i, j) in elements:\n",
    "        m[i, :] = 0\n",
    "        m[:, j] = 0\n",
    "    return m"
   ]
  },
  {
   "cell_type": "code",
   "execution_count": 23,
   "metadata": {},
   "outputs": [],
   "source": [
    "# O(n*m), using sets\n",
    "def zero_matr(m):\n",
    "    rows = set([])\n",
    "    columns = set([])\n",
    "    for i in range(m.shape[0]):\n",
    "        for j in range(m.shape[1]):\n",
    "            if m[i,j] == 0:\n",
    "                rows.add(i)\n",
    "                columns.add(j)\n",
    "    for i in rows:\n",
    "        m[i, :] = 0\n",
    "    for j in columns:\n",
    "        m[:, j] = 0\n",
    "    return m"
   ]
  },
  {
   "cell_type": "code",
   "execution_count": 24,
   "metadata": {},
   "outputs": [],
   "source": [
    "new_m = zero_matr(m)"
   ]
  },
  {
   "cell_type": "code",
   "execution_count": 25,
   "metadata": {},
   "outputs": [
    {
     "name": "stdout",
     "output_type": "stream",
     "text": [
      "[[ 0  0  0  0]\n",
      " [ 0  5  0  0]\n",
      " [ 0  0  0  0]\n",
      " [ 0 13  0  0]]\n"
     ]
    }
   ],
   "source": [
    "print(new_m)"
   ]
  },
  {
   "cell_type": "markdown",
   "metadata": {},
   "source": [
    "__1.9 String Rotation:__ Assume you have a method isSubstring which checks if one word is a substring of another. Given two strings, s1 and s2, write code to check if s2 is a rotation of s1 using only one call to isSubstring (e. g., \"waterbottle \" is a rotation of \"erbottlewat\").\n",
    "\n",
    "x = wat, y = erbottle\n",
    "\n",
    "waterbottle = xy\n",
    "\n",
    "erbottlewat = yx"
   ]
  },
  {
   "cell_type": "code",
   "execution_count": 17,
   "metadata": {},
   "outputs": [],
   "source": [
    "def rotation(fst:str, snd:str) -> bool:\n",
    "    if len(fst) != len(snd):\n",
    "        return False\n",
    "    double = fst + fst\n",
    "    return snd in double"
   ]
  },
  {
   "cell_type": "code",
   "execution_count": 18,
   "metadata": {},
   "outputs": [
    {
     "data": {
      "text/plain": [
       "True"
      ]
     },
     "execution_count": 18,
     "metadata": {},
     "output_type": "execute_result"
    }
   ],
   "source": [
    "rotation('waterbottle', 'erbottlewat')"
   ]
  },
  {
   "cell_type": "code",
   "execution_count": 20,
   "metadata": {},
   "outputs": [
    {
     "data": {
      "text/plain": [
       "False"
      ]
     },
     "execution_count": 20,
     "metadata": {},
     "output_type": "execute_result"
    }
   ],
   "source": [
    "rotation('sdf', 'dsf')"
   ]
  },
  {
   "cell_type": "markdown",
   "metadata": {},
   "source": [
    "-----\n",
    "# Linked Lists"
   ]
  },
  {
   "cell_type": "markdown",
   "metadata": {},
   "source": [
    "__List__\n",
    "\n",
    "- append(value) Adds an element at the end of the list\n",
    "- clear() Removes all the elements from the list\n",
    "- copy() Returns a copy of the list\n",
    "- count(value) Returns the number of elements with the specified value\n",
    "- index(value) Returns the index of the first element with the specified value\n",
    "- insert(position, value) Adds an element at the specified position\n",
    "- pop(position) Removes the element at the specified position, __without parameter__  removes and returns last value from the list \n",
    "- remove(value) Removes the first item with the specified value\n",
    "- reverse() Reverses the order of the list\n",
    "- sort() Sorts the list"
   ]
  },
  {
   "cell_type": "code",
   "execution_count": 1,
   "metadata": {},
   "outputs": [
    {
     "name": "stdout",
     "output_type": "stream",
     "text": [
      "Hi\n",
      ", \n",
      "world\n",
      "!\n"
     ]
    }
   ],
   "source": [
    "my_list = ['Hello', ', ', 'world']\n",
    "my_list[0] = 'Hi'\n",
    "my_list.append('!')\n",
    "for x in my_list:\n",
    "    print(x)"
   ]
  },
  {
   "cell_type": "code",
   "execution_count": 26,
   "metadata": {},
   "outputs": [],
   "source": [
    "class Node:\n",
    "    def __init__(self, dataval=None):\n",
    "        self.dataval = dataval\n",
    "        self.nextval = None\n",
    "\n",
    "class LinkedList:\n",
    "    def __init__(self):\n",
    "        self.headval = None\n",
    "\n",
    "l = LinkedList()\n",
    "l.headval = Node(\"Mon\")\n",
    "e2 = Node(\"Tue\")\n",
    "e3 = Node(\"Wed\")\n",
    "l.headval.nextval = e2\n",
    "e2.nextval = e3"
   ]
  },
  {
   "cell_type": "markdown",
   "metadata": {},
   "source": [
    "__2.1 Remove Dups:__ Write code to remove duplicates from an unsorted linked list.\n",
    "\n",
    "FOLLOW UP: How would you solve this problem if a temporary buffer is not allowed?\n",
    "\n",
    "- do we need to modify list? or can we create a new one? can just append to a new list\n",
    "- do we need to save the order of elements? if not, can use convertion to set or numpy.unique"
   ]
  },
  {
   "cell_type": "code",
   "execution_count": 1,
   "metadata": {},
   "outputs": [],
   "source": [
    "# O(n)\n",
    "def remove_dups(uns_list):\n",
    "    elements = []\n",
    "    for elem in uns_list:\n",
    "        if elem not in elements:\n",
    "            elements.append(elem)\n",
    "    return elements"
   ]
  },
  {
   "cell_type": "code",
   "execution_count": 2,
   "metadata": {},
   "outputs": [
    {
     "data": {
      "text/plain": [
       "['a', 's', 'd', 'n', 'k', 'f', 'b']"
      ]
     },
     "execution_count": 2,
     "metadata": {},
     "output_type": "execute_result"
    }
   ],
   "source": [
    "remove_dups(list('asdnasdkfbs'))"
   ]
  },
  {
   "cell_type": "code",
   "execution_count": 16,
   "metadata": {},
   "outputs": [],
   "source": [
    "# o(n^2)\n",
    "def remove_dups2(uns_list):\n",
    "    idx = 0\n",
    "    while idx < len(uns_list):\n",
    "        runner = idx + 1\n",
    "        while runner < len(uns_list):\n",
    "            if uns_list[idx] == uns_list[runner]:\n",
    "                uns_list.pop(runner)\n",
    "            else:\n",
    "                runner += 1\n",
    "        idx += 1\n",
    "    return uns_list"
   ]
  },
  {
   "cell_type": "code",
   "execution_count": 17,
   "metadata": {},
   "outputs": [
    {
     "data": {
      "text/plain": [
       "['a', 's', 'd', 'n', 'k', 'f', 'b']"
      ]
     },
     "execution_count": 17,
     "metadata": {},
     "output_type": "execute_result"
    }
   ],
   "source": [
    "remove_dups2(list('asdnasdkfbs'))"
   ]
  },
  {
   "cell_type": "code",
   "execution_count": 18,
   "metadata": {},
   "outputs": [
    {
     "data": {
      "text/plain": [
       "[]"
      ]
     },
     "execution_count": 18,
     "metadata": {},
     "output_type": "execute_result"
    }
   ],
   "source": [
    "remove_dups2(list(''))"
   ]
  },
  {
   "cell_type": "code",
   "execution_count": 19,
   "metadata": {},
   "outputs": [
    {
     "data": {
      "text/plain": [
       "['a']"
      ]
     },
     "execution_count": 19,
     "metadata": {},
     "output_type": "execute_result"
    }
   ],
   "source": [
    "remove_dups2(list('aaaaaaa'))"
   ]
  },
  {
   "cell_type": "code",
   "execution_count": 20,
   "metadata": {},
   "outputs": [
    {
     "data": {
      "text/plain": [
       "['a', 'b', 's']"
      ]
     },
     "execution_count": 20,
     "metadata": {},
     "output_type": "execute_result"
    }
   ],
   "source": [
    "remove_dups2(list('absa'))"
   ]
  },
  {
   "cell_type": "code",
   "execution_count": 27,
   "metadata": {},
   "outputs": [
    {
     "name": "stdout",
     "output_type": "stream",
     "text": [
      "['a' 'b' 'd' 'f' 'k' 'n' 's']\n"
     ]
    }
   ],
   "source": [
    "import numpy as np\n",
    "x = np.array(list('asdnasdkfbs')) \n",
    "print(np.unique(x)) "
   ]
  },
  {
   "cell_type": "markdown",
   "metadata": {},
   "source": [
    "__2.2 Return Kth to Last:__ Implement an algorithm to find the kth to last element of a singly linked list.\n",
    "\n",
    "- first count the length, then go from the begginning O(n)\n",
    "- use two pointers, send the first k elements prior to the second O(n)"
   ]
  },
  {
   "cell_type": "code",
   "execution_count": 4,
   "metadata": {},
   "outputs": [],
   "source": [
    "def getKth(my_list, k):\n",
    "    return my_list[-k]"
   ]
  },
  {
   "cell_type": "code",
   "execution_count": 5,
   "metadata": {},
   "outputs": [
    {
     "data": {
      "text/plain": [
       "'f'"
      ]
     },
     "execution_count": 5,
     "metadata": {},
     "output_type": "execute_result"
    }
   ],
   "source": [
    "x = list('asdnasdkfbs')\n",
    "getKth(x, 3)"
   ]
  },
  {
   "cell_type": "markdown",
   "metadata": {},
   "source": [
    "__2.3 Delete Middle Node:__ Implement an algorithm to delete a node in the middle (i.e., any node but the first and last node, not necessarily the exact middle) of a singly linked list, given only access to that node.\n",
    "\n",
    "EXAMPLE\n",
    "\n",
    "Input: the node c from the linked list a -> b -> c -> d -> e -> f\n",
    "\n",
    "Result: nothing is returned, but the new linked list looks like a -> b -> d -> e -> f\n",
    "\n",
    "__Solution:__ copy rest of the list"
   ]
  },
  {
   "cell_type": "code",
   "execution_count": 3,
   "metadata": {},
   "outputs": [
    {
     "data": {
      "text/plain": [
       "['a', 's', 'd', 'n', 'a', 's', 'd', 'k', 'b', 's']"
      ]
     },
     "execution_count": 3,
     "metadata": {},
     "output_type": "execute_result"
    }
   ],
   "source": [
    "x = list('asdnasdkfbs')\n",
    "x.pop(-3)\n",
    "x"
   ]
  },
  {
   "cell_type": "markdown",
   "metadata": {},
   "source": [
    "__2.4 Partition:__ Write code to partition a linked list around a value x, such that all nodes less than x come before all nodes greater than or equal to x. lf x is contained within the list, the values of x only need to be after the elements less than x (see below). The partition element x can appear anywhere in the \"right partition\"; it does not need to appear between the left and right partitions.\n",
    "\n",
    "EXAMPLE\n",
    "\n",
    "`Input: 3 -> 5 -> 8 -> 5 -> 10 -> 2 -> 1 [partition = 5]\n",
    "Output: 3 -> 1 -> 2 -> 10 -> 5 -> 5 -> 8`\n",
    "\n",
    "- using sort() gives result\n",
    "- in Java is better to maintain 2 lists, 3 pointers in total would be enough\n",
    "- can be easier to create only one new list (add smaller as a head, and bigger at the tail)"
   ]
  },
  {
   "cell_type": "code",
   "execution_count": 4,
   "metadata": {},
   "outputs": [
    {
     "data": {
      "text/plain": [
       "[1, 2, 3, 5, 5, 8, 10]"
      ]
     },
     "execution_count": 4,
     "metadata": {},
     "output_type": "execute_result"
    }
   ],
   "source": [
    "x = [3, 5, 8, 5, 10, 2, 1]\n",
    "x.sort()\n",
    "x"
   ]
  },
  {
   "cell_type": "code",
   "execution_count": 10,
   "metadata": {},
   "outputs": [],
   "source": [
    "# O(n)\n",
    "def partition(my_list, p):\n",
    "    result = []\n",
    "    for x in my_list:\n",
    "        if x < p:\n",
    "            result.insert(0, x)\n",
    "        else:\n",
    "            result.append(x)\n",
    "    return result"
   ]
  },
  {
   "cell_type": "code",
   "execution_count": 11,
   "metadata": {},
   "outputs": [
    {
     "data": {
      "text/plain": [
       "[1, 2, 3, 5, 8, 5, 10]"
      ]
     },
     "execution_count": 11,
     "metadata": {},
     "output_type": "execute_result"
    }
   ],
   "source": [
    "partition([3, 5, 8, 5, 10, 2, 1], 5)"
   ]
  },
  {
   "cell_type": "markdown",
   "metadata": {},
   "source": [
    "__2.5 Sum Lists:__ You have two numbers represented by a linked list, where each node contains a single digit. The digits are stored in reverse order, such that the 1's digit is at the head of the list. Write a function that adds the two numbers and returns the sum as a linked list.\n",
    "\n",
    "EXAMPLE\n",
    "\n",
    "Input: `7 -> 1 -> 6 + 5 -> 9 -> 2` That is, 617 + 295.\n",
    "\n",
    "Output: `2 -> 1 -> 9` That is, 912.\n",
    "\n",
    "FOLLOW UP\n",
    "Suppose the digits are stored in forward order. Repeat the above problem.\n",
    "\n",
    "EXAMPLE\n",
    "\n",
    "Input: `6 -> 1 -> 7 + 2 -> 9 -> 5` That is, 617 + 295.\n",
    "\n",
    "Output: `9 -> 1 -> 2` That is, 912.\n",
    "\n",
    "- the first one can be done iteratively\n",
    "- the second is easier solved recursively, if add '0000' at the beginning of the shorter list"
   ]
  },
  {
   "cell_type": "code",
   "execution_count": 15,
   "metadata": {},
   "outputs": [],
   "source": [
    "def sum_from_end(fst, snd):\n",
    "    lng = fst if len(fst) >= len(snd) else snd\n",
    "    sml = fst if len(fst) < len(snd) else snd\n",
    "    i = 0\n",
    "    result = []\n",
    "    prev = 0\n",
    "    while i < len(sml):\n",
    "        s = lng[i] + sml[i] + prev\n",
    "        result.append(s % 10)\n",
    "        prev = s // 10\n",
    "        i +=1\n",
    "    while i < len(lng):\n",
    "        s = lng[i] + prev\n",
    "        result.append(s % 10)\n",
    "        prev = s // 10\n",
    "        i +=1\n",
    "    if prev > 0:\n",
    "        result.append(prev)\n",
    "    return result"
   ]
  },
  {
   "cell_type": "code",
   "execution_count": 16,
   "metadata": {},
   "outputs": [
    {
     "data": {
      "text/plain": [
       "[2, 1, 9]"
      ]
     },
     "execution_count": 16,
     "metadata": {},
     "output_type": "execute_result"
    }
   ],
   "source": [
    "sum_from_end([7, 1, 6], [5, 9, 2])"
   ]
  },
  {
   "cell_type": "code",
   "execution_count": 17,
   "metadata": {},
   "outputs": [
    {
     "data": {
      "text/plain": [
       "[5, 9, 2]"
      ]
     },
     "execution_count": 17,
     "metadata": {},
     "output_type": "execute_result"
    }
   ],
   "source": [
    "sum_from_end([], [5, 9, 2])"
   ]
  },
  {
   "cell_type": "code",
   "execution_count": 18,
   "metadata": {},
   "outputs": [
    {
     "data": {
      "text/plain": [
       "[5, 9, 2, 1]"
      ]
     },
     "execution_count": 18,
     "metadata": {},
     "output_type": "execute_result"
    }
   ],
   "source": [
    "sum_from_end([0, 0, 0, 1], [5, 9, 2])"
   ]
  },
  {
   "cell_type": "code",
   "execution_count": 19,
   "metadata": {},
   "outputs": [
    {
     "data": {
      "text/plain": [
       "[5, 6, 4, 1]"
      ]
     },
     "execution_count": 19,
     "metadata": {},
     "output_type": "execute_result"
    }
   ],
   "source": [
    "sum_from_end([9, 7, 8], [6, 8, 5])"
   ]
  },
  {
   "cell_type": "markdown",
   "metadata": {},
   "source": [
    "__2.6 Palindrome:__ Implement a function to check if a linked list is a palindrome.\n",
    "\n",
    "- while counting length, reverse a copy of list\n",
    "- compare two lists from the beginning up to the middle point\n",
    "- if we don't know the length of the list, use runner technique to reach the middle, and save elements to stack (list, use pop())"
   ]
  },
  {
   "cell_type": "code",
   "execution_count": 7,
   "metadata": {},
   "outputs": [],
   "source": [
    "def palindrome(my_list) -> bool:\n",
    "    i = 0\n",
    "    for i in range(len(my_list) // 2):\n",
    "        if my_list[i] != my_list[-i-1]:\n",
    "            return False\n",
    "    return True"
   ]
  },
  {
   "cell_type": "code",
   "execution_count": 8,
   "metadata": {},
   "outputs": [
    {
     "data": {
      "text/plain": [
       "True"
      ]
     },
     "execution_count": 8,
     "metadata": {},
     "output_type": "execute_result"
    }
   ],
   "source": [
    "palindrome([])"
   ]
  },
  {
   "cell_type": "code",
   "execution_count": 9,
   "metadata": {},
   "outputs": [
    {
     "data": {
      "text/plain": [
       "True"
      ]
     },
     "execution_count": 9,
     "metadata": {},
     "output_type": "execute_result"
    }
   ],
   "source": [
    "palindrome([1, 1])"
   ]
  },
  {
   "cell_type": "code",
   "execution_count": 10,
   "metadata": {},
   "outputs": [
    {
     "data": {
      "text/plain": [
       "True"
      ]
     },
     "execution_count": 10,
     "metadata": {},
     "output_type": "execute_result"
    }
   ],
   "source": [
    "palindrome([1, 2, 3, 2, 1])"
   ]
  },
  {
   "cell_type": "code",
   "execution_count": 11,
   "metadata": {},
   "outputs": [
    {
     "data": {
      "text/plain": [
       "True"
      ]
     },
     "execution_count": 11,
     "metadata": {},
     "output_type": "execute_result"
    }
   ],
   "source": [
    "palindrome([1, 2, 3, 3, 2, 1])"
   ]
  },
  {
   "cell_type": "code",
   "execution_count": 12,
   "metadata": {},
   "outputs": [
    {
     "data": {
      "text/plain": [
       "False"
      ]
     },
     "execution_count": 12,
     "metadata": {},
     "output_type": "execute_result"
    }
   ],
   "source": [
    "palindrome([1, 2, 3, 4, 2, 1])"
   ]
  },
  {
   "cell_type": "markdown",
   "metadata": {},
   "source": [
    "__2.7 Intersection:__ Given two (singly) linked lists, determine if the two lists intersect. Return the intersecting node. Note that the intersection is defined based on reference, not value. That is, if the kth node of the first linked list is the exact same node (by reference) as the jth node of the second linked list, then they are intersecting.\n",
    "\n",
    "- since by reference, all the rest nodes must be the same\n",
    "- comparing from the end, last node must be equal\n",
    "- if length is known, can compare from the beginning"
   ]
  },
  {
   "cell_type": "markdown",
   "metadata": {},
   "source": [
    "__2.8 Loop Detection:__ Given a circular linked list, implement an algorithm that returns the node at the beginning of the loop.\n",
    "\n",
    "DEFINITION\n",
    "\n",
    "Circular linked list: A (corrupt) linked list in which a node's next pointer points to an earlier node, so as to make a loop in the linked list.\n",
    "\n",
    "EXAMPLE\n",
    "\n",
    "Input: A -> B -> C -> D -> E -> C (the same C as earlier)\n",
    "\n",
    "Output: C\n",
    "\n",
    "- runner technique, if there is a loop, once meet"
   ]
  },
  {
   "cell_type": "markdown",
   "metadata": {},
   "source": [
    "-----\n",
    "# Stacks and Queues"
   ]
  },
  {
   "cell_type": "markdown",
   "metadata": {},
   "source": [
    "__Stack__ can be simulated wth the list:\n",
    "\n",
    " - pop(): Remove the top item from the stack, `[1, 2].pop()`\n",
    " - push(item): Add an item to the top of the stack, `[1].append(2)`\n",
    " - peek(): Return the top of the stack, `[1, 2][-1]`\n",
    " - isEmpty(): Return true if and only if the stack is empty, `not []`\n",
    "\n",
    "__OR__ can use `class queue.LifoQueue(maxsize)`"
   ]
  },
  {
   "cell_type": "code",
   "execution_count": 2,
   "metadata": {},
   "outputs": [
    {
     "name": "stdout",
     "output_type": "stream",
     "text": [
      "[1]\n",
      "2\n"
     ]
    }
   ],
   "source": [
    "x = [1, 2]\n",
    "y = x.pop()\n",
    "print(x)\n",
    "print(y)"
   ]
  },
  {
   "cell_type": "code",
   "execution_count": 5,
   "metadata": {},
   "outputs": [
    {
     "name": "stdout",
     "output_type": "stream",
     "text": [
      "[1, 2]\n",
      "None\n"
     ]
    }
   ],
   "source": [
    "x = [1]\n",
    "y = x.append(2)\n",
    "print(x)\n",
    "print(y)"
   ]
  },
  {
   "cell_type": "code",
   "execution_count": 6,
   "metadata": {},
   "outputs": [
    {
     "data": {
      "text/plain": [
       "2"
      ]
     },
     "execution_count": 6,
     "metadata": {},
     "output_type": "execute_result"
    }
   ],
   "source": [
    "[1, 2][-1]"
   ]
  },
  {
   "cell_type": "code",
   "execution_count": 1,
   "metadata": {},
   "outputs": [
    {
     "data": {
      "text/plain": [
       "True"
      ]
     },
     "execution_count": 1,
     "metadata": {},
     "output_type": "execute_result"
    }
   ],
   "source": [
    "not []"
   ]
  },
  {
   "cell_type": "markdown",
   "metadata": {},
   "source": [
    "__Queue__ is implemented in a module `queue`, `class queue.Queue(maxsize)`\n",
    "\n",
    "If maxsize == 0, then endless queue.\n",
    "\n",
    "- add(item): Add an item to the end of the list, `put(item)`\n",
    "- remove(): Remove the first item in the list, `get()`\n",
    "- peek(): Return the top of the queue.\n",
    "- isEmpty(): Return true if and only if the queue is empty, `empty()`\n",
    "\n",
    "`class queue.PriorityQueue(maxsize): (priority, data)`"
   ]
  },
  {
   "cell_type": "code",
   "execution_count": 1,
   "metadata": {},
   "outputs": [
    {
     "name": "stdout",
     "output_type": "stream",
     "text": [
      "eat\n",
      "sleep\n",
      "code\n"
     ]
    }
   ],
   "source": [
    "from queue import Queue\n",
    "q = Queue()\n",
    " \n",
    "q.put('eat')\n",
    "q.put('sleep')\n",
    "q.put('code')\n",
    " \n",
    "print(q.get())\n",
    "print(q.get())\n",
    "print(q.get())\n",
    " \n",
    "# error empty\n",
    "# q.get_nowait()\n",
    "# endless waiting\n",
    "# q.get() "
   ]
  },
  {
   "cell_type": "markdown",
   "metadata": {},
   "source": [
    "__3.1 Three in One:__ Describe how you could use a single array to implement three stacks.\n",
    "\n",
    "- divide in three, keep links to the top.\n",
    "- divide in three, if not enough space, then shift"
   ]
  },
  {
   "cell_type": "markdown",
   "metadata": {},
   "source": [
    "__3.2 Stack Min:__ How would you design a stack which, in addition to push and pop, has a function min which returns the minimum element? Push, pop and min should all operate in O(1) time.\n",
    "\n",
    "- keep second stack of mins"
   ]
  },
  {
   "cell_type": "code",
   "execution_count": 12,
   "metadata": {},
   "outputs": [],
   "source": [
    "class Stack:\n",
    "\n",
    "    def __init__(self):\n",
    "        self._data = []\n",
    "        self._min = [] # stack of mins\n",
    "        \n",
    "    def min(self):\n",
    "        if len(self._min) > 0:\n",
    "            return self._min[-1]\n",
    "        return None \n",
    "    \n",
    "    def peek(self):\n",
    "        if len(self._data) > 0:\n",
    "            return self._data[-1]\n",
    "        return None\n",
    "    \n",
    "    def push(self, x):\n",
    "        self._data.append(x)\n",
    "        if (self.min() is None)  or (x <= self.min()):\n",
    "            self._min.append(x)\n",
    "        \n",
    "    def pop(self):\n",
    "        if len(self._data) > 0:\n",
    "            x = self._data.pop() \n",
    "            if self.min() == x:\n",
    "                self._min.pop() \n",
    "            return x\n",
    "    \n",
    "    def isEmpty(self):\n",
    "        return not bool(self._data)"
   ]
  },
  {
   "cell_type": "code",
   "execution_count": 13,
   "metadata": {},
   "outputs": [
    {
     "name": "stdout",
     "output_type": "stream",
     "text": [
      "False\n",
      "min 1\n",
      "on top 1\n",
      "pop 1\n",
      "min 2\n",
      "pop 2\n",
      "min None\n",
      "True\n"
     ]
    }
   ],
   "source": [
    "s = Stack()\n",
    "s.push(2)\n",
    "s.push(1)\n",
    "print(s.isEmpty())\n",
    "print('min %s' % s.min())\n",
    "print('on top %s' % s.peek())\n",
    "print('pop %s' % s.pop())\n",
    "print('min %s' % s.min())\n",
    "print('pop %s' % s.pop())\n",
    "print('min %s' % s.min())\n",
    "print(s.isEmpty())"
   ]
  },
  {
   "cell_type": "markdown",
   "metadata": {},
   "source": [
    "__3.3 Stack of Plates:__ Imagine a (literal) stack of plates. If the stack gets too high, it might topple. Therefore, in real life, we would likely start a new stack when the previous stack exceeds some threshold. Implement a data structure SetOfStacks that mimics this. SetOfStacks should be composed of several stacks and should create a new stack once the previous one exceeds capacity. `SetOfStacks.push()` and `SetOfStacks.pop()` should behave identically to a single stack (that is, pop() should return the same values as it would if there were just a single stack).\n",
    "\n",
    "FOLLOW UP\n",
    "Implement a function popAt(int index) which performs a pop operation on a specific sub-stack.\n",
    "\n",
    "- could be implemented with a rollover approach, without empty stacks in the middle"
   ]
  },
  {
   "cell_type": "code",
   "execution_count": 59,
   "metadata": {},
   "outputs": [],
   "source": [
    "from typing import Optional\n",
    "\n",
    "class Stack:\n",
    "    def __init__(self, maxsize: int) -> None:\n",
    "        self._data = []\n",
    "        self._size = 0\n",
    "        self.MAXSIZE = maxsize\n",
    "        \n",
    "    def push(self, value:int) -> bool:\n",
    "        if self._size < self.MAXSIZE:\n",
    "            self._data.append(value)\n",
    "            self._size += 1\n",
    "            return True\n",
    "        else:\n",
    "            return False\n",
    "    \n",
    "    def pop(self) -> Optional[int]:\n",
    "        if self._data:\n",
    "            self._size -= 1 \n",
    "            return self._data.pop()\n",
    "        else:\n",
    "            return None\n",
    "\n",
    "class SetOfStack:\n",
    "    \n",
    "    def __init__(self, maxsize:int) -> None:\n",
    "        if maxsize <= 0:\n",
    "            raise KeyError('Size must be greater than 0')\n",
    "        self._stacks = []\n",
    "        self.MAXSIZE = maxsize\n",
    "        \n",
    "    def push(self, value:int) -> bool:\n",
    "        if (not self._stacks) or (not self._stacks[-1].push(value)):\n",
    "            self._stacks.append(Stack(self.MAXSIZE))\n",
    "            self._stacks[-1].push(value)\n",
    "        \n",
    "    def pop(self) -> Optional[int]:\n",
    "        value = self._stacks[-1].pop() if self._stacks else None\n",
    "        while (value is None) and (len(self._stacks) > 0):\n",
    "            self._stacks.pop()\n",
    "            if self._stacks:\n",
    "                value = self._stacks[-1].pop()\n",
    "        return value\n",
    "    \n",
    "    def popAt(self, index: int) -> Optional[int]:\n",
    "        if len(self._stacks) > index:\n",
    "            return self._stacks[index].pop()\n",
    "        else:\n",
    "            return None"
   ]
  },
  {
   "cell_type": "code",
   "execution_count": 63,
   "metadata": {},
   "outputs": [],
   "source": [
    "plates = SetOfStack(3)\n",
    "for i in range(8):\n",
    "    plates.push(i)"
   ]
  },
  {
   "cell_type": "code",
   "execution_count": 64,
   "metadata": {},
   "outputs": [
    {
     "data": {
      "text/plain": [
       "5"
      ]
     },
     "execution_count": 64,
     "metadata": {},
     "output_type": "execute_result"
    }
   ],
   "source": [
    "plates.popAt(1)"
   ]
  },
  {
   "cell_type": "code",
   "execution_count": 65,
   "metadata": {},
   "outputs": [
    {
     "name": "stdout",
     "output_type": "stream",
     "text": [
      "7\n",
      "6\n",
      "4\n",
      "3\n",
      "2\n",
      "1\n",
      "0\n",
      "None\n",
      "None\n",
      "None\n"
     ]
    }
   ],
   "source": [
    "for i in range(10):\n",
    "    print(plates.pop())"
   ]
  },
  {
   "cell_type": "markdown",
   "metadata": {},
   "source": [
    "__3.4 Queue via Stacks:__ Implement a MyQueue class which implements a queue using two stacks.\n",
    "\n",
    "- from time to time, push all elements into another stack, thus providing a reverse order"
   ]
  },
  {
   "cell_type": "code",
   "execution_count": 25,
   "metadata": {},
   "outputs": [],
   "source": [
    "from typing import Optional\n",
    "\n",
    "class Stack:\n",
    "    def __init__(self) -> None:\n",
    "        self._data = []\n",
    "        \n",
    "    def push(self, value:int) -> None:\n",
    "        self._data.append(value)\n",
    "            \n",
    "    def pop(self) -> Optional[int]:\n",
    "        if self._data:\n",
    "            return self._data.pop()\n",
    "    \n",
    "    def isEmpty(self) -> bool:\n",
    "        return not self._data\n",
    "            \n",
    "class MyQueue:\n",
    "    def __init__(self) -> None:\n",
    "        self._newest = Stack()\n",
    "        self._oldest = Stack()\n",
    "        \n",
    "    def _shift(self) -> None:\n",
    "        if self._oldest.isEmpty():\n",
    "            while not self._newest.isEmpty():\n",
    "                self._oldest.push(self._newest.pop())\n",
    "        \n",
    "    def add(self, value:int) -> None:\n",
    "        self._newest.push(value)\n",
    "        \n",
    "    def remove(self) -> Optional[int]:\n",
    "        self._shift()\n",
    "        return self._oldest.pop()\n",
    "        "
   ]
  },
  {
   "cell_type": "code",
   "execution_count": 34,
   "metadata": {},
   "outputs": [],
   "source": [
    "q = MyQueue()\n",
    "for i in range(5):\n",
    "    q.add(i)"
   ]
  },
  {
   "cell_type": "code",
   "execution_count": 35,
   "metadata": {},
   "outputs": [
    {
     "name": "stdout",
     "output_type": "stream",
     "text": [
      "0\n",
      "1\n",
      "2\n"
     ]
    }
   ],
   "source": [
    "for i in range(3):\n",
    "    print(q.remove())"
   ]
  },
  {
   "cell_type": "code",
   "execution_count": 36,
   "metadata": {},
   "outputs": [],
   "source": [
    "for i in range(5, 12):\n",
    "    q.add(i)"
   ]
  },
  {
   "cell_type": "code",
   "execution_count": 37,
   "metadata": {},
   "outputs": [
    {
     "name": "stdout",
     "output_type": "stream",
     "text": [
      "3\n",
      "4\n",
      "5\n",
      "6\n",
      "7\n",
      "8\n",
      "9\n",
      "10\n",
      "11\n",
      "None\n"
     ]
    }
   ],
   "source": [
    "for i in range(10):\n",
    "    print(q.remove())"
   ]
  },
  {
   "cell_type": "markdown",
   "metadata": {},
   "source": [
    "__3.5 Sort Stack:__ Write a program to sort a stack such that the smallest items are on the top. You can use an additional temporary stack, but you may not copy the elements into any other data structure (such as an array). The stack supports the following operations: push, pop, peek, and isEmpty.\n",
    "\n",
    "- modification of insertion sort\n",
    "- use original Stack as an additional storage\n",
    "- in Python can be used a sort function (reverse = True)"
   ]
  },
  {
   "cell_type": "code",
   "execution_count": 8,
   "metadata": {},
   "outputs": [],
   "source": [
    "from typing import Optional\n",
    "\n",
    "class Stack:\n",
    "    def __init__(self) -> None:\n",
    "        self._data = []\n",
    "        \n",
    "    def peek(self) -> Optional[int]:\n",
    "        if self._data:\n",
    "            return self._data[-1]\n",
    "        \n",
    "    def push(self, value:int) -> None:\n",
    "        self._data.append(value)\n",
    "            \n",
    "    def pop(self) -> Optional[int]:\n",
    "        if self._data:\n",
    "            return self._data.pop()\n",
    "    \n",
    "    def isEmpty(self) -> bool:\n",
    "        return not self._data\n",
    "    \n",
    "    def __str__(self) -> str:\n",
    "        return str(self._data)"
   ]
  },
  {
   "cell_type": "code",
   "execution_count": 9,
   "metadata": {},
   "outputs": [],
   "source": [
    "def findPlace(e:int, s: Stack, t: Stack) -> (Stack, Stack):\n",
    "    i = 0\n",
    "    while (t.peek() is not None) and (e < t.peek()):\n",
    "        s.push(t.pop())\n",
    "        i += 1\n",
    "    t.push(e)\n",
    "    for j in range(i):\n",
    "        t.push(s.pop())\n",
    "    return s, t\n",
    "\n",
    "def sort(s: Stack) -> Stack:\n",
    "    t = Stack()\n",
    "    while not s.isEmpty():\n",
    "        s, t = findPlace(s.pop(), s, t)\n",
    "        print('source %s' % s)\n",
    "        print('sink %s' % t)\n",
    "    while not t.isEmpty():\n",
    "        s.push(t.pop())\n",
    "    return s"
   ]
  },
  {
   "cell_type": "code",
   "execution_count": 10,
   "metadata": {},
   "outputs": [
    {
     "name": "stdout",
     "output_type": "stream",
     "text": [
      "[3, 2, 1, 5, 7]\n"
     ]
    }
   ],
   "source": [
    "s = Stack()\n",
    "for i in [3, 2, 1, 5, 7]:\n",
    "    s.push(i)\n",
    "print(s)"
   ]
  },
  {
   "cell_type": "code",
   "execution_count": 11,
   "metadata": {},
   "outputs": [
    {
     "name": "stdout",
     "output_type": "stream",
     "text": [
      "source [3, 2, 1, 5]\n",
      "sink [7]\n",
      "source [3, 2, 1]\n",
      "sink [5, 7]\n",
      "source [3, 2]\n",
      "sink [1, 5, 7]\n",
      "source [3]\n",
      "sink [1, 2, 5, 7]\n",
      "source []\n",
      "sink [1, 2, 3, 5, 7]\n",
      "[7, 5, 3, 2, 1]\n"
     ]
    }
   ],
   "source": [
    "t = sort(s)\n",
    "print(t)"
   ]
  },
  {
   "cell_type": "code",
   "execution_count": 12,
   "metadata": {},
   "outputs": [
    {
     "name": "stdout",
     "output_type": "stream",
     "text": [
      "source [0, 1, 2, 3, 4, 5]\n",
      "sink [6]\n",
      "source [0, 1, 2, 3, 4]\n",
      "sink [5, 6]\n",
      "source [0, 1, 2, 3]\n",
      "sink [4, 5, 6]\n",
      "source [0, 1, 2]\n",
      "sink [3, 4, 5, 6]\n",
      "source [0, 1]\n",
      "sink [2, 3, 4, 5, 6]\n",
      "source [0]\n",
      "sink [1, 2, 3, 4, 5, 6]\n",
      "source []\n",
      "sink [0, 1, 2, 3, 4, 5, 6]\n",
      "[6, 5, 4, 3, 2, 1, 0]\n"
     ]
    }
   ],
   "source": [
    "s = Stack()\n",
    "for i in range(7):\n",
    "    s.push(i)\n",
    "t = sort(s)\n",
    "print(t)"
   ]
  },
  {
   "cell_type": "code",
   "execution_count": 5,
   "metadata": {},
   "outputs": [
    {
     "data": {
      "text/plain": [
       "[7, 5, 3, 2, 1]"
      ]
     },
     "execution_count": 5,
     "metadata": {},
     "output_type": "execute_result"
    }
   ],
   "source": [
    "t = [3, 2, 1, 5, 7]\n",
    "t.sort(reverse = True)\n",
    "t"
   ]
  },
  {
   "cell_type": "markdown",
   "metadata": {},
   "source": [
    "__3.6 Animal Shelter:__ An animal shelter, which holds only dogs and cats, operates on a strictly \"first in, first out\" basis. People must adopt either the \"oldest\" (based on arrival time) of all animals at the shelter, or they can select whether they would prefer a dog or a cat (and will receive the oldest animal of that type). They cannot select which specific animal they would like. Create the data structures to\n",
    "maintain this system and implement operations such as enqueue, dequeueAny, dequeueDog, and dequeueCat. You may use the built-in Linked List data structure."
   ]
  },
  {
   "cell_type": "code",
   "execution_count": 14,
   "metadata": {},
   "outputs": [],
   "source": [
    "from typing import Optional\n",
    "\n",
    "class Shelter:\n",
    "    def __init__(self) -> None:\n",
    "        self._cats = []\n",
    "        self._dogs = []\n",
    "        self._count = 0\n",
    "        \n",
    "    def enqueue(self, name:str, animal:str) -> bool:\n",
    "        if animal == 'cat':\n",
    "            self._cats.append((name, self._count))\n",
    "        elif animal == 'dog':\n",
    "            self._dogs.append((name, self._count))\n",
    "        else:\n",
    "            return False\n",
    "        self._count += 1\n",
    "        return True\n",
    "    \n",
    "    def dequeueAny(self) -> Optional[str]:\n",
    "        c = self._cats[0] if self._cats else None\n",
    "        d = self._dogs[0] if self._dogs else None\n",
    "        name = None\n",
    "        if (c is None) and (d is not None):\n",
    "            name, _ = self._dogs.pop(0)\n",
    "        elif (d is None) and (c is not None):\n",
    "            name, _ = self._cats.pop(0)\n",
    "        elif (c is not None) and (d is not None):\n",
    "            name, _ = self._cats.pop(0) if c[1] < d[1] else self._dogs.pop(0)\n",
    "        return name\n",
    "        \n",
    "    def dequeueCat(self) -> Optional[str]:\n",
    "        if not self._cats:\n",
    "            return None\n",
    "        return self._cats.pop(0)[0]\n",
    "            \n",
    "    def dequeueDog(self) -> Optional[str]:   \n",
    "        if not self._dogs:\n",
    "            return None\n",
    "        return self._dogs.pop(0)[0]"
   ]
  },
  {
   "cell_type": "code",
   "execution_count": 15,
   "metadata": {},
   "outputs": [
    {
     "data": {
      "text/plain": [
       "True"
      ]
     },
     "execution_count": 15,
     "metadata": {},
     "output_type": "execute_result"
    }
   ],
   "source": [
    "s = Shelter()\n",
    "s.enqueue('Kitty', 'cat')\n",
    "s.enqueue('Carol', 'cat')\n",
    "s.enqueue('Boxer', 'dog')\n",
    "s.enqueue('Robby', 'dog')\n",
    "s.enqueue('Alex', 'cat')"
   ]
  },
  {
   "cell_type": "code",
   "execution_count": 16,
   "metadata": {},
   "outputs": [
    {
     "data": {
      "text/plain": [
       "'Kitty'"
      ]
     },
     "execution_count": 16,
     "metadata": {},
     "output_type": "execute_result"
    }
   ],
   "source": [
    "s.dequeueAny()"
   ]
  },
  {
   "cell_type": "code",
   "execution_count": 17,
   "metadata": {},
   "outputs": [
    {
     "data": {
      "text/plain": [
       "'Boxer'"
      ]
     },
     "execution_count": 17,
     "metadata": {},
     "output_type": "execute_result"
    }
   ],
   "source": [
    "s.dequeueDog()"
   ]
  },
  {
   "cell_type": "code",
   "execution_count": 18,
   "metadata": {},
   "outputs": [
    {
     "data": {
      "text/plain": [
       "'Carol'"
      ]
     },
     "execution_count": 18,
     "metadata": {},
     "output_type": "execute_result"
    }
   ],
   "source": [
    "s.dequeueCat()"
   ]
  },
  {
   "cell_type": "code",
   "execution_count": 19,
   "metadata": {},
   "outputs": [
    {
     "data": {
      "text/plain": [
       "'Robby'"
      ]
     },
     "execution_count": 19,
     "metadata": {},
     "output_type": "execute_result"
    }
   ],
   "source": [
    "s.dequeueAny()"
   ]
  },
  {
   "cell_type": "code",
   "execution_count": 20,
   "metadata": {},
   "outputs": [],
   "source": [
    "s.dequeueDog()"
   ]
  },
  {
   "cell_type": "markdown",
   "metadata": {},
   "source": [
    "---\n",
    "# Trees  and Graphs\n",
    "\n",
    "Need to be distinguished:\n",
    "- Tree\n",
    "- Binary Tree\n",
    "- Binary Search Tree\n",
    "- Complete Binary Tree\n",
    "- Full Binary Tree\n",
    "- Perfect Binary Tree"
   ]
  },
  {
   "cell_type": "markdown",
   "metadata": {},
   "source": [
    "112\n",
    "Hints 670\n",
    "Solutions 253"
   ]
  },
  {
   "cell_type": "markdown",
   "metadata": {},
   "source": [
    "### Tree implementation"
   ]
  },
  {
   "cell_type": "code",
   "execution_count": 42,
   "metadata": {},
   "outputs": [],
   "source": [
    "class Node:\n",
    "\n",
    "    def __init__(self, key):\n",
    "        self.key = key\n",
    "        self.left = None\n",
    "        self.right = None\n",
    "        \n",
    "\n",
    "def inorder(root):\n",
    "    if root is not None:\n",
    "        inorder(root.left)\n",
    "        print(root.key)\n",
    "        inorder(root.right)\n",
    "        \n",
    "def insert(root, key):\n",
    "    if root is None:\n",
    "        return Node(key)\n",
    "    if key < root.key:\n",
    "        root.left = insert(root.left, key)\n",
    "    elif key > root.key:\n",
    "        root.right = insert(root.right, key)\n",
    "    return root\n",
    "\n",
    "def maxValueNode(root):\n",
    "    current = root\n",
    "    while current.right is not None:\n",
    "        current = current.right\n",
    "    return current\n",
    "        \n",
    "def remove(root, key):\n",
    "    if root is None:\n",
    "        return root\n",
    "    \n",
    "    if key < root.key:\n",
    "        root.left = remove(root.left, key)\n",
    "    elif key > root.key:\n",
    "        root.right = remove(root.right, key)\n",
    "    else:\n",
    "        if root.left is None:\n",
    "            temp = root.right\n",
    "            root = None\n",
    "            return temp\n",
    "        if root.right is None:\n",
    "            temp = root.left\n",
    "            root = None\n",
    "            return temp\n",
    "        \n",
    "        temp = maxValueNode(root.left)\n",
    "        root.key = temp.key\n",
    "        root.left = remove(root.left, temp.key)  \n",
    "  \n",
    "    return root  "
   ]
  },
  {
   "cell_type": "code",
   "execution_count": 44,
   "metadata": {},
   "outputs": [
    {
     "name": "stdout",
     "output_type": "stream",
     "text": [
      "3\n",
      "5\n",
      "8\n",
      "10\n",
      "13\n",
      "15\n",
      "18\n"
     ]
    }
   ],
   "source": [
    "root = None\n",
    "root = insert(root, 10)\n",
    "root = insert(root, 5)\n",
    "root = insert(root, 3)\n",
    "root = insert(root, 8)\n",
    "root = insert(root, 15)\n",
    "root = insert(root, 18)\n",
    "root = insert(root, 13)\n",
    "\n",
    "inorder(root)"
   ]
  },
  {
   "cell_type": "code",
   "execution_count": 45,
   "metadata": {},
   "outputs": [
    {
     "name": "stdout",
     "output_type": "stream",
     "text": [
      "3\n",
      "5\n",
      "8\n",
      "10\n",
      "15\n",
      "18\n"
     ]
    }
   ],
   "source": [
    "remove(root, 13)\n",
    "inorder(root)"
   ]
  },
  {
   "cell_type": "markdown",
   "metadata": {},
   "source": [
    "remove(root, 15)\n",
    "inorder(root)"
   ]
  },
  {
   "cell_type": "code",
   "execution_count": 47,
   "metadata": {},
   "outputs": [
    {
     "name": "stdout",
     "output_type": "stream",
     "text": [
      "3\n",
      "8\n",
      "10\n",
      "18\n"
     ]
    }
   ],
   "source": [
    "remove(root, 5)\n",
    "inorder(root)"
   ]
  },
  {
   "cell_type": "code",
   "execution_count": 48,
   "metadata": {},
   "outputs": [
    {
     "name": "stdout",
     "output_type": "stream",
     "text": [
      "3\n",
      "8\n",
      "18\n"
     ]
    }
   ],
   "source": [
    "remove(root, 10)\n",
    "inorder(root)"
   ]
  },
  {
   "cell_type": "markdown",
   "metadata": {},
   "source": [
    "### Min-heap implementation (over list)\n",
    "\n",
    "- (i -1) / 2 returns parent node.\n",
    "- (2 * i) + 1 returns left child node.\n",
    "- (2 * i) + 2 returns right child node\n",
    "\n",
    "extractMin and insert takes O(log n)"
   ]
  },
  {
   "cell_type": "code",
   "execution_count": 1,
   "metadata": {},
   "outputs": [
    {
     "name": "stdout",
     "output_type": "stream",
     "text": [
      "[4, 7, 50, 55, 90, 87, 80]\n",
      "[4, 7, 50, 10, 90, 87, 80, 55]\n",
      "4\n",
      "[7, 10, 50, 55, 90, 87, 80]\n"
     ]
    }
   ],
   "source": [
    "import heapq \n",
    "  \n",
    "l = [7, 4, 50, 55, 90, 87, 80] \n",
    "  \n",
    "# convert list in heap at place\n",
    "heapq.heapify(l) \n",
    "print(list(l)) \n",
    "  \n",
    "# add new element\n",
    "heapq.heappush(l, 10) \n",
    "print(list(l)) \n",
    "  \n",
    "# get element\n",
    "print(heapq.heappop(l)) \n",
    "print(list(l)) "
   ]
  },
  {
   "cell_type": "code",
   "execution_count": 8,
   "metadata": {},
   "outputs": [],
   "source": [
    "class minheap:\n",
    "    \n",
    "    def __init__(self) -> None:\n",
    "        self.data = []\n",
    "        self.size = 0\n",
    "        \n",
    "    def swap(self, fpos: int, spos: int) -> None:\n",
    "        self.data[spos], self.data[fpos] = self.data[fpos], self.data[spos]\n",
    "        \n",
    "    def parent(self, pos: int) -> int: \n",
    "        return (pos - 1)//2\n",
    "  \n",
    "    def leftChild(self, pos): \n",
    "        return 2*pos + 1 \n",
    "  \n",
    "    def rightChild(self, pos): \n",
    "        return 2*pos + 2\n",
    "  \n",
    "    def isLeaf(self, pos): \n",
    "        if pos >= (self.size//2) and pos <= self.size: \n",
    "            return True\n",
    "        return False\n",
    "    \n",
    "    def show(self) -> str:\n",
    "        return self.data\n",
    "    \n",
    "    def insert(self, element: int): \n",
    "        self.data.append(element)\n",
    "        current = self.size\n",
    "        self.size += 1\n",
    "        \n",
    "        while self.data[current] < self.data[self.parent(current)]: \n",
    "            self.swap(current, self.parent(current)) \n",
    "            current = self.parent(current) \n",
    "  \n",
    "    def minHeapify(self, pos: int):\n",
    "        if not self.isLeaf(pos):\n",
    "            lc = self.leftChild(pos)\n",
    "            rc = self.rightChild(pos)\n",
    "            if (self.data[pos] > self.data[lc]) or (self.data[pos] > self.data[rc]):\n",
    "                if self.data[lc] < self.data[rc]:\n",
    "                    self.swap(pos, lc)\n",
    "                    self.minHeapify(lc)\n",
    "                else:\n",
    "                    self.swap(pos, rc)\n",
    "                    self.minHeapify(rc)\n",
    "\n",
    "    def get(self) -> int:\n",
    "        self.swap(0, self.size - 1)\n",
    "        result = self.data.pop()\n",
    "        self.size -= 1\n",
    "        self.minHeapify(0)\n",
    "        return result"
   ]
  },
  {
   "cell_type": "code",
   "execution_count": 9,
   "metadata": {},
   "outputs": [
    {
     "data": {
      "text/plain": [
       "[4, 50, 7, 55, 90, 87]"
      ]
     },
     "execution_count": 9,
     "metadata": {},
     "output_type": "execute_result"
    }
   ],
   "source": [
    "h = minheap()\n",
    "h.insert(4)\n",
    "h.insert(50)\n",
    "h.insert(7)\n",
    "h.insert(55)\n",
    "h.insert(90)\n",
    "h.insert(87)\n",
    "h.show()"
   ]
  },
  {
   "cell_type": "code",
   "execution_count": 10,
   "metadata": {},
   "outputs": [
    {
     "data": {
      "text/plain": [
       "[4, 50, 7, 55, 90, 87, 10, 80]"
      ]
     },
     "execution_count": 10,
     "metadata": {},
     "output_type": "execute_result"
    }
   ],
   "source": [
    "h.insert(10)\n",
    "h.insert(80)\n",
    "h.show()"
   ]
  },
  {
   "cell_type": "code",
   "execution_count": 11,
   "metadata": {},
   "outputs": [
    {
     "data": {
      "text/plain": [
       "4"
      ]
     },
     "execution_count": 11,
     "metadata": {},
     "output_type": "execute_result"
    }
   ],
   "source": [
    "h.get()"
   ]
  },
  {
   "cell_type": "code",
   "execution_count": 12,
   "metadata": {},
   "outputs": [
    {
     "data": {
      "text/plain": [
       "[7, 50, 10, 55, 90, 87, 80]"
      ]
     },
     "execution_count": 12,
     "metadata": {},
     "output_type": "execute_result"
    }
   ],
   "source": [
    "h.show()"
   ]
  },
  {
   "cell_type": "markdown",
   "metadata": {},
   "source": [
    "__4.2 Minimal Tree:__ Given a sorted (increasing order) array with unique integer elements, write an algorithm to create a binary search tree with minimal height."
   ]
  },
  {
   "cell_type": "code",
   "execution_count": 7,
   "metadata": {},
   "outputs": [],
   "source": [
    "class Node:\n",
    "\n",
    "    def __init__(self, key):\n",
    "        self.key = key\n",
    "        self.left = None\n",
    "        self.right = None\n",
    "        \n",
    "\n",
    "def inorder(root):\n",
    "    if root is not None:\n",
    "        inorder(root.left)\n",
    "        print(root.key)\n",
    "        inorder(root.right)\n",
    "        \n",
    "def insertAll(keys):\n",
    "    n = len(keys)\n",
    "    if n == 0:\n",
    "        return None\n",
    "    elif n == 1:\n",
    "        return Node(keys[0])\n",
    "    else:\n",
    "        i = n // 2\n",
    "        root = Node(keys[i])\n",
    "        root.left = insertAll(keys[0:i])\n",
    "        root.right = insertAll(keys[i+1:])\n",
    "        return root"
   ]
  },
  {
   "cell_type": "code",
   "execution_count": 8,
   "metadata": {},
   "outputs": [
    {
     "name": "stdout",
     "output_type": "stream",
     "text": [
      "1\n",
      "3\n",
      "5\n",
      "6\n",
      "7\n"
     ]
    }
   ],
   "source": [
    "l = [1, 3, 5, 6, 7]\n",
    "r = insertAll(l)\n",
    "inorder(r)"
   ]
  },
  {
   "cell_type": "markdown",
   "metadata": {},
   "source": [
    "__4.5 Validate BST:__ Implement a function to check if a binary tree is a binary search tree.\n",
    "\n",
    "- for case without duplicates in-order will get an increasing sequence\n",
    "- (min, max) approach will work in either way"
   ]
  },
  {
   "cell_type": "code",
   "execution_count": 19,
   "metadata": {},
   "outputs": [],
   "source": [
    "class Node:\n",
    "\n",
    "    def __init__(self, key):\n",
    "        self.key = key\n",
    "        self.left = None\n",
    "        self.right = None\n",
    "        \n",
    "\n",
    "def inorder(root):\n",
    "    if root is not None:\n",
    "        inorder(root.left)\n",
    "        print(root.key)\n",
    "        inorder(root.right)\n",
    "        \n",
    "def insert(root, key):\n",
    "    if root is None:\n",
    "        return Node(key)\n",
    "    if key < root.key:\n",
    "        root.left = insert(root.left, key)\n",
    "    elif key > root.key:\n",
    "        root.right = insert(root.right, key)\n",
    "    return root\n",
    "\n",
    "        \n",
    "def insert_not(root, key):\n",
    "    if root is None:\n",
    "        return Node(key)\n",
    "    root.right = insert(root.right, key)\n",
    "    return root"
   ]
  },
  {
   "cell_type": "code",
   "execution_count": 29,
   "metadata": {},
   "outputs": [],
   "source": [
    "import sys\n",
    "last_seen = -1 * sys.maxsize\n",
    "\n",
    "def validate_bst(root: Node) -> bool:\n",
    "    flag = True\n",
    "    global last_seen \n",
    "    if root is None:\n",
    "        return flag\n",
    "    flag &= validate_bst(root.left)\n",
    "    flag &= (root.key >= last_seen)\n",
    "    last_seen = root.key\n",
    "    flag &= validate_bst(root.right)\n",
    "    return flag"
   ]
  },
  {
   "cell_type": "code",
   "execution_count": 36,
   "metadata": {},
   "outputs": [],
   "source": [
    "import sys\n",
    "\n",
    "def validate_bst2(root: Node, key_min:int, key_max:int) -> bool:\n",
    "    if root is None:\n",
    "        return True\n",
    "    if (root.key >= key_max) or (root.key <= key_min):\n",
    "        return False\n",
    "    return validate_bst2(root.left, key_min, \n",
    "                         root.key) and validate_bst2(root.right, \n",
    "                                                     root.key, key_max) \n",
    "    \n",
    "def validate_call(root:Node) -> bool:\n",
    "    return validate_bst2(root, -1 * sys.maxsize, sys.maxsize)\n",
    "    "
   ]
  },
  {
   "cell_type": "code",
   "execution_count": 37,
   "metadata": {},
   "outputs": [
    {
     "name": "stdout",
     "output_type": "stream",
     "text": [
      "3\n",
      "5\n",
      "8\n",
      "10\n",
      "13\n",
      "15\n",
      "18\n"
     ]
    }
   ],
   "source": [
    "root = None\n",
    "root = insert(root, 10)\n",
    "root = insert(root, 5)\n",
    "root = insert(root, 3)\n",
    "root = insert(root, 8)\n",
    "root = insert(root, 15)\n",
    "root = insert(root, 18)\n",
    "root = insert(root, 13)\n",
    "\n",
    "inorder(root)"
   ]
  },
  {
   "cell_type": "code",
   "execution_count": 31,
   "metadata": {},
   "outputs": [
    {
     "data": {
      "text/plain": [
       "True"
      ]
     },
     "execution_count": 31,
     "metadata": {},
     "output_type": "execute_result"
    }
   ],
   "source": [
    "validate_bst(root)"
   ]
  },
  {
   "cell_type": "code",
   "execution_count": 38,
   "metadata": {},
   "outputs": [
    {
     "data": {
      "text/plain": [
       "True"
      ]
     },
     "execution_count": 38,
     "metadata": {},
     "output_type": "execute_result"
    }
   ],
   "source": [
    "validate_call(root)"
   ]
  },
  {
   "cell_type": "code",
   "execution_count": 39,
   "metadata": {},
   "outputs": [
    {
     "name": "stdout",
     "output_type": "stream",
     "text": [
      "8\n",
      "3\n",
      "4\n",
      "6\n"
     ]
    }
   ],
   "source": [
    "root = None\n",
    "root = insert_not(root, 8)\n",
    "root = insert_not(root, 3)\n",
    "root = insert_not(root, 4)\n",
    "root = insert_not(root, 6)\n",
    "\n",
    "inorder(root)"
   ]
  },
  {
   "cell_type": "code",
   "execution_count": 33,
   "metadata": {},
   "outputs": [
    {
     "data": {
      "text/plain": [
       "False"
      ]
     },
     "execution_count": 33,
     "metadata": {},
     "output_type": "execute_result"
    }
   ],
   "source": [
    "validate_bst(root)"
   ]
  },
  {
   "cell_type": "code",
   "execution_count": 40,
   "metadata": {},
   "outputs": [
    {
     "data": {
      "text/plain": [
       "False"
      ]
     },
     "execution_count": 40,
     "metadata": {},
     "output_type": "execute_result"
    }
   ],
   "source": [
    "validate_call(root)"
   ]
  },
  {
   "cell_type": "markdown",
   "metadata": {},
   "source": [
    "__4.3 List of Depths:__ Given a binary tree, design an algorithm which creates a linked list of all the nodes at each depth (e.g., if you have a tree with depth 0, you' ll have 0 linked lists).\n",
    "\n",
    "Hints: #107, #123, #135"
   ]
  },
  {
   "cell_type": "markdown",
   "metadata": {},
   "source": [
    "__4.4 Check Balanced:__ Implement a function to check if a binary tree is balanced. For the purposes of this question, a balanced tree is defined to be a tree such that the heights of the two subtrees of any node never differ by more than one.\n",
    "\n",
    "Hints: #27, #33, #49 , #105 , #124"
   ]
  },
  {
   "cell_type": "markdown",
   "metadata": {},
   "source": [
    "__4.1 Route Between Nodes:__ Given a directed graph, design an algorithm to find out whether there is a\n",
    "route between two nodes.\n",
    "\n",
    "Hints: #127"
   ]
  },
  {
   "cell_type": "markdown",
   "metadata": {},
   "source": [
    "__4.6 Successor:__ Write an algorithm to find the \"next\" node (i.e., in-order successor ) of a given node in a binary search tree. You may assume that each node has a link to its parent.\n",
    "\n",
    "Hints: #79, #91"
   ]
  },
  {
   "cell_type": "markdown",
   "metadata": {},
   "source": [
    "__4.7 Build Order:__ You are given a list of projects and a list of dependencies (which is a list of pairs of projects, where the second project is dependent on the first project ). All of a project's dependencies must be built before the project is . Find a build order that will allow the projects to be built. If there is no valid build order, return an error.\n",
    "\n",
    "EXAMPLE\n",
    "\n",
    "projects: a, b, c, d, e, f\n",
    "\n",
    "dependencies: (a, d), (f, b), (b, d), (f, a), (d, c)\n",
    "\n",
    "Output: f, e, a, b, d, c\n",
    "\n",
    "Hints: #26 , #47, #60 , #85 , #125, #133"
   ]
  },
  {
   "cell_type": "markdown",
   "metadata": {},
   "source": [
    "__4.8 First Common Ancestor:__ Design an algorithm and write code to find the first common ancestor of two nodes in a binary tree. Avoid storing additional nodes in a data structure. \n",
    "\n",
    "NOTE: This is not necessarily a binary search tree.\n",
    "\n",
    "Hints: #10 , #16, #28 , #36, #46 , #70 , #80, #96"
   ]
  },
  {
   "cell_type": "markdown",
   "metadata": {},
   "source": [
    "__4.9 BST Sequences:__ A binary search tree was created by traversing through an array from left to right and inserting each element. Given a binary search tree with distinct elements, print all possible arrays that could have led to this tree.\n",
    "\n",
    "EXAMPLE\n",
    "\n",
    "Output: {2, 1, 3} , {2, 3, 1}\n",
    "\n",
    "Hints: #39 , #48 , #66 , #82"
   ]
  },
  {
   "cell_type": "markdown",
   "metadata": {},
   "source": [
    "__4.10 Check Subtree:__ Tl and T2 are two very large binary trees, with Tl much bigger than T2. Create an algorithm to determine if T2 is a subtree of Tl. A tree T2 is a subtree ofTi if there exists a node n in Ti such that the subtree of n is identical to T2. That is, if you cut off the tree at node n, the two trees would be identical.\n",
    "\n",
    "Hints: #4, #11, #18, #31, #37"
   ]
  },
  {
   "cell_type": "markdown",
   "metadata": {},
   "source": [
    "__4.11 Random Node:__ You are implementing a binary tree class from scratch which, in addition to insert, find, and delete, has a method getRandomNode() which returns a random node from the tree. All nodes should be equally likely to be chosen. Design and implement an algorithm\n",
    "for getRandomNode, and explain how you would implement the rest of the methods.\n",
    "\n",
    "Hints: #42, #54, #62, #75, #89, #99, #112 , #119"
   ]
  },
  {
   "cell_type": "markdown",
   "metadata": {},
   "source": [
    "__4.12 Paths with Sum:__ You are given a binary tree in which each node contains an integer value (which might be positive or negative). Design an algorithm to count the number of paths that sum to a given value. The path does not need to start or end at the root or a leaf, but it must go downwards (traveling only from parent nodes to child nodes).\n",
    "\n",
    "Hints: #6, #14, #52, #68, #77, #87, #94, #103, #108, #115"
   ]
  },
  {
   "cell_type": "code",
   "execution_count": null,
   "metadata": {},
   "outputs": [],
   "source": []
  },
  {
   "cell_type": "markdown",
   "metadata": {},
   "source": [
    "-----\n",
    "# Bitwise Operations\n",
    "\n",
    "&, |, ^, ~ << \n",
    "\n",
    "A very elegant way to __check that an integer has exactly one bit set to 1__. We can check to see that a number has exactly one 1 because if we subtract 1 from it and then AND it with the new number, we should get 0.\n",
    "\n",
    "00010000 - 1 = 00001111\n",
    "\n",
    "00010000 & 00001111 = 0\n"
   ]
  },
  {
   "cell_type": "code",
   "execution_count": 79,
   "metadata": {},
   "outputs": [
    {
     "data": {
      "text/plain": [
       "True"
      ]
     },
     "execution_count": 79,
     "metadata": {},
     "output_type": "execute_result"
    }
   ],
   "source": [
    "i = 1\n",
    "(i & (i - 1)) == 0"
   ]
  },
  {
   "cell_type": "markdown",
   "metadata": {},
   "source": []
  }
 ],
 "metadata": {
  "kernelspec": {
   "display_name": "Python 3",
   "language": "python",
   "name": "python3"
  },
  "language_info": {
   "codemirror_mode": {
    "name": "ipython",
    "version": 3
   },
   "file_extension": ".py",
   "mimetype": "text/x-python",
   "name": "python",
   "nbconvert_exporter": "python",
   "pygments_lexer": "ipython3",
   "version": "3.7.4"
  }
 },
 "nbformat": 4,
 "nbformat_minor": 4
}
