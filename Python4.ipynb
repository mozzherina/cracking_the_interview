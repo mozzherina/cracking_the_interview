{
 "cells": [
  {
   "cell_type": "markdown",
   "metadata": {},
   "source": [
    "# Trees  and Graphs\n",
    "\n",
    "Need to be distinguished:\n",
    "- Tree\n",
    "- Binary Tree\n",
    "- Binary Search Tree\n",
    "- Complete Binary Tree\n",
    "- Full Binary Tree\n",
    "- Perfect Binary Tree"
   ]
  },
  {
   "cell_type": "markdown",
   "metadata": {},
   "source": [
    "### Tree implementation"
   ]
  },
  {
   "cell_type": "code",
   "execution_count": 42,
   "metadata": {},
   "outputs": [],
   "source": [
    "class Node:\n",
    "\n",
    "    def __init__(self, key):\n",
    "        self.key = key\n",
    "        self.left = None\n",
    "        self.right = None\n",
    "        \n",
    "\n",
    "def inorder(root):\n",
    "    if root is not None:\n",
    "        inorder(root.left)\n",
    "        print(root.key)\n",
    "        inorder(root.right)\n",
    "        \n",
    "def insert(root, key):\n",
    "    if root is None:\n",
    "        return Node(key)\n",
    "    if key < root.key:\n",
    "        root.left = insert(root.left, key)\n",
    "    elif key > root.key:\n",
    "        root.right = insert(root.right, key)\n",
    "    return root\n",
    "\n",
    "def maxValueNode(root):\n",
    "    current = root\n",
    "    while current.right is not None:\n",
    "        current = current.right\n",
    "    return current\n",
    "        \n",
    "def remove(root, key):\n",
    "    if root is None:\n",
    "        return root\n",
    "    \n",
    "    if key < root.key:\n",
    "        root.left = remove(root.left, key)\n",
    "    elif key > root.key:\n",
    "        root.right = remove(root.right, key)\n",
    "    else:\n",
    "        if root.left is None:\n",
    "            temp = root.right\n",
    "            root = None\n",
    "            return temp\n",
    "        if root.right is None:\n",
    "            temp = root.left\n",
    "            root = None\n",
    "            return temp\n",
    "        \n",
    "        temp = maxValueNode(root.left)\n",
    "        root.key = temp.key\n",
    "        root.left = remove(root.left, temp.key)  \n",
    "  \n",
    "    return root  "
   ]
  },
  {
   "cell_type": "code",
   "execution_count": 44,
   "metadata": {},
   "outputs": [
    {
     "name": "stdout",
     "output_type": "stream",
     "text": [
      "3\n",
      "5\n",
      "8\n",
      "10\n",
      "13\n",
      "15\n",
      "18\n"
     ]
    }
   ],
   "source": [
    "root = None\n",
    "root = insert(root, 10)\n",
    "root = insert(root, 5)\n",
    "root = insert(root, 3)\n",
    "root = insert(root, 8)\n",
    "root = insert(root, 15)\n",
    "root = insert(root, 18)\n",
    "root = insert(root, 13)\n",
    "\n",
    "inorder(root)"
   ]
  },
  {
   "cell_type": "code",
   "execution_count": 45,
   "metadata": {},
   "outputs": [
    {
     "name": "stdout",
     "output_type": "stream",
     "text": [
      "3\n",
      "5\n",
      "8\n",
      "10\n",
      "15\n",
      "18\n"
     ]
    }
   ],
   "source": [
    "remove(root, 13)\n",
    "inorder(root)"
   ]
  },
  {
   "cell_type": "markdown",
   "metadata": {},
   "source": [
    "remove(root, 15)\n",
    "inorder(root)"
   ]
  },
  {
   "cell_type": "code",
   "execution_count": 47,
   "metadata": {},
   "outputs": [
    {
     "name": "stdout",
     "output_type": "stream",
     "text": [
      "3\n",
      "8\n",
      "10\n",
      "18\n"
     ]
    }
   ],
   "source": [
    "remove(root, 5)\n",
    "inorder(root)"
   ]
  },
  {
   "cell_type": "code",
   "execution_count": 48,
   "metadata": {},
   "outputs": [
    {
     "name": "stdout",
     "output_type": "stream",
     "text": [
      "3\n",
      "8\n",
      "18\n"
     ]
    }
   ],
   "source": [
    "remove(root, 10)\n",
    "inorder(root)"
   ]
  },
  {
   "cell_type": "markdown",
   "metadata": {},
   "source": [
    "### Min-heap implementation (over list)\n",
    "\n",
    "- (i - 1)/2 returns parent node.\n",
    "- 2*i + 1 returns left child node.\n",
    "- 2*i + 2 returns right child node\n",
    "\n",
    "extractMin and insert takes O(log n)"
   ]
  },
  {
   "cell_type": "code",
   "execution_count": 1,
   "metadata": {},
   "outputs": [
    {
     "name": "stdout",
     "output_type": "stream",
     "text": [
      "[4, 7, 50, 55, 90, 87, 80]\n",
      "[4, 7, 50, 10, 90, 87, 80, 55]\n",
      "4\n",
      "[7, 10, 50, 55, 90, 87, 80]\n"
     ]
    }
   ],
   "source": [
    "import heapq \n",
    "  \n",
    "l = [7, 4, 50, 55, 90, 87, 80] \n",
    "  \n",
    "# convert list in heap at place\n",
    "heapq.heapify(l) \n",
    "print(list(l)) \n",
    "  \n",
    "# add new element\n",
    "heapq.heappush(l, 10) \n",
    "print(list(l)) \n",
    "  \n",
    "# get element\n",
    "print(heapq.heappop(l)) \n",
    "print(list(l)) "
   ]
  },
  {
   "cell_type": "code",
   "execution_count": 8,
   "metadata": {},
   "outputs": [],
   "source": [
    "class minheap:\n",
    "    \n",
    "    def __init__(self) -> None:\n",
    "        self.data = []\n",
    "        self.size = 0\n",
    "        \n",
    "    def swap(self, fpos: int, spos: int) -> None:\n",
    "        self.data[spos], self.data[fpos] = self.data[fpos], self.data[spos]\n",
    "        \n",
    "    def parent(self, pos: int) -> int: \n",
    "        return (pos - 1)//2\n",
    "  \n",
    "    def leftChild(self, pos): \n",
    "        return 2*pos + 1 \n",
    "  \n",
    "    def rightChild(self, pos): \n",
    "        return 2*pos + 2\n",
    "  \n",
    "    def isLeaf(self, pos): \n",
    "        if pos >= (self.size//2) and pos <= self.size: \n",
    "            return True\n",
    "        return False\n",
    "    \n",
    "    def show(self) -> str:\n",
    "        return self.data\n",
    "    \n",
    "    def insert(self, element: int): \n",
    "        self.data.append(element)\n",
    "        current = self.size\n",
    "        self.size += 1\n",
    "        \n",
    "        while self.data[current] < self.data[self.parent(current)]: \n",
    "            self.swap(current, self.parent(current)) \n",
    "            current = self.parent(current) \n",
    "  \n",
    "    def minHeapify(self, pos: int):\n",
    "        if not self.isLeaf(pos):\n",
    "            lc = self.leftChild(pos)\n",
    "            rc = self.rightChild(pos)\n",
    "            if (self.data[pos] > self.data[lc]) or (self.data[pos] > self.data[rc]):\n",
    "                if self.data[lc] < self.data[rc]:\n",
    "                    self.swap(pos, lc)\n",
    "                    self.minHeapify(lc)\n",
    "                else:\n",
    "                    self.swap(pos, rc)\n",
    "                    self.minHeapify(rc)\n",
    "\n",
    "    def get(self) -> int:\n",
    "        self.swap(0, self.size - 1)\n",
    "        result = self.data.pop()\n",
    "        self.size -= 1\n",
    "        self.minHeapify(0)\n",
    "        return result"
   ]
  },
  {
   "cell_type": "code",
   "execution_count": 9,
   "metadata": {},
   "outputs": [
    {
     "data": {
      "text/plain": [
       "[4, 50, 7, 55, 90, 87]"
      ]
     },
     "execution_count": 9,
     "metadata": {},
     "output_type": "execute_result"
    }
   ],
   "source": [
    "h = minheap()\n",
    "h.insert(4)\n",
    "h.insert(50)\n",
    "h.insert(7)\n",
    "h.insert(55)\n",
    "h.insert(90)\n",
    "h.insert(87)\n",
    "h.show()"
   ]
  },
  {
   "cell_type": "code",
   "execution_count": 10,
   "metadata": {},
   "outputs": [
    {
     "data": {
      "text/plain": [
       "[4, 50, 7, 55, 90, 87, 10, 80]"
      ]
     },
     "execution_count": 10,
     "metadata": {},
     "output_type": "execute_result"
    }
   ],
   "source": [
    "h.insert(10)\n",
    "h.insert(80)\n",
    "h.show()"
   ]
  },
  {
   "cell_type": "code",
   "execution_count": 11,
   "metadata": {},
   "outputs": [
    {
     "data": {
      "text/plain": [
       "4"
      ]
     },
     "execution_count": 11,
     "metadata": {},
     "output_type": "execute_result"
    }
   ],
   "source": [
    "h.get()"
   ]
  },
  {
   "cell_type": "code",
   "execution_count": 12,
   "metadata": {},
   "outputs": [
    {
     "data": {
      "text/plain": [
       "[7, 50, 10, 55, 90, 87, 80]"
      ]
     },
     "execution_count": 12,
     "metadata": {},
     "output_type": "execute_result"
    }
   ],
   "source": [
    "h.show()"
   ]
  },
  {
   "cell_type": "markdown",
   "metadata": {},
   "source": [
    "### Graph Implementation\n",
    "\n",
    "- depth-first search\n",
    "- breadth-first search"
   ]
  },
  {
   "cell_type": "code",
   "execution_count": 26,
   "metadata": {},
   "outputs": [],
   "source": [
    "class Vertex:\n",
    "    \n",
    "    def __init__(self, key):\n",
    "        self.key = key\n",
    "        self.visited = False\n",
    "        self.adj_dict = {} \n",
    "        \n",
    "    def add_neighbor(self, v):\n",
    "        self.adj_dict[v] = 0 #or weight\n",
    "    \n",
    "    def add_neighbors(self, *vs):\n",
    "        for v in vs:\n",
    "            self.add_neighbor(v)\n",
    "        \n",
    "    def __str__(self):\n",
    "        return str(self.key) + ' -> ' + str([x.key for x in self.adj_dict.keys()])\n",
    "        \n",
    "class Graph:\n",
    "    \n",
    "    def __init__(self):\n",
    "        self.vert_dict = {}\n",
    "        \n",
    "    def add_vertex(self, key):\n",
    "        v = Vertex(key)\n",
    "        self.vert_dict[key] = v\n",
    "        return v\n",
    "        \n",
    "    def get_vertex(self, key):\n",
    "        return self.vert_dict.get(key)\n",
    "        \n",
    "    def add_edge(self, frm, to):\n",
    "        if frm not in self.vert_dict:\n",
    "            self.add_vertex(frm)\n",
    "        if to not in self.vert_dict:\n",
    "            self.add_vertex(to)\n",
    "        self.vert_dict[frm].add_neighbor(self.vert_dict[to])\n",
    "        #self.vert_dict[to].add_neighbor(self.vert_dict[frm])\n",
    "        \n",
    "    def show(self):\n",
    "        for v in self.vert_dict.keys():\n",
    "            print('{}'.format(self.vert_dict[v]))"
   ]
  },
  {
   "cell_type": "code",
   "execution_count": 35,
   "metadata": {},
   "outputs": [
    {
     "name": "stdout",
     "output_type": "stream",
     "text": [
      "0 -> ['1', '4', '5']\n",
      "1 -> ['3', '4']\n",
      "2 -> ['1']\n",
      "3 -> ['2']\n",
      "4 -> []\n",
      "5 -> []\n"
     ]
    }
   ],
   "source": [
    "if __name__ == '__main__':\n",
    "\n",
    "    g = Graph()\n",
    "    \n",
    "    g.add_vertex('0')\n",
    "    g.add_vertex('1')\n",
    "    g.add_vertex('2')\n",
    "    g.add_vertex('3')\n",
    "    g.add_vertex('4')\n",
    "    g.add_vertex('5')\n",
    "\n",
    "    g.add_edge('0', '1')  \n",
    "    g.add_edge('0', '4')\n",
    "    g.add_edge('0', '5')\n",
    "    g.add_edge('1', '3')\n",
    "    g.add_edge('1', '4')\n",
    "    g.add_edge('2', '1')\n",
    "    g.add_edge('3', '2')\n",
    "   \n",
    "    g.show()"
   ]
  },
  {
   "cell_type": "markdown",
   "metadata": {},
   "source": [
    "Depth-first-search:"
   ]
  },
  {
   "cell_type": "code",
   "execution_count": 38,
   "metadata": {},
   "outputs": [],
   "source": [
    "def dfs(v):\n",
    "    if v is not None:\n",
    "        if not v.visited:\n",
    "            print(v.key)\n",
    "            v.visited = True\n",
    "            for k in v.adj_dict.keys():\n",
    "                dfs(k)"
   ]
  },
  {
   "cell_type": "code",
   "execution_count": 39,
   "metadata": {},
   "outputs": [
    {
     "name": "stdout",
     "output_type": "stream",
     "text": [
      "0\n",
      "1\n",
      "3\n",
      "2\n",
      "4\n",
      "5\n"
     ]
    }
   ],
   "source": [
    "for v in g.vert_dict.keys():\n",
    "    g.vert_dict[v].visited = False\n",
    "\n",
    "dfs(g.get_vertex('0'))"
   ]
  },
  {
   "cell_type": "markdown",
   "metadata": {},
   "source": [
    "Breadth-first-search:"
   ]
  },
  {
   "cell_type": "code",
   "execution_count": 41,
   "metadata": {},
   "outputs": [],
   "source": [
    "for v in g.vert_dict.keys():\n",
    "    g.vert_dict[v].visited = False\n",
    "\n",
    "def bfs(v):\n",
    "    to_search = [v]\n",
    "    while to_search:\n",
    "        current = to_search.pop()\n",
    "        if not current.visited:\n",
    "            print(current.key)\n",
    "            current.visited = True\n",
    "            for k in current.adj_dict.keys():\n",
    "                to_search.append(k)"
   ]
  },
  {
   "cell_type": "code",
   "execution_count": 42,
   "metadata": {},
   "outputs": [
    {
     "name": "stdout",
     "output_type": "stream",
     "text": [
      "0\n",
      "5\n",
      "4\n",
      "1\n",
      "3\n",
      "2\n"
     ]
    }
   ],
   "source": [
    "bfs(g.get_vertex('0'))"
   ]
  },
  {
   "cell_type": "markdown",
   "metadata": {},
   "source": [
    "----\n",
    "__4.1 Route Between Nodes:__ Given a directed graph, design an algorithm to find out whether there is a route between two nodes.\n",
    "\n",
    "Hints: #127"
   ]
  },
  {
   "cell_type": "markdown",
   "metadata": {},
   "source": [
    "-----\n",
    "__4.2 Minimal Tree:__ Given a sorted (increasing order) array with unique integer elements, write an algorithm to create a binary search tree with minimal height."
   ]
  },
  {
   "cell_type": "code",
   "execution_count": 7,
   "metadata": {},
   "outputs": [],
   "source": [
    "class Node:\n",
    "\n",
    "    def __init__(self, key):\n",
    "        self.key = key\n",
    "        self.left = None\n",
    "        self.right = None\n",
    "        \n",
    "\n",
    "def inorder(root):\n",
    "    if root is not None:\n",
    "        inorder(root.left)\n",
    "        print(root.key)\n",
    "        inorder(root.right)\n",
    "        \n",
    "def insertAll(keys):\n",
    "    n = len(keys)\n",
    "    if n == 0:\n",
    "        return None\n",
    "    elif n == 1:\n",
    "        return Node(keys[0])\n",
    "    else:\n",
    "        i = n // 2\n",
    "        root = Node(keys[i])\n",
    "        root.left = insertAll(keys[0:i])\n",
    "        root.right = insertAll(keys[i+1:])\n",
    "        return root"
   ]
  },
  {
   "cell_type": "code",
   "execution_count": 8,
   "metadata": {},
   "outputs": [
    {
     "name": "stdout",
     "output_type": "stream",
     "text": [
      "1\n",
      "3\n",
      "5\n",
      "6\n",
      "7\n"
     ]
    }
   ],
   "source": [
    "l = [1, 3, 5, 6, 7]\n",
    "r = insertAll(l)\n",
    "inorder(r)"
   ]
  },
  {
   "cell_type": "markdown",
   "metadata": {},
   "source": [
    "-----\n",
    "__4.3 List of Depths:__ Given a binary tree, design an algorithm which creates a linked list of all the nodes at each depth (e.g., if you have a tree with depth 0, you'll have 0 linked lists)."
   ]
  },
  {
   "cell_type": "code",
   "execution_count": 1,
   "metadata": {},
   "outputs": [],
   "source": [
    "class Node:\n",
    "\n",
    "    def __init__(self, key):\n",
    "        self.key = key\n",
    "        self.left = None\n",
    "        self.right = None\n",
    "    \n",
    "def inorder(root):\n",
    "    if root is not None:\n",
    "        inorder(root.left)\n",
    "        print(root.key)\n",
    "        inorder(root.right)\n",
    "        \n",
    "def insert(root, key):\n",
    "    if root is None:\n",
    "        return Node(key)\n",
    "    if key < root.key:\n",
    "        root.left = insert(root.left, key)\n",
    "    elif key > root.key:\n",
    "        root.right = insert(root.right, key)\n",
    "    return root"
   ]
  },
  {
   "cell_type": "code",
   "execution_count": 3,
   "metadata": {},
   "outputs": [],
   "source": [
    "def list_of_depth(root:Node, depth:int=0, result:list=[]):\n",
    "    if root is not None:\n",
    "        if len(result) == depth:\n",
    "            result.append([root.key])\n",
    "        else:\n",
    "            result[depth].append(root.key)\n",
    "\n",
    "        list_of_depth(root.left, depth+1, result)\n",
    "        list_of_depth(root.right, depth+1, result)    "
   ]
  },
  {
   "cell_type": "code",
   "execution_count": 4,
   "metadata": {},
   "outputs": [
    {
     "name": "stdout",
     "output_type": "stream",
     "text": [
      "3\n",
      "5\n",
      "8\n",
      "10\n",
      "13\n",
      "15\n",
      "18\n"
     ]
    }
   ],
   "source": [
    "root = None\n",
    "root = insert(root, 10)\n",
    "root = insert(root, 5)\n",
    "root = insert(root, 3)\n",
    "root = insert(root, 8)\n",
    "root = insert(root, 15)\n",
    "root = insert(root, 18)\n",
    "root = insert(root, 13)\n",
    "\n",
    "inorder(root)"
   ]
  },
  {
   "cell_type": "code",
   "execution_count": 5,
   "metadata": {},
   "outputs": [
    {
     "name": "stdout",
     "output_type": "stream",
     "text": [
      "[[10], [5, 15], [3, 8, 13, 18]]\n"
     ]
    }
   ],
   "source": [
    "result = []\n",
    "list_of_depth(root, 0, result)\n",
    "print(result)"
   ]
  },
  {
   "cell_type": "code",
   "execution_count": 6,
   "metadata": {},
   "outputs": [
    {
     "name": "stdout",
     "output_type": "stream",
     "text": [
      "[]\n"
     ]
    }
   ],
   "source": [
    "result = []\n",
    "list_of_depth(None, 0, result)\n",
    "print(result)"
   ]
  },
  {
   "cell_type": "markdown",
   "metadata": {},
   "source": [
    "-----\n",
    "__4.4 Check Balanced:__ Implement a function to check if a binary tree is balanced. For the purposes of this question, a balanced tree is defined to be a tree such that the heights of the two subtrees of any node never differ by more than one."
   ]
  },
  {
   "cell_type": "code",
   "execution_count": 7,
   "metadata": {},
   "outputs": [],
   "source": [
    "import random\n",
    "\n",
    "class Node:\n",
    "    \n",
    "    def __init__(self, value):\n",
    "        self.key = value\n",
    "        self.right = None\n",
    "        self.left = None\n",
    "        \n",
    "def insert_rand(root, value):\n",
    "    if root is None:\n",
    "        return Node(value)\n",
    "    if random.random() < 0.5:\n",
    "        root.left = insert_rand(root.left, value)\n",
    "    else:\n",
    "        root.right = insert_rand(root.right, value)\n",
    "    return root\n",
    "\n",
    "def insert(root, value):\n",
    "    if root is None:\n",
    "        return Node(value)\n",
    "    if value < root.key:\n",
    "        root.left = insert(root.left, value)\n",
    "    elif value > root.key:\n",
    "        root.right = insert(root.right, value)\n",
    "    return root\n",
    "\n",
    "def inorder(root):\n",
    "    if root is not None:\n",
    "        inorder(root.left)\n",
    "        print(root.key)\n",
    "        inorder(root.right)\n",
    "        \n",
    "def check_depth(root) -> int:\n",
    "    if root is None:\n",
    "        return 0\n",
    "    l = check_depth(root.left)\n",
    "    if l == -1: return -1\n",
    "    r = check_depth(root.right)\n",
    "    if r == -1: return -1\n",
    "    if abs(l - r) > 1: \n",
    "        return -1\n",
    "    return 1 + max(l, r)\n",
    "        \n",
    "def check_balanced(root) -> bool:\n",
    "    return check_depth(root) != -1  "
   ]
  },
  {
   "cell_type": "code",
   "execution_count": 8,
   "metadata": {},
   "outputs": [
    {
     "name": "stdout",
     "output_type": "stream",
     "text": [
      "4\n",
      "30\n",
      "1\n",
      "5\n",
      "15\n",
      "7\n",
      "8\n",
      "3\n",
      "12\n",
      "35\n",
      "18\n"
     ]
    }
   ],
   "source": [
    "root = None\n",
    "root = insert_rand(root, 15)\n",
    "root = insert_rand(root, 5)\n",
    "root = insert_rand(root, 30)\n",
    "root = insert_rand(root, 3)\n",
    "root = insert_rand(root, 8)\n",
    "root = insert_rand(root, 1)\n",
    "root = insert_rand(root, 4)\n",
    "root = insert_rand(root, 7)\n",
    "root = insert_rand(root, 12)\n",
    "root = insert_rand(root, 18)\n",
    "root = insert_rand(root, 35)\n",
    "inorder(root)"
   ]
  },
  {
   "cell_type": "code",
   "execution_count": 9,
   "metadata": {},
   "outputs": [
    {
     "data": {
      "text/plain": [
       "False"
      ]
     },
     "execution_count": 9,
     "metadata": {},
     "output_type": "execute_result"
    }
   ],
   "source": [
    "check_balanced(root)"
   ]
  },
  {
   "cell_type": "code",
   "execution_count": 10,
   "metadata": {},
   "outputs": [
    {
     "name": "stdout",
     "output_type": "stream",
     "text": [
      "1\n",
      "3\n",
      "4\n",
      "5\n",
      "7\n",
      "8\n",
      "12\n",
      "15\n",
      "18\n",
      "30\n",
      "35\n"
     ]
    }
   ],
   "source": [
    "root = None\n",
    "root = insert(root, 15)\n",
    "root = insert(root, 5)\n",
    "root = insert(root, 30)\n",
    "root = insert(root, 3)\n",
    "root = insert(root, 8)\n",
    "root = insert(root, 1)\n",
    "root = insert(root, 4)\n",
    "root = insert(root, 7)\n",
    "root = insert(root, 12)\n",
    "root = insert(root, 18)\n",
    "root = insert(root, 35)\n",
    "inorder(root)"
   ]
  },
  {
   "cell_type": "code",
   "execution_count": 11,
   "metadata": {},
   "outputs": [
    {
     "data": {
      "text/plain": [
       "True"
      ]
     },
     "execution_count": 11,
     "metadata": {},
     "output_type": "execute_result"
    }
   ],
   "source": [
    "check_balanced(root)"
   ]
  },
  {
   "cell_type": "markdown",
   "metadata": {},
   "source": [
    "----\n",
    "__4.5 Validate BST:__ Implement a function to check if a binary tree is a binary search tree.\n",
    "\n",
    "- for case without duplicates in-order will get an increasing sequence\n",
    "- (min, max) approach will work in either way"
   ]
  },
  {
   "cell_type": "code",
   "execution_count": 19,
   "metadata": {},
   "outputs": [],
   "source": [
    "class Node:\n",
    "\n",
    "    def __init__(self, key):\n",
    "        self.key = key\n",
    "        self.left = None\n",
    "        self.right = None\n",
    "        \n",
    "\n",
    "def inorder(root):\n",
    "    if root is not None:\n",
    "        inorder(root.left)\n",
    "        print(root.key)\n",
    "        inorder(root.right)\n",
    "        \n",
    "def insert(root, key):\n",
    "    if root is None:\n",
    "        return Node(key)\n",
    "    if key < root.key:\n",
    "        root.left = insert(root.left, key)\n",
    "    elif key > root.key:\n",
    "        root.right = insert(root.right, key)\n",
    "    return root\n",
    "\n",
    "        \n",
    "def insert_not(root, key):\n",
    "    if root is None:\n",
    "        return Node(key)\n",
    "    root.right = insert(root.right, key)\n",
    "    return root"
   ]
  },
  {
   "cell_type": "code",
   "execution_count": 29,
   "metadata": {},
   "outputs": [],
   "source": [
    "import sys\n",
    "last_seen = -1 * sys.maxsize\n",
    "\n",
    "def validate_bst(root: Node) -> bool:\n",
    "    flag = True\n",
    "    global last_seen \n",
    "    if root is None:\n",
    "        return flag\n",
    "    flag &= validate_bst(root.left)\n",
    "    flag &= (root.key >= last_seen)\n",
    "    last_seen = root.key\n",
    "    flag &= validate_bst(root.right)\n",
    "    return flag"
   ]
  },
  {
   "cell_type": "code",
   "execution_count": 36,
   "metadata": {},
   "outputs": [],
   "source": [
    "import sys\n",
    "\n",
    "def validate_bst2(root: Node, key_min:int, key_max:int) -> bool:\n",
    "    if root is None:\n",
    "        return True\n",
    "    if (root.key >= key_max) or (root.key <= key_min):\n",
    "        return False\n",
    "    return validate_bst2(root.left, key_min, \n",
    "                         root.key) and validate_bst2(root.right, \n",
    "                                                     root.key, key_max) \n",
    "    \n",
    "def validate_call(root:Node) -> bool:\n",
    "    return validate_bst2(root, -1 * sys.maxsize, sys.maxsize)\n",
    "    "
   ]
  },
  {
   "cell_type": "code",
   "execution_count": 37,
   "metadata": {},
   "outputs": [
    {
     "name": "stdout",
     "output_type": "stream",
     "text": [
      "3\n",
      "5\n",
      "8\n",
      "10\n",
      "13\n",
      "15\n",
      "18\n"
     ]
    }
   ],
   "source": [
    "root = None\n",
    "root = insert(root, 10)\n",
    "root = insert(root, 5)\n",
    "root = insert(root, 3)\n",
    "root = insert(root, 8)\n",
    "root = insert(root, 15)\n",
    "root = insert(root, 18)\n",
    "root = insert(root, 13)\n",
    "\n",
    "inorder(root)"
   ]
  },
  {
   "cell_type": "code",
   "execution_count": 31,
   "metadata": {},
   "outputs": [
    {
     "data": {
      "text/plain": [
       "True"
      ]
     },
     "execution_count": 31,
     "metadata": {},
     "output_type": "execute_result"
    }
   ],
   "source": [
    "validate_bst(root)"
   ]
  },
  {
   "cell_type": "code",
   "execution_count": 38,
   "metadata": {},
   "outputs": [
    {
     "data": {
      "text/plain": [
       "True"
      ]
     },
     "execution_count": 38,
     "metadata": {},
     "output_type": "execute_result"
    }
   ],
   "source": [
    "validate_call(root)"
   ]
  },
  {
   "cell_type": "code",
   "execution_count": 39,
   "metadata": {},
   "outputs": [
    {
     "name": "stdout",
     "output_type": "stream",
     "text": [
      "8\n",
      "3\n",
      "4\n",
      "6\n"
     ]
    }
   ],
   "source": [
    "root = None\n",
    "root = insert_not(root, 8)\n",
    "root = insert_not(root, 3)\n",
    "root = insert_not(root, 4)\n",
    "root = insert_not(root, 6)\n",
    "\n",
    "inorder(root)"
   ]
  },
  {
   "cell_type": "code",
   "execution_count": 33,
   "metadata": {},
   "outputs": [
    {
     "data": {
      "text/plain": [
       "False"
      ]
     },
     "execution_count": 33,
     "metadata": {},
     "output_type": "execute_result"
    }
   ],
   "source": [
    "validate_bst(root)"
   ]
  },
  {
   "cell_type": "code",
   "execution_count": 40,
   "metadata": {},
   "outputs": [
    {
     "data": {
      "text/plain": [
       "False"
      ]
     },
     "execution_count": 40,
     "metadata": {},
     "output_type": "execute_result"
    }
   ],
   "source": [
    "validate_call(root)"
   ]
  },
  {
   "cell_type": "markdown",
   "metadata": {},
   "source": [
    "----\n",
    "__4.6 Successor:__ Write an algorithm to find the \"next\" node (i.e., in-order successor ) of a given node in a binary search tree. You may assume that each node has a link to its parent."
   ]
  },
  {
   "cell_type": "code",
   "execution_count": 10,
   "metadata": {},
   "outputs": [],
   "source": [
    "class Node:\n",
    "    \n",
    "    def __init__(self, value, parent):\n",
    "        self.key = value\n",
    "        self.parent = parent\n",
    "        self.left = None\n",
    "        self.right = None\n",
    "        \n",
    "def insert(root, value, parent = None):\n",
    "    if root is None:\n",
    "        return Node(value, parent)\n",
    "    if value < root.key:\n",
    "        root.left = insert(root.left, value, root)\n",
    "    if value > root.key:\n",
    "        root.right = insert(root.right, value, root)\n",
    "    return root\n",
    "        \n",
    "def inorder(root):\n",
    "    if root is not None:\n",
    "        inorder(root.left)\n",
    "        print(root.key)\n",
    "        inorder(root.right)\n",
    "    \n",
    "def find(root, value):\n",
    "    if root is None:\n",
    "        return None\n",
    "    if root.key == value:\n",
    "        return root\n",
    "    if value < root.key:\n",
    "        return find(root.left, value)\n",
    "    if value > root.key:\n",
    "        return find(root.right, value)"
   ]
  },
  {
   "cell_type": "code",
   "execution_count": 19,
   "metadata": {},
   "outputs": [],
   "source": [
    "def find_up(root):\n",
    "    if root.parent is None:\n",
    "        return None\n",
    "    if root.parent.right == root:\n",
    "        return find_up(root.parent)\n",
    "    if root.parent.left == root:\n",
    "        return root.parent.key\n",
    "    \n",
    "def find_down(root):\n",
    "    if root.left is None:\n",
    "        return root.key\n",
    "    return find_down(root.left)\n",
    "    \n",
    "    \n",
    "def successor(root):\n",
    "    return find_up(root) if root.right is None else find_down(root.right)"
   ]
  },
  {
   "cell_type": "code",
   "execution_count": 20,
   "metadata": {},
   "outputs": [
    {
     "name": "stdout",
     "output_type": "stream",
     "text": [
      "1\n",
      "3\n",
      "4\n",
      "5\n",
      "7\n",
      "8\n",
      "12\n",
      "15\n",
      "18\n",
      "30\n",
      "35\n"
     ]
    }
   ],
   "source": [
    "root = None\n",
    "root = insert(root, 15)\n",
    "root = insert(root, 5)\n",
    "root = insert(root, 30)\n",
    "root = insert(root, 8)\n",
    "root = insert(root, 3)\n",
    "root = insert(root, 18)\n",
    "root = insert(root, 35)\n",
    "root = insert(root, 1)\n",
    "root = insert(root, 4)\n",
    "root = insert(root, 7)\n",
    "root = insert(root, 12)\n",
    "\n",
    "inorder(root)"
   ]
  },
  {
   "cell_type": "code",
   "execution_count": 32,
   "metadata": {},
   "outputs": [
    {
     "data": {
      "text/plain": [
       "7"
      ]
     },
     "execution_count": 32,
     "metadata": {},
     "output_type": "execute_result"
    }
   ],
   "source": [
    "n = find(root, 5)\n",
    "successor(n)"
   ]
  },
  {
   "cell_type": "markdown",
   "metadata": {},
   "source": [
    "-----\n",
    "__4.7 Build Order:__ You are given a list of projects and a list of dependencies (which is a list of pairs of projects, where the second project is dependent on the first project ). All of a project's dependencies must be built before the project is . Find a build order that will allow the projects to be built. If there is no valid build order, return an error.\n",
    "\n",
    "EXAMPLE\n",
    "\n",
    "projects: a, b, c, d, e, f\n",
    "\n",
    "dependencies: (a, d), (f, b), (b, d), (f, a), (d, c)\n",
    "\n",
    "Output: f, e, a, b, d, c"
   ]
  },
  {
   "cell_type": "code",
   "execution_count": 12,
   "metadata": {},
   "outputs": [],
   "source": [
    "def topological_sort(projects:list, depends:list) -> list:\n",
    "    result = []\n",
    "    projects = set(projects)\n",
    "    while projects:\n",
    "        has_previous = {s for (_, s) in depends}\n",
    "        sources = projects - has_previous\n",
    "        if len(sources) == 0:\n",
    "            raise Exception('Can not be sorted')\n",
    "        result.extend(sources)\n",
    "        projects = projects - sources\n",
    "        depends = [(f, s) for (f, s) in depends if f not in sources]\n",
    "    return result"
   ]
  },
  {
   "cell_type": "code",
   "execution_count": 14,
   "metadata": {},
   "outputs": [
    {
     "data": {
      "text/plain": [
       "['e', 'f', 'b', 'a', 'd', 'c']"
      ]
     },
     "execution_count": 14,
     "metadata": {},
     "output_type": "execute_result"
    }
   ],
   "source": [
    "topological_sort(['a', 'b', 'c', 'd', 'e', 'f'], \n",
    "                 [('a', 'd'), ('f', 'b'), ('b', 'd'), ('f', 'a'), ('d', 'c')])"
   ]
  },
  {
   "cell_type": "code",
   "execution_count": 15,
   "metadata": {},
   "outputs": [
    {
     "ename": "Exception",
     "evalue": "Can not be sorted",
     "output_type": "error",
     "traceback": [
      "\u001b[1;31m---------------------------------------------------------------------------\u001b[0m",
      "\u001b[1;31mException\u001b[0m                                 Traceback (most recent call last)",
      "\u001b[1;32m<ipython-input-15-99911180f528>\u001b[0m in \u001b[0;36m<module>\u001b[1;34m\u001b[0m\n\u001b[0;32m      1\u001b[0m topological_sort(['a', 'b', 'c', 'd', 'e', 'f'], \n\u001b[1;32m----> 2\u001b[1;33m                  [('a', 'd'), ('f', 'b'), ('b', 'd'), ('f', 'a'), ('d', 'c'), ('e', 'f'), ('c', 'e')])\n\u001b[0m",
      "\u001b[1;32m<ipython-input-12-1ccd8cadd778>\u001b[0m in \u001b[0;36mtopological_sort\u001b[1;34m(projects, depends)\u001b[0m\n\u001b[0;32m      6\u001b[0m         \u001b[0msources\u001b[0m \u001b[1;33m=\u001b[0m \u001b[0mprojects\u001b[0m \u001b[1;33m-\u001b[0m \u001b[0mhas_previous\u001b[0m\u001b[1;33m\u001b[0m\u001b[1;33m\u001b[0m\u001b[0m\n\u001b[0;32m      7\u001b[0m         \u001b[1;32mif\u001b[0m \u001b[0mlen\u001b[0m\u001b[1;33m(\u001b[0m\u001b[0msources\u001b[0m\u001b[1;33m)\u001b[0m \u001b[1;33m==\u001b[0m \u001b[1;36m0\u001b[0m\u001b[1;33m:\u001b[0m\u001b[1;33m\u001b[0m\u001b[1;33m\u001b[0m\u001b[0m\n\u001b[1;32m----> 8\u001b[1;33m             \u001b[1;32mraise\u001b[0m \u001b[0mException\u001b[0m\u001b[1;33m(\u001b[0m\u001b[1;34m'Can not be sorted'\u001b[0m\u001b[1;33m)\u001b[0m\u001b[1;33m\u001b[0m\u001b[1;33m\u001b[0m\u001b[0m\n\u001b[0m\u001b[0;32m      9\u001b[0m         \u001b[0mresult\u001b[0m\u001b[1;33m.\u001b[0m\u001b[0mextend\u001b[0m\u001b[1;33m(\u001b[0m\u001b[0msources\u001b[0m\u001b[1;33m)\u001b[0m\u001b[1;33m\u001b[0m\u001b[1;33m\u001b[0m\u001b[0m\n\u001b[0;32m     10\u001b[0m         \u001b[0mprojects\u001b[0m \u001b[1;33m=\u001b[0m \u001b[0mprojects\u001b[0m \u001b[1;33m-\u001b[0m \u001b[0msources\u001b[0m\u001b[1;33m\u001b[0m\u001b[1;33m\u001b[0m\u001b[0m\n",
      "\u001b[1;31mException\u001b[0m: Can not be sorted"
     ]
    }
   ],
   "source": [
    "topological_sort(['a', 'b', 'c', 'd', 'e', 'f'], \n",
    "                 [('a', 'd'), ('f', 'b'), ('b', 'd'), ('f', 'a'), ('d', 'c'), ('e', 'f'), ('c', 'e')])"
   ]
  },
  {
   "cell_type": "markdown",
   "metadata": {},
   "source": [
    "-----\n",
    "__4.8 First Common Ancestor:__ Design an algorithm and write code to find the first common ancestor of two nodes in a binary tree. Avoid storing additional nodes in a data structure. \n",
    "\n",
    "NOTE: This is not necessarily a binary search tree.\n",
    "\n",
    "- can we save link to a parent? if yes, just compare two lists, take depth into account."
   ]
  },
  {
   "cell_type": "code",
   "execution_count": 39,
   "metadata": {},
   "outputs": [],
   "source": [
    "import random\n",
    "random.seed(1)"
   ]
  },
  {
   "cell_type": "code",
   "execution_count": 40,
   "metadata": {},
   "outputs": [],
   "source": [
    "class Node:\n",
    "\n",
    "    def __init__(self, key):\n",
    "        self.key = key\n",
    "        self.left = None\n",
    "        self.right = None\n",
    "        \n",
    "\n",
    "def inorder(root):\n",
    "    if root is not None:\n",
    "        inorder(root.left)\n",
    "        print(root.key)\n",
    "        inorder(root.right)\n",
    "        \n",
    "def insert_rand(root, key):\n",
    "    if root is None:\n",
    "        return Node(key)\n",
    "    r = random.random()\n",
    "    if r < 0.5:\n",
    "        root.left = insert_rand(root.left, key)\n",
    "    else:\n",
    "        root.right = insert_rand(root.right, key)\n",
    "    return root"
   ]
  },
  {
   "cell_type": "code",
   "execution_count": 41,
   "metadata": {},
   "outputs": [
    {
     "name": "stdout",
     "output_type": "stream",
     "text": [
      "13\n",
      "8\n",
      "15\n",
      "5\n",
      "10\n",
      "7\n",
      "3\n"
     ]
    }
   ],
   "source": [
    "root = None\n",
    "root = insert_rand(root, 5)\n",
    "root = insert_rand(root, 15)\n",
    "root = insert_rand(root, 7)\n",
    "root = insert_rand(root, 10)\n",
    "root = insert_rand(root, 13)\n",
    "root = insert_rand(root, 3)\n",
    "root = insert_rand(root, 8)\n",
    "inorder(root)"
   ]
  },
  {
   "cell_type": "code",
   "execution_count": 42,
   "metadata": {},
   "outputs": [],
   "source": [
    "def intree(root, value):\n",
    "    if root is None:\n",
    "        return False\n",
    "    if root.key == value:\n",
    "        return True\n",
    "    return intree(root.left, value) or intree(root.right, value)\n",
    "\n",
    "def ancestor_helper(root, fst, snd):\n",
    "    if root is None:\n",
    "        return None\n",
    "    if (root.key == fst) or (root.key == snd):\n",
    "        return root.key\n",
    "    \n",
    "    fst_on_left = intree(root.left, fst)\n",
    "    snd_on_left = intree(root.left, snd)\n",
    "    if fst_on_left != snd_on_left:\n",
    "        return root.key\n",
    "    else:\n",
    "        if fst_on_left:\n",
    "            return ancestor_helper(root.left, fst, snd)\n",
    "        else:\n",
    "            return ancestor_helper(root.right, fst, snd)\n",
    "    \n",
    "def first_ancestor(root, fst, snd):\n",
    "    if intree(root, fst) and intree(root, snd):\n",
    "        return ancestor_helper(root, fst, snd)\n",
    "    else:\n",
    "        return None"
   ]
  },
  {
   "cell_type": "code",
   "execution_count": 43,
   "metadata": {},
   "outputs": [
    {
     "data": {
      "text/plain": [
       "5"
      ]
     },
     "execution_count": 43,
     "metadata": {},
     "output_type": "execute_result"
    }
   ],
   "source": [
    "first_ancestor(root, 15, 10)"
   ]
  },
  {
   "cell_type": "markdown",
   "metadata": {},
   "source": [
    "----\n",
    "__4.9 BST Sequences:__ A binary search tree was created by traversing through an array from left to right and inserting each element. Given a binary search tree with distinct elements, print all possible arrays that could have led to this tree.\n",
    "\n",
    "EXAMPLE\n",
    "\n",
    "Output: {2, 1, 3} , {2, 3, 1}\n",
    "\n",
    "Hints: #39 , #48 , #66 , #82"
   ]
  },
  {
   "cell_type": "markdown",
   "metadata": {},
   "source": [
    "----\n",
    "__4.10 Check Subtree:__ Tl and T2 are two very large binary trees, with Tl much bigger than T2. Create an algorithm to determine if T2 is a subtree of Tl. A tree T2 is a subtree ofTi if there exists a node n in Ti such that the subtree of n is identical to T2. That is, if you cut off the tree at node n, the two trees would be identical.\n",
    "\n",
    "Hints: #4, #11, #18, #31, #37"
   ]
  },
  {
   "cell_type": "markdown",
   "metadata": {},
   "source": [
    "----\n",
    "__4.11 Random Node:__ You are implementing a binary tree class from scratch which, in addition to insert, find, and delete, has a method getRandomNode() which returns a random node from the tree. All nodes should be equally likely to be chosen. Design and implement an algorithm\n",
    "for getRandomNode, and explain how you would implement the rest of the methods.\n",
    "\n",
    "Hints: #42, #54, #62, #75, #89, #99, #112 , #119"
   ]
  },
  {
   "cell_type": "markdown",
   "metadata": {},
   "source": [
    "----\n",
    "__4.12 Paths with Sum:__ You are given a binary tree in which each node contains an integer value (which might be positive or negative). Design an algorithm to count the number of paths that sum to a given value. The path does not need to start or end at the root or a leaf, but it must go downwards (traveling only from parent nodes to child nodes).\n",
    "\n",
    "Hints: #6, #14, #52, #68, #77, #87, #94, #103, #108, #115"
   ]
  },
  {
   "cell_type": "code",
   "execution_count": null,
   "metadata": {},
   "outputs": [],
   "source": []
  },
  {
   "cell_type": "markdown",
   "metadata": {},
   "source": [
    "112\n",
    "Hints 670\n",
    "Solutions 253"
   ]
  }
 ],
 "metadata": {
  "kernelspec": {
   "display_name": "Python 3",
   "language": "python",
   "name": "python3"
  },
  "language_info": {
   "codemirror_mode": {
    "name": "ipython",
    "version": 3
   },
   "file_extension": ".py",
   "mimetype": "text/x-python",
   "name": "python",
   "nbconvert_exporter": "python",
   "pygments_lexer": "ipython3",
   "version": "3.7.4"
  }
 },
 "nbformat": 4,
 "nbformat_minor": 4
}
