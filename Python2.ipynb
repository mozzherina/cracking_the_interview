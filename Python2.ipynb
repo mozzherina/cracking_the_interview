{
 "cells": [
  {
   "cell_type": "markdown",
   "metadata": {},
   "source": [
    "# Linked Lists"
   ]
  },
  {
   "cell_type": "markdown",
   "metadata": {},
   "source": [
    "__List__\n",
    "\n",
    "- append(value) Adds an element at the end of the list\n",
    "- clear() Removes all the elements from the list\n",
    "- copy() Returns a copy of the list\n",
    "- count(value) Returns the number of elements with the specified value\n",
    "- index(value) Returns the index of the first element with the specified value\n",
    "- insert(position, value) Adds an element at the specified position\n",
    "- pop(position) Removes the element at the specified position, __without parameter__  removes and returns last value from the list \n",
    "- remove(value) Removes the first item with the specified value\n",
    "- reverse() Reverses the order of the list\n",
    "- sort() Sorts the list"
   ]
  },
  {
   "cell_type": "code",
   "execution_count": 1,
   "metadata": {},
   "outputs": [
    {
     "name": "stdout",
     "output_type": "stream",
     "text": [
      "Hi\n",
      ", \n",
      "world\n",
      "!\n"
     ]
    }
   ],
   "source": [
    "my_list = ['Hello', ', ', 'world']\n",
    "my_list[0] = 'Hi'\n",
    "my_list.append('!')\n",
    "for x in my_list:\n",
    "    print(x)"
   ]
  },
  {
   "cell_type": "code",
   "execution_count": 1,
   "metadata": {},
   "outputs": [],
   "source": [
    "class Node:\n",
    "    def __init__(self, key=None):\n",
    "        self.key = key\n",
    "        self.next = None\n",
    "\n",
    "class LinkedList:\n",
    "    def __init__(self):\n",
    "        self.head = None\n",
    "\n",
    "l = LinkedList()\n",
    "l.head = Node(\"Mon\")\n",
    "e2 = Node(\"Tue\")\n",
    "e3 = Node(\"Wed\")\n",
    "l.head.next = e2\n",
    "e2.next = e3"
   ]
  },
  {
   "cell_type": "markdown",
   "metadata": {},
   "source": [
    "------\n",
    "__2.1 Remove Dups:__ Write code to remove duplicates from an unsorted linked list.\n",
    "\n",
    "FOLLOW UP: How would you solve this problem if a temporary buffer is not allowed?\n",
    "\n",
    "- do we need to modify list? or can we create a new one? can just append to a new list\n",
    "- do we need to save the order of elements? if not, can use convertion to set or numpy.unique"
   ]
  },
  {
   "cell_type": "code",
   "execution_count": 1,
   "metadata": {},
   "outputs": [],
   "source": [
    "# O(n)\n",
    "def remove_dups(uns_list):\n",
    "    elements = []\n",
    "    for elem in uns_list:\n",
    "        if elem not in elements:\n",
    "            elements.append(elem)\n",
    "    return elements"
   ]
  },
  {
   "cell_type": "code",
   "execution_count": 2,
   "metadata": {},
   "outputs": [
    {
     "data": {
      "text/plain": [
       "['a', 's', 'd', 'n', 'k', 'f', 'b']"
      ]
     },
     "execution_count": 2,
     "metadata": {},
     "output_type": "execute_result"
    }
   ],
   "source": [
    "remove_dups(list('asdnasdkfbs'))"
   ]
  },
  {
   "cell_type": "code",
   "execution_count": 16,
   "metadata": {},
   "outputs": [],
   "source": [
    "# o(n^2)\n",
    "def remove_dups2(uns_list):\n",
    "    idx = 0\n",
    "    while idx < len(uns_list):\n",
    "        runner = idx + 1\n",
    "        while runner < len(uns_list):\n",
    "            if uns_list[idx] == uns_list[runner]:\n",
    "                uns_list.pop(runner)\n",
    "            else:\n",
    "                runner += 1\n",
    "        idx += 1\n",
    "    return uns_list"
   ]
  },
  {
   "cell_type": "code",
   "execution_count": 17,
   "metadata": {},
   "outputs": [
    {
     "data": {
      "text/plain": [
       "['a', 's', 'd', 'n', 'k', 'f', 'b']"
      ]
     },
     "execution_count": 17,
     "metadata": {},
     "output_type": "execute_result"
    }
   ],
   "source": [
    "remove_dups2(list('asdnasdkfbs'))"
   ]
  },
  {
   "cell_type": "code",
   "execution_count": 18,
   "metadata": {},
   "outputs": [
    {
     "data": {
      "text/plain": [
       "[]"
      ]
     },
     "execution_count": 18,
     "metadata": {},
     "output_type": "execute_result"
    }
   ],
   "source": [
    "remove_dups2(list(''))"
   ]
  },
  {
   "cell_type": "code",
   "execution_count": 19,
   "metadata": {},
   "outputs": [
    {
     "data": {
      "text/plain": [
       "['a']"
      ]
     },
     "execution_count": 19,
     "metadata": {},
     "output_type": "execute_result"
    }
   ],
   "source": [
    "remove_dups2(list('aaaaaaa'))"
   ]
  },
  {
   "cell_type": "code",
   "execution_count": 20,
   "metadata": {},
   "outputs": [
    {
     "data": {
      "text/plain": [
       "['a', 'b', 's']"
      ]
     },
     "execution_count": 20,
     "metadata": {},
     "output_type": "execute_result"
    }
   ],
   "source": [
    "remove_dups2(list('absa'))"
   ]
  },
  {
   "cell_type": "code",
   "execution_count": 27,
   "metadata": {},
   "outputs": [
    {
     "name": "stdout",
     "output_type": "stream",
     "text": [
      "['a' 'b' 'd' 'f' 'k' 'n' 's']\n"
     ]
    }
   ],
   "source": [
    "import numpy as np\n",
    "x = np.array(list('asdnasdkfbs')) \n",
    "print(np.unique(x)) "
   ]
  },
  {
   "cell_type": "markdown",
   "metadata": {},
   "source": [
    "-----\n",
    "__2.2 Return Kth to Last:__ Implement an algorithm to find the kth to last element of a singly linked list.\n",
    "\n",
    "- first count the length, then go from the begginning O(n)\n",
    "- use two pointers, send the first k elements prior to the second O(n)"
   ]
  },
  {
   "cell_type": "code",
   "execution_count": 4,
   "metadata": {},
   "outputs": [],
   "source": [
    "def getKth(my_list, k):\n",
    "    return my_list[-k]"
   ]
  },
  {
   "cell_type": "code",
   "execution_count": 5,
   "metadata": {},
   "outputs": [
    {
     "data": {
      "text/plain": [
       "'f'"
      ]
     },
     "execution_count": 5,
     "metadata": {},
     "output_type": "execute_result"
    }
   ],
   "source": [
    "x = list('asdnasdkfbs')\n",
    "getKth(x, 3)"
   ]
  },
  {
   "cell_type": "markdown",
   "metadata": {},
   "source": [
    "-----\n",
    "__2.3 Delete Middle Node:__ Implement an algorithm to delete a node in the middle (i.e., any node but the first and last node, not necessarily the exact middle) of a singly linked list, given only access to that node.\n",
    "\n",
    "EXAMPLE\n",
    "\n",
    "Input: the node c from the linked list a -> b -> c -> d -> e -> f\n",
    "\n",
    "Result: nothing is returned, but the new linked list looks like a -> b -> d -> e -> f\n",
    "\n",
    "__Solution:__ copy rest of the list"
   ]
  },
  {
   "cell_type": "code",
   "execution_count": 3,
   "metadata": {},
   "outputs": [
    {
     "data": {
      "text/plain": [
       "['a', 's', 'd', 'n', 'a', 's', 'd', 'k', 'b', 's']"
      ]
     },
     "execution_count": 3,
     "metadata": {},
     "output_type": "execute_result"
    }
   ],
   "source": [
    "x = list('asdnasdkfbs')\n",
    "x.pop(-3)\n",
    "x"
   ]
  },
  {
   "cell_type": "markdown",
   "metadata": {},
   "source": [
    "------\n",
    "__2.4 Partition:__ Write code to partition a linked list around a value x, such that all nodes less than x come before all nodes greater than or equal to x. lf x is contained within the list, the values of x only need to be after the elements less than x (see below). The partition element x can appear anywhere in the \"right partition\"; it does not need to appear between the left and right partitions.\n",
    "\n",
    "EXAMPLE\n",
    "\n",
    "`Input: 3 -> 5 -> 8 -> 5 -> 10 -> 2 -> 1 [partition = 5]\n",
    "Output: 3 -> 1 -> 2 -> 10 -> 5 -> 5 -> 8`\n",
    "\n",
    "- using sort() gives result\n",
    "- in Java is better to maintain 2 lists, 3 pointers in total would be enough\n",
    "- can be easier to create only one new list (add smaller as a head, and bigger at the tail)"
   ]
  },
  {
   "cell_type": "code",
   "execution_count": 4,
   "metadata": {},
   "outputs": [
    {
     "data": {
      "text/plain": [
       "[1, 2, 3, 5, 5, 8, 10]"
      ]
     },
     "execution_count": 4,
     "metadata": {},
     "output_type": "execute_result"
    }
   ],
   "source": [
    "x = [3, 5, 8, 5, 10, 2, 1]\n",
    "x.sort()\n",
    "x"
   ]
  },
  {
   "cell_type": "code",
   "execution_count": 10,
   "metadata": {},
   "outputs": [],
   "source": [
    "# O(n)\n",
    "def partition(my_list, p):\n",
    "    result = []\n",
    "    for x in my_list:\n",
    "        if x < p:\n",
    "            result.insert(0, x)\n",
    "        else:\n",
    "            result.append(x)\n",
    "    return result"
   ]
  },
  {
   "cell_type": "code",
   "execution_count": 11,
   "metadata": {},
   "outputs": [
    {
     "data": {
      "text/plain": [
       "[1, 2, 3, 5, 8, 5, 10]"
      ]
     },
     "execution_count": 11,
     "metadata": {},
     "output_type": "execute_result"
    }
   ],
   "source": [
    "partition([3, 5, 8, 5, 10, 2, 1], 5)"
   ]
  },
  {
   "cell_type": "markdown",
   "metadata": {},
   "source": [
    "-----\n",
    "__2.5 Sum Lists:__ You have two numbers represented by a linked list, where each node contains a single digit. The digits are stored in reverse order, such that the 1's digit is at the head of the list. Write a function that adds the two numbers and returns the sum as a linked list.\n",
    "\n",
    "EXAMPLE\n",
    "\n",
    "Input: `7 -> 1 -> 6 + 5 -> 9 -> 2` That is, 617 + 295.\n",
    "\n",
    "Output: `2 -> 1 -> 9` That is, 912.\n",
    "\n",
    "FOLLOW UP\n",
    "Suppose the digits are stored in forward order. Repeat the above problem.\n",
    "\n",
    "EXAMPLE\n",
    "\n",
    "Input: `6 -> 1 -> 7 + 2 -> 9 -> 5` That is, 617 + 295.\n",
    "\n",
    "Output: `9 -> 1 -> 2` That is, 912.\n",
    "\n",
    "- the first one can be done iteratively\n",
    "- the second is easier solved recursively, if add '0000' at the beginning of the shorter list"
   ]
  },
  {
   "cell_type": "code",
   "execution_count": 15,
   "metadata": {},
   "outputs": [],
   "source": [
    "def sum_from_end(fst, snd):\n",
    "    lng = fst if len(fst) >= len(snd) else snd\n",
    "    sml = fst if len(fst) < len(snd) else snd\n",
    "    i = 0\n",
    "    result = []\n",
    "    prev = 0\n",
    "    while i < len(sml):\n",
    "        s = lng[i] + sml[i] + prev\n",
    "        result.append(s % 10)\n",
    "        prev = s // 10\n",
    "        i +=1\n",
    "    while i < len(lng):\n",
    "        s = lng[i] + prev\n",
    "        result.append(s % 10)\n",
    "        prev = s // 10\n",
    "        i +=1\n",
    "    if prev > 0:\n",
    "        result.append(prev)\n",
    "    return result"
   ]
  },
  {
   "cell_type": "code",
   "execution_count": 16,
   "metadata": {},
   "outputs": [
    {
     "data": {
      "text/plain": [
       "[2, 1, 9]"
      ]
     },
     "execution_count": 16,
     "metadata": {},
     "output_type": "execute_result"
    }
   ],
   "source": [
    "sum_from_end([7, 1, 6], [5, 9, 2])"
   ]
  },
  {
   "cell_type": "code",
   "execution_count": 17,
   "metadata": {},
   "outputs": [
    {
     "data": {
      "text/plain": [
       "[5, 9, 2]"
      ]
     },
     "execution_count": 17,
     "metadata": {},
     "output_type": "execute_result"
    }
   ],
   "source": [
    "sum_from_end([], [5, 9, 2])"
   ]
  },
  {
   "cell_type": "code",
   "execution_count": 18,
   "metadata": {},
   "outputs": [
    {
     "data": {
      "text/plain": [
       "[5, 9, 2, 1]"
      ]
     },
     "execution_count": 18,
     "metadata": {},
     "output_type": "execute_result"
    }
   ],
   "source": [
    "sum_from_end([0, 0, 0, 1], [5, 9, 2])"
   ]
  },
  {
   "cell_type": "code",
   "execution_count": 19,
   "metadata": {},
   "outputs": [
    {
     "data": {
      "text/plain": [
       "[5, 6, 4, 1]"
      ]
     },
     "execution_count": 19,
     "metadata": {},
     "output_type": "execute_result"
    }
   ],
   "source": [
    "sum_from_end([9, 7, 8], [6, 8, 5])"
   ]
  },
  {
   "cell_type": "markdown",
   "metadata": {},
   "source": [
    "-----\n",
    "__2.6 Palindrome:__ Implement a function to check if a linked list is a palindrome.\n",
    "\n",
    "- while counting length, reverse a copy of list\n",
    "- compare two lists from the beginning up to the middle point\n",
    "- if we don't know the length of the list, use runner technique to reach the middle, and save elements to stack (list, use pop())"
   ]
  },
  {
   "cell_type": "code",
   "execution_count": 7,
   "metadata": {},
   "outputs": [],
   "source": [
    "def palindrome(my_list) -> bool:\n",
    "    i = 0\n",
    "    for i in range(len(my_list) // 2):\n",
    "        if my_list[i] != my_list[-i-1]:\n",
    "            return False\n",
    "    return True"
   ]
  },
  {
   "cell_type": "code",
   "execution_count": 8,
   "metadata": {},
   "outputs": [
    {
     "data": {
      "text/plain": [
       "True"
      ]
     },
     "execution_count": 8,
     "metadata": {},
     "output_type": "execute_result"
    }
   ],
   "source": [
    "palindrome([])"
   ]
  },
  {
   "cell_type": "code",
   "execution_count": 9,
   "metadata": {},
   "outputs": [
    {
     "data": {
      "text/plain": [
       "True"
      ]
     },
     "execution_count": 9,
     "metadata": {},
     "output_type": "execute_result"
    }
   ],
   "source": [
    "palindrome([1, 1])"
   ]
  },
  {
   "cell_type": "code",
   "execution_count": 10,
   "metadata": {},
   "outputs": [
    {
     "data": {
      "text/plain": [
       "True"
      ]
     },
     "execution_count": 10,
     "metadata": {},
     "output_type": "execute_result"
    }
   ],
   "source": [
    "palindrome([1, 2, 3, 2, 1])"
   ]
  },
  {
   "cell_type": "code",
   "execution_count": 11,
   "metadata": {},
   "outputs": [
    {
     "data": {
      "text/plain": [
       "True"
      ]
     },
     "execution_count": 11,
     "metadata": {},
     "output_type": "execute_result"
    }
   ],
   "source": [
    "palindrome([1, 2, 3, 3, 2, 1])"
   ]
  },
  {
   "cell_type": "code",
   "execution_count": 12,
   "metadata": {},
   "outputs": [
    {
     "data": {
      "text/plain": [
       "False"
      ]
     },
     "execution_count": 12,
     "metadata": {},
     "output_type": "execute_result"
    }
   ],
   "source": [
    "palindrome([1, 2, 3, 4, 2, 1])"
   ]
  },
  {
   "cell_type": "markdown",
   "metadata": {},
   "source": [
    "-----\n",
    "__2.7 Intersection:__ Given two (singly) linked lists, determine if the two lists intersect. Return the intersecting node. Note that the intersection is defined based on reference, not value. That is, if the kth node of the first linked list is the exact same node (by reference) as the jth node of the second linked list, then they are intersecting.\n",
    "\n",
    "- since by reference, all the rest nodes must be the same\n",
    "- comparing from the end, last node must be equal\n",
    "- if length is known, can compare from the beginning"
   ]
  },
  {
   "cell_type": "markdown",
   "metadata": {},
   "source": [
    "------\n",
    "__2.8 Loop Detection:__ Given a circular linked list, implement an algorithm that returns the node at the beginning of the loop.\n",
    "\n",
    "DEFINITION\n",
    "\n",
    "Circular linked list: A (corrupt) linked list in which a node's next pointer points to an earlier node, so as to make a loop in the linked list.\n",
    "\n",
    "EXAMPLE\n",
    "\n",
    "Input: A -> B -> C -> D -> E -> C (the same C as earlier)\n",
    "\n",
    "Output: C\n",
    "\n",
    "- runner technique, if there is a loop, once meet"
   ]
  }
 ],
 "metadata": {
  "kernelspec": {
   "display_name": "Python 3",
   "language": "python",
   "name": "python3"
  },
  "language_info": {
   "codemirror_mode": {
    "name": "ipython",
    "version": 3
   },
   "file_extension": ".py",
   "mimetype": "text/x-python",
   "name": "python",
   "nbconvert_exporter": "python",
   "pygments_lexer": "ipython3",
   "version": "3.7.4"
  }
 },
 "nbformat": 4,
 "nbformat_minor": 4
}
